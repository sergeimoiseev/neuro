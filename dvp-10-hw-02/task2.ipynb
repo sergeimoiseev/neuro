{
 "metadata": {
  "language_info": {
   "codemirror_mode": {
    "name": "ipython",
    "version": 3
   },
   "file_extension": ".py",
   "mimetype": "text/x-python",
   "name": "python",
   "nbconvert_exporter": "python",
   "pygments_lexer": "ipython3",
   "version": "3.8.5-final"
  },
  "orig_nbformat": 2,
  "kernelspec": {
   "name": "python3",
   "display_name": "Python 3.8.5 64-bit ('uoit': conda)",
   "metadata": {
    "interpreter": {
     "hash": "26d424bfc1230b0c30211611c2aa3c9b9b27c0aba4441f1e20f124f124483991"
    }
   }
  }
 },
 "nbformat": 4,
 "nbformat_minor": 2,
 "cells": [
  {
   "cell_type": "code",
   "execution_count": 1,
   "metadata": {},
   "outputs": [],
   "source": [
    "import pandas as pd\n",
    "import numpy as np\n",
    "from lreg import LogisticRegression as lr\n",
    "from sklearn.preprocessing import LabelEncoder\n",
    "from sklearn import datasets\n",
    "from sklearn.pipeline import make_pipeline\n",
    "from sklearn.preprocessing import OneHotEncoder, StandardScaler\n",
    "from sklearn.model_selection import train_test_split\n",
    "from sklearn.metrics import accuracy_score\n",
    "\n",
    "import matplotlib.pyplot as plt\n",
    "import time"
   ]
  },
  {
   "cell_type": "code",
   "execution_count": 2,
   "metadata": {},
   "outputs": [],
   "source": [
    "iris = datasets.load_iris()\n",
    "df = pd.DataFrame(data= np.c_[iris['data'], iris['target']],\n",
    "                     columns= iris['feature_names'] + ['target'])\n",
    "idf = df[df.target.isin([1,2])]"
   ]
  },
  {
   "cell_type": "code",
   "execution_count": 3,
   "metadata": {},
   "outputs": [
    {
     "output_type": "execute_result",
     "data": {
      "text/plain": [
       "     sepal length (cm)  sepal width (cm)  petal length (cm)  petal width (cm)  \\\n",
       "0                  5.1               3.5                1.4               0.2   \n",
       "1                  4.9               3.0                1.4               0.2   \n",
       "2                  4.7               3.2                1.3               0.2   \n",
       "3                  4.6               3.1                1.5               0.2   \n",
       "4                  5.0               3.6                1.4               0.2   \n",
       "..                 ...               ...                ...               ...   \n",
       "145                6.7               3.0                5.2               2.3   \n",
       "146                6.3               2.5                5.0               1.9   \n",
       "147                6.5               3.0                5.2               2.0   \n",
       "148                6.2               3.4                5.4               2.3   \n",
       "149                5.9               3.0                5.1               1.8   \n",
       "\n",
       "     target  \n",
       "0       0.0  \n",
       "1       0.0  \n",
       "2       0.0  \n",
       "3       0.0  \n",
       "4       0.0  \n",
       "..      ...  \n",
       "145     2.0  \n",
       "146     2.0  \n",
       "147     2.0  \n",
       "148     2.0  \n",
       "149     2.0  \n",
       "\n",
       "[150 rows x 5 columns]"
      ],
      "text/html": "<div>\n<style scoped>\n    .dataframe tbody tr th:only-of-type {\n        vertical-align: middle;\n    }\n\n    .dataframe tbody tr th {\n        vertical-align: top;\n    }\n\n    .dataframe thead th {\n        text-align: right;\n    }\n</style>\n<table border=\"1\" class=\"dataframe\">\n  <thead>\n    <tr style=\"text-align: right;\">\n      <th></th>\n      <th>sepal length (cm)</th>\n      <th>sepal width (cm)</th>\n      <th>petal length (cm)</th>\n      <th>petal width (cm)</th>\n      <th>target</th>\n    </tr>\n  </thead>\n  <tbody>\n    <tr>\n      <th>0</th>\n      <td>5.1</td>\n      <td>3.5</td>\n      <td>1.4</td>\n      <td>0.2</td>\n      <td>0.0</td>\n    </tr>\n    <tr>\n      <th>1</th>\n      <td>4.9</td>\n      <td>3.0</td>\n      <td>1.4</td>\n      <td>0.2</td>\n      <td>0.0</td>\n    </tr>\n    <tr>\n      <th>2</th>\n      <td>4.7</td>\n      <td>3.2</td>\n      <td>1.3</td>\n      <td>0.2</td>\n      <td>0.0</td>\n    </tr>\n    <tr>\n      <th>3</th>\n      <td>4.6</td>\n      <td>3.1</td>\n      <td>1.5</td>\n      <td>0.2</td>\n      <td>0.0</td>\n    </tr>\n    <tr>\n      <th>4</th>\n      <td>5.0</td>\n      <td>3.6</td>\n      <td>1.4</td>\n      <td>0.2</td>\n      <td>0.0</td>\n    </tr>\n    <tr>\n      <th>...</th>\n      <td>...</td>\n      <td>...</td>\n      <td>...</td>\n      <td>...</td>\n      <td>...</td>\n    </tr>\n    <tr>\n      <th>145</th>\n      <td>6.7</td>\n      <td>3.0</td>\n      <td>5.2</td>\n      <td>2.3</td>\n      <td>2.0</td>\n    </tr>\n    <tr>\n      <th>146</th>\n      <td>6.3</td>\n      <td>2.5</td>\n      <td>5.0</td>\n      <td>1.9</td>\n      <td>2.0</td>\n    </tr>\n    <tr>\n      <th>147</th>\n      <td>6.5</td>\n      <td>3.0</td>\n      <td>5.2</td>\n      <td>2.0</td>\n      <td>2.0</td>\n    </tr>\n    <tr>\n      <th>148</th>\n      <td>6.2</td>\n      <td>3.4</td>\n      <td>5.4</td>\n      <td>2.3</td>\n      <td>2.0</td>\n    </tr>\n    <tr>\n      <th>149</th>\n      <td>5.9</td>\n      <td>3.0</td>\n      <td>5.1</td>\n      <td>1.8</td>\n      <td>2.0</td>\n    </tr>\n  </tbody>\n</table>\n<p>150 rows × 5 columns</p>\n</div>"
     },
     "metadata": {},
     "execution_count": 3
    }
   ],
   "source": [
    "df"
   ]
  },
  {
   "cell_type": "code",
   "execution_count": 4,
   "metadata": {},
   "outputs": [],
   "source": [
    "\n",
    "scaler = StandardScaler()\n",
    "\n",
    "cols_to_norm = [\n",
    "'sepal length (cm)',\n",
    "'sepal width (cm)',\n",
    " 'petal length (cm)',\n",
    " 'petal width (cm)'\n",
    " ]\n",
    "# X = idf.copy()\n",
    "\n",
    "# idf.hist(column='sepal length (cm)',bins=100) # before scaling\n",
    "\n",
    "X = pd.DataFrame(scaler.fit_transform(idf[cols_to_norm]),columns=cols_to_norm)\n",
    "# dff.hist(column='sepal length (cm)',bins=100) # after scaling\n",
    "\n",
    "X = X.apply(pd.to_numeric)"
   ]
  },
  {
   "cell_type": "code",
   "execution_count": 5,
   "metadata": {},
   "outputs": [],
   "source": [
    "le = LabelEncoder()\n",
    "le.fit( idf['target'] )\n",
    "y = pd.Series( data = le.transform( idf['target'] ) )\n",
    "\n",
    "test_s = 50\n",
    "train_s = 50\n",
    "\n",
    "X_train, X_test, y_train, y_test = train_test_split(X, y, test_size=test_s, train_size=train_s, random_state=42)"
   ]
  },
  {
   "cell_type": "code",
   "execution_count": 6,
   "metadata": {},
   "outputs": [
    {
     "output_type": "execute_result",
     "data": {
      "text/plain": [
       "array([-0.25077906, -0.49425387, -0.00730424, -1.10294091, -0.37251647,\n",
       "       -0.49425387, -0.25077906, -1.95510276, -0.37251647, -1.22467832,\n",
       "       -1.71162795, -0.8594661 , -1.10294091, -0.25077906, -1.58989054,\n",
       "       -0.61599128, -0.49425387, -0.9812035 , -0.49425387, -1.22467832,\n",
       "       -0.12904165, -1.10294091, -0.00730424, -0.25077906, -0.73772869,\n",
       "       -0.61599128, -0.12904165,  0.11443316, -0.49425387, -1.71162795,\n",
       "       -1.34641572, -1.46815313, -1.22467832,  0.23617057, -0.49425387,\n",
       "       -0.49425387, -0.25077906, -0.61599128, -0.9812035 , -1.10294091,\n",
       "       -0.61599128, -0.37251647, -1.10294091, -1.95510276, -0.8594661 ,\n",
       "       -0.8594661 , -0.8594661 , -0.73772869, -2.32031498, -0.9812035 ,\n",
       "        1.33180724,  0.23617057,  1.21006983,  0.84485761,  1.08833242,\n",
       "        2.06223168, -0.49425387,  1.69701946,  1.08833242,  1.45354464,\n",
       "        0.23617057,  0.47964538,  0.7231202 ,  0.11443316,  0.23617057,\n",
       "        0.47964538,  0.7231202 ,  2.18396909,  2.4274439 ,  0.11443316,\n",
       "        0.96659501, -0.00730424,  2.18396909, -0.00730424,  0.96659501,\n",
       "        1.33180724, -0.12904165, -0.00730424,  0.84485761,  1.08833242,\n",
       "        1.45354464,  1.81875686,  0.84485761,  0.23617057,  0.84485761,\n",
       "        1.45354464,  0.84485761,  0.7231202 , -0.12904165,  0.60138279,\n",
       "        0.84485761,  0.23617057,  0.23617057,  1.21006983,  0.96659501,\n",
       "        0.35790798,  0.11443316,  0.35790798,  0.60138279,  0.23617057])"
      ]
     },
     "metadata": {},
     "execution_count": 6
    }
   ],
   "source": [
    "N, M = X.shape\n",
    "rand_ind = np.random.randint(0,M)\n",
    "Xn = X.to_numpy()\n",
    "Xn[:,rand_ind]"
   ]
  },
  {
   "cell_type": "code",
   "execution_count": 7,
   "metadata": {},
   "outputs": [
    {
     "output_type": "execute_result",
     "data": {
      "text/plain": [
       "0.92"
      ]
     },
     "metadata": {},
     "execution_count": 7
    }
   ],
   "source": [
    "model = lr()\n",
    "model.fit( X_train, y_train, lr=0.01, max_iter=1e4, method='gd' )\n",
    "accuracy_score(y_test,  model.predict(X_test).round())"
   ]
  },
  {
   "cell_type": "code",
   "execution_count": 8,
   "metadata": {},
   "outputs": [
    {
     "output_type": "execute_result",
     "data": {
      "text/plain": [
       "0.94"
      ]
     },
     "metadata": {},
     "execution_count": 8
    }
   ],
   "source": [
    "model = lr()\n",
    "model.fit( X_train, y_train, lr=0.01, max_iter=1e4, method='sgd' )\n",
    "accuracy_score(y_test,  model.predict(X_test).round())"
   ]
  },
  {
   "cell_type": "code",
   "execution_count": 9,
   "metadata": {},
   "outputs": [
    {
     "output_type": "stream",
     "name": "stdout",
     "text": [
      "5.206702470779419\n\nscore:\n"
     ]
    },
    {
     "output_type": "execute_result",
     "data": {
      "text/plain": [
       "0.92"
      ]
     },
     "metadata": {},
     "execution_count": 9
    }
   ],
   "source": [
    "model = lr()\n",
    "start = time.time()\n",
    "model.fit( X_train, y_train, lr=0.01, max_iter=1e4, method='momentum', hist_w=0. )\n",
    "print(time.time() - start)\n",
    "\n",
    "print('\\nscore:')\n",
    "accuracy_score(y_test,  np.around(model.predict(X_test)))"
   ]
  },
  {
   "cell_type": "code",
   "execution_count": 10,
   "metadata": {},
   "outputs": [
    {
     "output_type": "stream",
     "name": "stdout",
     "text": [
      "5.121544361114502\n\nscore:\n"
     ]
    },
    {
     "output_type": "execute_result",
     "data": {
      "text/plain": [
       "0.9"
      ]
     },
     "metadata": {},
     "execution_count": 10
    }
   ],
   "source": [
    "model = lr()\n",
    "start = time.time()\n",
    "model.fit( X_train, y_train, lr=0.01, max_iter=1e4, method='rmsprop', hist_w=0. )\n",
    "print(time.time() - start)\n",
    "\n",
    "print('\\nscore:')\n",
    "accuracy_score(y_test,  np.around(model.predict(X_test)))"
   ]
  },
  {
   "cell_type": "code",
   "execution_count": 11,
   "metadata": {},
   "outputs": [
    {
     "output_type": "stream",
     "name": "stdout",
     "text": [
      "7.0739898681640625\n\nscore:\n"
     ]
    },
    {
     "output_type": "execute_result",
     "data": {
      "text/plain": [
       "0.92"
      ]
     },
     "metadata": {},
     "execution_count": 11
    }
   ],
   "source": [
    "model = lr()\n",
    "start = time.time()\n",
    "model.fit( X_train, y_train, lr=0.01, max_iter=1e4, method='nag', hist_w=0. )\n",
    "print(time.time() - start)\n",
    "\n",
    "print('\\nscore:')\n",
    "accuracy_score(y_test,  np.around(model.predict(X_test)))"
   ]
  },
  {
   "cell_type": "code",
   "execution_count": 12,
   "metadata": {},
   "outputs": [
    {
     "output_type": "stream",
     "name": "stdout",
     "text": [
      "0.002000093460083008\n\nscore:\n"
     ]
    },
    {
     "output_type": "execute_result",
     "data": {
      "text/plain": [
       "0.7"
      ]
     },
     "metadata": {},
     "execution_count": 12
    }
   ],
   "source": [
    "# для оценки адекватности оценки - метод, который возвращает рандомный результат\n",
    "model = lr()\n",
    "start = time.time()\n",
    "model.fit( X_train, y_train, lr=0.01, max_iter=1e4, method='not-a-real-method' )\n",
    "print(time.time() - start)\n",
    "\n",
    "print('\\nscore:')\n",
    "accuracy_score(y_test,  np.around(model.predict(X_test)))"
   ]
  },
  {
   "cell_type": "code",
   "execution_count": 13,
   "metadata": {},
   "outputs": [
    {
     "output_type": "stream",
     "name": "stdout",
     "text": [
      "5.429272413253784\n\nscore:\n"
     ]
    },
    {
     "output_type": "execute_result",
     "data": {
      "text/plain": [
       "0.92"
      ]
     },
     "metadata": {},
     "execution_count": 13
    }
   ],
   "source": [
    "# Контрольный расчет: проверить, что ничего основного не сломано - numply_ml без изменений, sgd\n",
    "from lreg_numpyml_pure import LogisticRegression as lr_p\n",
    "model = lr_p()\n",
    "start = time.time()\n",
    "model.fit( X_train, y_train, lr=0.01, max_iter=1e4)\n",
    "print(time.time() - start)\n",
    "\n",
    "print('\\nscore:')\n",
    "accuracy_score(y_test,  np.around(model.predict(X_test)))"
   ]
  }
 ]
}