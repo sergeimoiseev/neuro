{
 "metadata": {
  "language_info": {
   "codemirror_mode": {
    "name": "ipython",
    "version": 3
   },
   "file_extension": ".py",
   "mimetype": "text/x-python",
   "name": "python",
   "nbconvert_exporter": "python",
   "pygments_lexer": "ipython3",
   "version": "3.8.5-final"
  },
  "orig_nbformat": 2,
  "kernelspec": {
   "name": "python3",
   "display_name": "Python 3.8.5 64-bit ('uoit': conda)",
   "metadata": {
    "interpreter": {
     "hash": "26d424bfc1230b0c30211611c2aa3c9b9b27c0aba4441f1e20f124f124483991"
    }
   }
  }
 },
 "nbformat": 4,
 "nbformat_minor": 2,
 "cells": [
  {
   "cell_type": "code",
   "execution_count": 1,
   "metadata": {},
   "outputs": [],
   "source": [
    "import pandas as pd\n",
    "import numpy as np\n",
    "from lreg import LogisticRegression as lr\n",
    "from sklearn.preprocessing import LabelEncoder\n",
    "from sklearn.linear_model import LogisticRegression\n",
    "\n",
    "from sklearn.pipeline import make_pipeline\n",
    "from sklearn.preprocessing import OneHotEncoder, StandardScaler\n",
    "from sklearn.model_selection import train_test_split\n",
    "\n",
    "# from sklearn.pipeline import Pipeline, FeatureUnion\n",
    "# from sklearn.preprocessing import OneHotEncoder, StandardScaler\n",
    "\n",
    "from sklearn.svm import SVC\n",
    "\n",
    "import matplotlib.pyplot as plt\n",
    "\n",
    "import time"
   ]
  },
  {
   "cell_type": "code",
   "execution_count": 2,
   "metadata": {},
   "outputs": [
    {
     "output_type": "execute_result",
     "data": {
      "text/plain": [
       "Index(['age', 'workclass', 'fnlwgt', 'education', 'educational-num',\n",
       "       'marital-status', 'occupation', 'relationship', 'race', 'gender',\n",
       "       'capital-gain', 'capital-loss', 'hours-per-week', 'native-country',\n",
       "       'income'],\n",
       "      dtype='object')"
      ]
     },
     "metadata": {},
     "execution_count": 2
    }
   ],
   "source": [
    "# читаем датасет\n",
    "df = pd.read_csv( 'adult.csv' )\n",
    "# все признаки\n",
    "df.columns"
   ]
  },
  {
   "cell_type": "code",
   "execution_count": 3,
   "metadata": {},
   "outputs": [],
   "source": [
    "# анализируемые признаки\n",
    "used_cols = [\n",
    "        'age', # гаусс, но обрезанный, только больше 12 лет где-то - https://prnt.sc/w82zxx  - можно попробовать нормировать\n",
    "    'workclass',  # отключено для ускорения переписанной numpy-ml\n",
    "    # 'fnlwgt', # пока не трогаю, оценку ухудшает\n",
    "    #  'education', # есть цифровой признак - этот не нужен - попробовал, ухудшает score\n",
    "        'educational-num', # можно попробовать нормировать - есть центральные максимумы, хвост слева, но посередине дырка\n",
    "    #    'marital-status',  # отключено для ускорения переписанной numpy-ml\n",
    "    #    'occupation',  # отключено для ускорения переписанной numpy-ml\n",
    "    #    'relationship',  # отключено для ускорения переписанной numpy-ml\n",
    "    #    'race',  # отключено для ускорения переписанной numpy-ml\n",
    "    #    'gender', #  # отключено для ускорения переписанной numpy-ml\n",
    "    #    'capital-gain', # распределение скорее пуассоновское  # отключено для ускорения переписанной numpy-ml\n",
    "      #  'capital-loss', # очень мало не 0 -  сильно (на 3%) ухудшает score. странно, может нужно с обратным знаком брать?\n",
    "    #    'hours-per-week', # отключено для ускорения переписанной numpy-ml\n",
    "    #    'native-country', # интересно - ухудшает оценку\n",
    "    #    'income' - целевой признак\n",
    "       ]\n",
    "# нечисловые признаки\n",
    "cat_cols = ['gender', 'race', 'marital-status','occupation','relationship','education','workclass', 'native-country',\n",
    "#  'capital-loss'\n",
    " ]\n"
   ]
  },
  {
   "cell_type": "code",
   "execution_count": 4,
   "metadata": {},
   "outputs": [
    {
     "output_type": "execute_result",
     "data": {
      "text/plain": [
       "            age     workclass  educational-num\n",
       "0     -0.995129       Private        -1.197259\n",
       "1     -0.046942       Private        -0.419335\n",
       "2     -0.776316     Local-gov         0.747550\n",
       "3      0.390683       Private        -0.030373\n",
       "4     -1.505691             ?        -0.030373\n",
       "...         ...           ...              ...\n",
       "48837 -0.849254       Private         0.747550\n",
       "48838  0.098933       Private        -0.419335\n",
       "48839  1.411808       Private        -0.419335\n",
       "48840 -1.213941       Private        -0.419335\n",
       "48841  0.974183  Self-emp-inc        -0.419335\n",
       "\n",
       "[48842 rows x 3 columns]"
      ],
      "text/html": "<div>\n<style scoped>\n    .dataframe tbody tr th:only-of-type {\n        vertical-align: middle;\n    }\n\n    .dataframe tbody tr th {\n        vertical-align: top;\n    }\n\n    .dataframe thead th {\n        text-align: right;\n    }\n</style>\n<table border=\"1\" class=\"dataframe\">\n  <thead>\n    <tr style=\"text-align: right;\">\n      <th></th>\n      <th>age</th>\n      <th>workclass</th>\n      <th>educational-num</th>\n    </tr>\n  </thead>\n  <tbody>\n    <tr>\n      <th>0</th>\n      <td>-0.995129</td>\n      <td>Private</td>\n      <td>-1.197259</td>\n    </tr>\n    <tr>\n      <th>1</th>\n      <td>-0.046942</td>\n      <td>Private</td>\n      <td>-0.419335</td>\n    </tr>\n    <tr>\n      <th>2</th>\n      <td>-0.776316</td>\n      <td>Local-gov</td>\n      <td>0.747550</td>\n    </tr>\n    <tr>\n      <th>3</th>\n      <td>0.390683</td>\n      <td>Private</td>\n      <td>-0.030373</td>\n    </tr>\n    <tr>\n      <th>4</th>\n      <td>-1.505691</td>\n      <td>?</td>\n      <td>-0.030373</td>\n    </tr>\n    <tr>\n      <th>...</th>\n      <td>...</td>\n      <td>...</td>\n      <td>...</td>\n    </tr>\n    <tr>\n      <th>48837</th>\n      <td>-0.849254</td>\n      <td>Private</td>\n      <td>0.747550</td>\n    </tr>\n    <tr>\n      <th>48838</th>\n      <td>0.098933</td>\n      <td>Private</td>\n      <td>-0.419335</td>\n    </tr>\n    <tr>\n      <th>48839</th>\n      <td>1.411808</td>\n      <td>Private</td>\n      <td>-0.419335</td>\n    </tr>\n    <tr>\n      <th>48840</th>\n      <td>-1.213941</td>\n      <td>Private</td>\n      <td>-0.419335</td>\n    </tr>\n    <tr>\n      <th>48841</th>\n      <td>0.974183</td>\n      <td>Self-emp-inc</td>\n      <td>-0.419335</td>\n    </tr>\n  </tbody>\n</table>\n<p>48842 rows × 3 columns</p>\n</div>"
     },
     "metadata": {},
     "execution_count": 4
    },
    {
     "output_type": "display_data",
     "data": {
      "text/plain": "<Figure size 432x288 with 1 Axes>",
      "image/svg+xml": "<?xml version=\"1.0\" encoding=\"utf-8\" standalone=\"no\"?>\r\n<!DOCTYPE svg PUBLIC \"-//W3C//DTD SVG 1.1//EN\"\r\n  \"http://www.w3.org/Graphics/SVG/1.1/DTD/svg11.dtd\">\r\n<!-- Created with matplotlib (https://matplotlib.org/) -->\r\n<svg height=\"263.63625pt\" version=\"1.1\" viewBox=\"0 0 388.0125 263.63625\" width=\"388.0125pt\" xmlns=\"http://www.w3.org/2000/svg\" xmlns:xlink=\"http://www.w3.org/1999/xlink\">\r\n <metadata>\r\n  <rdf:RDF xmlns:cc=\"http://creativecommons.org/ns#\" xmlns:dc=\"http://purl.org/dc/elements/1.1/\" xmlns:rdf=\"http://www.w3.org/1999/02/22-rdf-syntax-ns#\">\r\n   <cc:Work>\r\n    <dc:type rdf:resource=\"http://purl.org/dc/dcmitype/StillImage\"/>\r\n    <dc:date>2021-01-12T09:53:17.346616</dc:date>\r\n    <dc:format>image/svg+xml</dc:format>\r\n    <dc:creator>\r\n     <cc:Agent>\r\n      <dc:title>Matplotlib v3.3.2, https://matplotlib.org/</dc:title>\r\n     </cc:Agent>\r\n    </dc:creator>\r\n   </cc:Work>\r\n  </rdf:RDF>\r\n </metadata>\r\n <defs>\r\n  <style type=\"text/css\">*{stroke-linecap:butt;stroke-linejoin:round;}</style>\r\n </defs>\r\n <g id=\"figure_1\">\r\n  <g id=\"patch_1\">\r\n   <path d=\"M 0 263.63625 \r\nL 388.0125 263.63625 \r\nL 388.0125 0 \r\nL 0 0 \r\nz\r\n\" style=\"fill:none;\"/>\r\n  </g>\r\n  <g id=\"axes_1\">\r\n   <g id=\"patch_2\">\r\n    <path d=\"M 46.0125 239.758125 \r\nL 380.8125 239.758125 \r\nL 380.8125 22.318125 \r\nL 46.0125 22.318125 \r\nz\r\n\" style=\"fill:#ffffff;\"/>\r\n   </g>\r\n   <g id=\"patch_3\">\r\n    <path clip-path=\"url(#p24d3d484c8)\" d=\"M 61.230682 239.758125 \r\nL 64.274318 239.758125 \r\nL 64.274318 239.512924 \r\nL 61.230682 239.512924 \r\nz\r\n\" style=\"fill:#1f77b4;\"/>\r\n   </g>\r\n   <g id=\"patch_4\">\r\n    <path clip-path=\"url(#p24d3d484c8)\" d=\"M 64.274318 239.758125 \r\nL 67.317955 239.758125 \r\nL 67.317955 239.276805 \r\nL 64.274318 239.276805 \r\nz\r\n\" style=\"fill:#1f77b4;\"/>\r\n   </g>\r\n   <g id=\"patch_5\">\r\n    <path clip-path=\"url(#p24d3d484c8)\" d=\"M 67.317955 239.758125 \r\nL 70.361591 239.758125 \r\nL 70.361591 239.222316 \r\nL 67.317955 239.222316 \r\nz\r\n\" style=\"fill:#1f77b4;\"/>\r\n   </g>\r\n   <g id=\"patch_6\">\r\n    <path clip-path=\"url(#p24d3d484c8)\" d=\"M 70.361591 239.758125 \r\nL 73.405227 239.758125 \r\nL 73.405227 238.995278 \r\nL 70.361591 238.995278 \r\nz\r\n\" style=\"fill:#1f77b4;\"/>\r\n   </g>\r\n   <g id=\"patch_7\">\r\n    <path clip-path=\"url(#p24d3d484c8)\" d=\"M 73.405227 239.758125 \r\nL 76.448864 239.758125 \r\nL 76.448864 238.895381 \r\nL 73.405227 238.895381 \r\nz\r\n\" style=\"fill:#1f77b4;\"/>\r\n   </g>\r\n   <g id=\"patch_8\">\r\n    <path clip-path=\"url(#p24d3d484c8)\" d=\"M 76.448864 239.758125 \r\nL 79.4925 239.758125 \r\nL 79.4925 238.922626 \r\nL 76.448864 238.922626 \r\nz\r\n\" style=\"fill:#1f77b4;\"/>\r\n   </g>\r\n   <g id=\"patch_9\">\r\n    <path clip-path=\"url(#p24d3d484c8)\" d=\"M 79.4925 239.758125 \r\nL 82.536136 239.758125 \r\nL 82.536136 239.349457 \r\nL 79.4925 239.349457 \r\nz\r\n\" style=\"fill:#1f77b4;\"/>\r\n   </g>\r\n   <g id=\"patch_10\">\r\n    <path clip-path=\"url(#p24d3d484c8)\" d=\"M 82.536136 239.758125 \r\nL 85.579773 239.758125 \r\nL 85.579773 237.778355 \r\nL 82.536136 237.778355 \r\nz\r\n\" style=\"fill:#1f77b4;\"/>\r\n   </g>\r\n   <g id=\"patch_11\">\r\n    <path clip-path=\"url(#p24d3d484c8)\" d=\"M 85.579773 239.758125 \r\nL 88.623409 239.758125 \r\nL 88.623409 239.512924 \r\nL 85.579773 239.512924 \r\nz\r\n\" style=\"fill:#1f77b4;\"/>\r\n   </g>\r\n   <g id=\"patch_12\">\r\n    <path clip-path=\"url(#p24d3d484c8)\" d=\"M 88.623409 239.758125 \r\nL 91.667045 239.758125 \r\nL 91.667045 235.898482 \r\nL 88.623409 235.898482 \r\nz\r\n\" style=\"fill:#1f77b4;\"/>\r\n   </g>\r\n   <g id=\"patch_13\">\r\n    <path clip-path=\"url(#p24d3d484c8)\" d=\"M 91.667045 239.758125 \r\nL 94.710682 239.758125 \r\nL 94.710682 239.576495 \r\nL 91.667045 239.576495 \r\nz\r\n\" style=\"fill:#1f77b4;\"/>\r\n   </g>\r\n   <g id=\"patch_14\">\r\n    <path clip-path=\"url(#p24d3d484c8)\" d=\"M 94.710682 239.758125 \r\nL 97.754318 239.758125 \r\nL 97.754318 237.514992 \r\nL 94.710682 237.514992 \r\nz\r\n\" style=\"fill:#1f77b4;\"/>\r\n   </g>\r\n   <g id=\"patch_15\">\r\n    <path clip-path=\"url(#p24d3d484c8)\" d=\"M 97.754318 239.758125 \r\nL 100.797955 239.758125 \r\nL 100.797955 239.503843 \r\nL 97.754318 239.503843 \r\nz\r\n\" style=\"fill:#1f77b4;\"/>\r\n   </g>\r\n   <g id=\"patch_16\">\r\n    <path clip-path=\"url(#p24d3d484c8)\" d=\"M 100.797955 239.758125 \r\nL 103.841591 239.758125 \r\nL 103.841591 239.258642 \r\nL 100.797955 239.258642 \r\nz\r\n\" style=\"fill:#1f77b4;\"/>\r\n   </g>\r\n   <g id=\"patch_17\">\r\n    <path clip-path=\"url(#p24d3d484c8)\" d=\"M 103.841591 239.758125 \r\nL 106.885227 239.758125 \r\nL 106.885227 234.100343 \r\nL 103.841591 234.100343 \r\nz\r\n\" style=\"fill:#1f77b4;\"/>\r\n   </g>\r\n   <g id=\"patch_18\">\r\n    <path clip-path=\"url(#p24d3d484c8)\" d=\"M 106.885227 239.758125 \r\nL 109.928864 239.758125 \r\nL 109.928864 237.006427 \r\nL 106.885227 237.006427 \r\nz\r\n\" style=\"fill:#1f77b4;\"/>\r\n   </g>\r\n   <g id=\"patch_19\">\r\n    <path clip-path=\"url(#p24d3d484c8)\" d=\"M 109.928864 239.758125 \r\nL 112.9725 239.758125 \r\nL 112.9725 239.376702 \r\nL 109.928864 239.376702 \r\nz\r\n\" style=\"fill:#1f77b4;\"/>\r\n   </g>\r\n   <g id=\"patch_20\">\r\n    <path clip-path=\"url(#p24d3d484c8)\" d=\"M 112.9725 239.758125 \r\nL 116.016136 239.758125 \r\nL 116.016136 238.58661 \r\nL 112.9725 238.58661 \r\nz\r\n\" style=\"fill:#1f77b4;\"/>\r\n   </g>\r\n   <g id=\"patch_21\">\r\n    <path clip-path=\"url(#p24d3d484c8)\" d=\"M 116.016136 239.758125 \r\nL 119.059773 239.758125 \r\nL 119.059773 239.585576 \r\nL 116.016136 239.585576 \r\nz\r\n\" style=\"fill:#1f77b4;\"/>\r\n   </g>\r\n   <g id=\"patch_22\">\r\n    <path clip-path=\"url(#p24d3d484c8)\" d=\"M 119.059773 239.758125 \r\nL 122.103409 239.758125 \r\nL 122.103409 222.84835 \r\nL 119.059773 222.84835 \r\nz\r\n\" style=\"fill:#1f77b4;\"/>\r\n   </g>\r\n   <g id=\"patch_23\">\r\n    <path clip-path=\"url(#p24d3d484c8)\" d=\"M 122.103409 239.758125 \r\nL 125.147045 239.758125 \r\nL 125.147045 239.340375 \r\nL 122.103409 239.340375 \r\nz\r\n\" style=\"fill:#1f77b4;\"/>\r\n   </g>\r\n   <g id=\"patch_24\">\r\n    <path clip-path=\"url(#p24d3d484c8)\" d=\"M 125.147045 239.758125 \r\nL 128.190682 239.758125 \r\nL 128.190682 239.195071 \r\nL 125.147045 239.195071 \r\nz\r\n\" style=\"fill:#1f77b4;\"/>\r\n   </g>\r\n   <g id=\"patch_25\">\r\n    <path clip-path=\"url(#p24d3d484c8)\" d=\"M 128.190682 239.758125 \r\nL 131.234318 239.758125 \r\nL 131.234318 239.394865 \r\nL 128.190682 239.394865 \r\nz\r\n\" style=\"fill:#1f77b4;\"/>\r\n   </g>\r\n   <g id=\"patch_26\">\r\n    <path clip-path=\"url(#p24d3d484c8)\" d=\"M 131.234318 239.758125 \r\nL 134.277955 239.758125 \r\nL 134.277955 236.54327 \r\nL 131.234318 236.54327 \r\nz\r\n\" style=\"fill:#1f77b4;\"/>\r\n   </g>\r\n   <g id=\"patch_27\">\r\n    <path clip-path=\"url(#p24d3d484c8)\" d=\"M 134.277955 239.758125 \r\nL 137.321591 239.758125 \r\nL 137.321591 231.058037 \r\nL 134.277955 231.058037 \r\nz\r\n\" style=\"fill:#1f77b4;\"/>\r\n   </g>\r\n   <g id=\"patch_28\">\r\n    <path clip-path=\"url(#p24d3d484c8)\" d=\"M 137.321591 239.758125 \r\nL 140.365227 239.758125 \r\nL 140.365227 239.394865 \r\nL 137.321591 239.394865 \r\nz\r\n\" style=\"fill:#1f77b4;\"/>\r\n   </g>\r\n   <g id=\"patch_29\">\r\n    <path clip-path=\"url(#p24d3d484c8)\" d=\"M 140.365227 239.758125 \r\nL 143.408864 239.758125 \r\nL 143.408864 239.36762 \r\nL 140.365227 239.36762 \r\nz\r\n\" style=\"fill:#1f77b4;\"/>\r\n   </g>\r\n   <g id=\"patch_30\">\r\n    <path clip-path=\"url(#p24d3d484c8)\" d=\"M 143.408864 239.758125 \r\nL 146.4525 239.758125 \r\nL 146.4525 238.486713 \r\nL 143.408864 238.486713 \r\nz\r\n\" style=\"fill:#1f77b4;\"/>\r\n   </g>\r\n   <g id=\"patch_31\">\r\n    <path clip-path=\"url(#p24d3d484c8)\" d=\"M 146.4525 239.758125 \r\nL 149.496136 239.758125 \r\nL 149.496136 239.621902 \r\nL 146.4525 239.621902 \r\nz\r\n\" style=\"fill:#1f77b4;\"/>\r\n   </g>\r\n   <g id=\"patch_32\">\r\n    <path clip-path=\"url(#p24d3d484c8)\" d=\"M 149.496136 239.758125 \r\nL 152.539773 239.758125 \r\nL 152.539773 224.319555 \r\nL 149.496136 224.319555 \r\nz\r\n\" style=\"fill:#1f77b4;\"/>\r\n   </g>\r\n   <g id=\"patch_33\">\r\n    <path clip-path=\"url(#p24d3d484c8)\" d=\"M 152.539773 239.758125 \r\nL 155.583409 239.758125 \r\nL 155.583409 239.649147 \r\nL 152.539773 239.649147 \r\nz\r\n\" style=\"fill:#1f77b4;\"/>\r\n   </g>\r\n   <g id=\"patch_34\">\r\n    <path clip-path=\"url(#p24d3d484c8)\" d=\"M 155.583409 239.758125 \r\nL 158.627045 239.758125 \r\nL 158.627045 235.916645 \r\nL 155.583409 235.916645 \r\nz\r\n\" style=\"fill:#1f77b4;\"/>\r\n   </g>\r\n   <g id=\"patch_35\">\r\n    <path clip-path=\"url(#p24d3d484c8)\" d=\"M 158.627045 239.758125 \r\nL 161.670682 239.758125 \r\nL 161.670682 239.204153 \r\nL 158.627045 239.204153 \r\nz\r\n\" style=\"fill:#1f77b4;\"/>\r\n   </g>\r\n   <g id=\"patch_36\">\r\n    <path clip-path=\"url(#p24d3d484c8)\" d=\"M 161.670682 239.758125 \r\nL 164.714318 239.758125 \r\nL 164.714318 239.322212 \r\nL 161.670682 239.322212 \r\nz\r\n\" style=\"fill:#1f77b4;\"/>\r\n   </g>\r\n   <g id=\"patch_37\">\r\n    <path clip-path=\"url(#p24d3d484c8)\" d=\"M 164.714318 239.758125 \r\nL 167.757955 239.758125 \r\nL 167.757955 222.167237 \r\nL 164.714318 222.167237 \r\nz\r\n\" style=\"fill:#1f77b4;\"/>\r\n   </g>\r\n   <g id=\"patch_38\">\r\n    <path clip-path=\"url(#p24d3d484c8)\" d=\"M 167.757955 239.758125 \r\nL 170.801591 239.758125 \r\nL 170.801591 236.706737 \r\nL 167.757955 236.706737 \r\nz\r\n\" style=\"fill:#1f77b4;\"/>\r\n   </g>\r\n   <g id=\"patch_39\">\r\n    <path clip-path=\"url(#p24d3d484c8)\" d=\"M 170.801591 239.758125 \r\nL 173.845227 239.758125 \r\nL 173.845227 237.560399 \r\nL 170.801591 237.560399 \r\nz\r\n\" style=\"fill:#1f77b4;\"/>\r\n   </g>\r\n   <g id=\"patch_40\">\r\n    <path clip-path=\"url(#p24d3d484c8)\" d=\"M 173.845227 239.758125 \r\nL 176.888864 239.758125 \r\nL 176.888864 233.273926 \r\nL 173.845227 233.273926 \r\nz\r\n\" style=\"fill:#1f77b4;\"/>\r\n   </g>\r\n   <g id=\"patch_41\">\r\n    <path clip-path=\"url(#p24d3d484c8)\" d=\"M 176.888864 239.758125 \r\nL 179.9325 239.758125 \r\nL 179.9325 239.18599 \r\nL 176.888864 239.18599 \r\nz\r\n\" style=\"fill:#1f77b4;\"/>\r\n   </g>\r\n   <g id=\"patch_42\">\r\n    <path clip-path=\"url(#p24d3d484c8)\" d=\"M 179.9325 239.758125 \r\nL 182.976136 239.758125 \r\nL 182.976136 32.672411 \r\nL 179.9325 32.672411 \r\nz\r\n\" style=\"fill:#1f77b4;\"/>\r\n   </g>\r\n   <g id=\"patch_43\">\r\n    <path clip-path=\"url(#p24d3d484c8)\" d=\"M 182.976136 239.758125 \r\nL 186.019773 239.758125 \r\nL 186.019773 239.222316 \r\nL 182.976136 239.222316 \r\nz\r\n\" style=\"fill:#1f77b4;\"/>\r\n   </g>\r\n   <g id=\"patch_44\">\r\n    <path clip-path=\"url(#p24d3d484c8)\" d=\"M 186.019773 239.758125 \r\nL 189.063409 239.758125 \r\nL 189.063409 236.688574 \r\nL 186.019773 236.688574 \r\nz\r\n\" style=\"fill:#1f77b4;\"/>\r\n   </g>\r\n   <g id=\"patch_45\">\r\n    <path clip-path=\"url(#p24d3d484c8)\" d=\"M 189.063409 239.758125 \r\nL 192.107045 239.758125 \r\nL 192.107045 237.696622 \r\nL 189.063409 237.696622 \r\nz\r\n\" style=\"fill:#1f77b4;\"/>\r\n   </g>\r\n   <g id=\"patch_46\">\r\n    <path clip-path=\"url(#p24d3d484c8)\" d=\"M 192.107045 239.758125 \r\nL 195.150682 239.758125 \r\nL 195.150682 236.942856 \r\nL 192.107045 236.942856 \r\nz\r\n\" style=\"fill:#1f77b4;\"/>\r\n   </g>\r\n   <g id=\"patch_47\">\r\n    <path clip-path=\"url(#p24d3d484c8)\" d=\"M 195.150682 239.758125 \r\nL 198.194318 239.758125 \r\nL 198.194318 215.083657 \r\nL 195.150682 215.083657 \r\nz\r\n\" style=\"fill:#1f77b4;\"/>\r\n   </g>\r\n   <g id=\"patch_48\">\r\n    <path clip-path=\"url(#p24d3d484c8)\" d=\"M 198.194318 239.758125 \r\nL 201.237955 239.758125 \r\nL 201.237955 238.58661 \r\nL 198.194318 238.58661 \r\nz\r\n\" style=\"fill:#1f77b4;\"/>\r\n   </g>\r\n   <g id=\"patch_49\">\r\n    <path clip-path=\"url(#p24d3d484c8)\" d=\"M 201.237955 239.758125 \r\nL 204.281591 239.758125 \r\nL 204.281591 239.013441 \r\nL 201.237955 239.013441 \r\nz\r\n\" style=\"fill:#1f77b4;\"/>\r\n   </g>\r\n   <g id=\"patch_50\">\r\n    <path clip-path=\"url(#p24d3d484c8)\" d=\"M 204.281591 239.758125 \r\nL 207.325227 239.758125 \r\nL 207.325227 232.765361 \r\nL 204.281591 232.765361 \r\nz\r\n\" style=\"fill:#1f77b4;\"/>\r\n   </g>\r\n   <g id=\"patch_51\">\r\n    <path clip-path=\"url(#p24d3d484c8)\" d=\"M 207.325227 239.758125 \r\nL 210.368864 239.758125 \r\nL 210.368864 239.403946 \r\nL 207.325227 239.403946 \r\nz\r\n\" style=\"fill:#1f77b4;\"/>\r\n   </g>\r\n   <g id=\"patch_52\">\r\n    <path clip-path=\"url(#p24d3d484c8)\" d=\"M 210.368864 239.758125 \r\nL 213.4125 239.758125 \r\nL 213.4125 239.758125 \r\nL 210.368864 239.758125 \r\nz\r\n\" style=\"fill:#1f77b4;\"/>\r\n   </g>\r\n   <g id=\"patch_53\">\r\n    <path clip-path=\"url(#p24d3d484c8)\" d=\"M 213.4125 239.758125 \r\nL 216.456136 239.758125 \r\nL 216.456136 201.198026 \r\nL 213.4125 201.198026 \r\nz\r\n\" style=\"fill:#1f77b4;\"/>\r\n   </g>\r\n   <g id=\"patch_54\">\r\n    <path clip-path=\"url(#p24d3d484c8)\" d=\"M 216.456136 239.758125 \r\nL 219.499773 239.758125 \r\nL 219.499773 239.576495 \r\nL 216.456136 239.576495 \r\nz\r\n\" style=\"fill:#1f77b4;\"/>\r\n   </g>\r\n   <g id=\"patch_55\">\r\n    <path clip-path=\"url(#p24d3d484c8)\" d=\"M 219.499773 239.758125 \r\nL 222.543409 239.758125 \r\nL 222.543409 237.896415 \r\nL 219.499773 237.896415 \r\nz\r\n\" style=\"fill:#1f77b4;\"/>\r\n   </g>\r\n   <g id=\"patch_56\">\r\n    <path clip-path=\"url(#p24d3d484c8)\" d=\"M 222.543409 239.758125 \r\nL 225.587045 239.758125 \r\nL 225.587045 239.403946 \r\nL 222.543409 239.403946 \r\nz\r\n\" style=\"fill:#1f77b4;\"/>\r\n   </g>\r\n   <g id=\"patch_57\">\r\n    <path clip-path=\"url(#p24d3d484c8)\" d=\"M 225.587045 239.758125 \r\nL 228.630682 239.758125 \r\nL 228.630682 239.195071 \r\nL 225.587045 239.195071 \r\nz\r\n\" style=\"fill:#1f77b4;\"/>\r\n   </g>\r\n   <g id=\"patch_58\">\r\n    <path clip-path=\"url(#p24d3d484c8)\" d=\"M 228.630682 239.758125 \r\nL 231.674318 239.758125 \r\nL 231.674318 230.213456 \r\nL 228.630682 230.213456 \r\nz\r\n\" style=\"fill:#1f77b4;\"/>\r\n   </g>\r\n   <g id=\"patch_59\">\r\n    <path clip-path=\"url(#p24d3d484c8)\" d=\"M 231.674318 239.758125 \r\nL 234.717955 239.758125 \r\nL 234.717955 238.477632 \r\nL 231.674318 238.477632 \r\nz\r\n\" style=\"fill:#1f77b4;\"/>\r\n   </g>\r\n   <g id=\"patch_60\">\r\n    <path clip-path=\"url(#p24d3d484c8)\" d=\"M 234.717955 239.758125 \r\nL 237.761591 239.758125 \r\nL 237.761591 239.585576 \r\nL 234.717955 239.585576 \r\nz\r\n\" style=\"fill:#1f77b4;\"/>\r\n   </g>\r\n   <g id=\"patch_61\">\r\n    <path clip-path=\"url(#p24d3d484c8)\" d=\"M 237.761591 239.758125 \r\nL 240.805227 239.758125 \r\nL 240.805227 239.413028 \r\nL 237.761591 239.413028 \r\nz\r\n\" style=\"fill:#1f77b4;\"/>\r\n   </g>\r\n   <g id=\"patch_62\">\r\n    <path clip-path=\"url(#p24d3d484c8)\" d=\"M 240.805227 239.758125 \r\nL 243.848864 239.758125 \r\nL 243.848864 239.694554 \r\nL 240.805227 239.694554 \r\nz\r\n\" style=\"fill:#1f77b4;\"/>\r\n   </g>\r\n   <g id=\"patch_63\">\r\n    <path clip-path=\"url(#p24d3d484c8)\" d=\"M 243.848864 239.758125 \r\nL 246.8925 239.758125 \r\nL 246.8925 219.987674 \r\nL 243.848864 219.987674 \r\nz\r\n\" style=\"fill:#1f77b4;\"/>\r\n   </g>\r\n   <g id=\"patch_64\">\r\n    <path clip-path=\"url(#p24d3d484c8)\" d=\"M 246.8925 239.758125 \r\nL 249.936136 239.758125 \r\nL 249.936136 239.721799 \r\nL 246.8925 239.721799 \r\nz\r\n\" style=\"fill:#1f77b4;\"/>\r\n   </g>\r\n   <g id=\"patch_65\">\r\n    <path clip-path=\"url(#p24d3d484c8)\" d=\"M 249.936136 239.758125 \r\nL 252.979773 239.758125 \r\nL 252.979773 239.54925 \r\nL 249.936136 239.54925 \r\nz\r\n\" style=\"fill:#1f77b4;\"/>\r\n   </g>\r\n   <g id=\"patch_66\">\r\n    <path clip-path=\"url(#p24d3d484c8)\" d=\"M 252.979773 239.758125 \r\nL 256.023409 239.758125 \r\nL 256.023409 239.621902 \r\nL 252.979773 239.621902 \r\nz\r\n\" style=\"fill:#1f77b4;\"/>\r\n   </g>\r\n   <g id=\"patch_67\">\r\n    <path clip-path=\"url(#p24d3d484c8)\" d=\"M 256.023409 239.758125 \r\nL 259.067045 239.758125 \r\nL 259.067045 239.558332 \r\nL 256.023409 239.558332 \r\nz\r\n\" style=\"fill:#1f77b4;\"/>\r\n   </g>\r\n   <g id=\"patch_68\">\r\n    <path clip-path=\"url(#p24d3d484c8)\" d=\"M 259.067045 239.758125 \r\nL 262.110682 239.758125 \r\nL 262.110682 236.534188 \r\nL 259.067045 236.534188 \r\nz\r\n\" style=\"fill:#1f77b4;\"/>\r\n   </g>\r\n   <g id=\"patch_69\">\r\n    <path clip-path=\"url(#p24d3d484c8)\" d=\"M 262.110682 239.758125 \r\nL 265.154318 239.758125 \r\nL 265.154318 239.54925 \r\nL 262.110682 239.54925 \r\nz\r\n\" style=\"fill:#1f77b4;\"/>\r\n   </g>\r\n   <g id=\"patch_70\">\r\n    <path clip-path=\"url(#p24d3d484c8)\" d=\"M 265.154318 239.758125 \r\nL 268.197955 239.758125 \r\nL 268.197955 239.703636 \r\nL 265.154318 239.703636 \r\nz\r\n\" style=\"fill:#1f77b4;\"/>\r\n   </g>\r\n   <g id=\"patch_71\">\r\n    <path clip-path=\"url(#p24d3d484c8)\" d=\"M 268.197955 239.758125 \r\nL 271.241591 239.758125 \r\nL 271.241591 239.612821 \r\nL 268.197955 239.612821 \r\nz\r\n\" style=\"fill:#1f77b4;\"/>\r\n   </g>\r\n   <g id=\"patch_72\">\r\n    <path clip-path=\"url(#p24d3d484c8)\" d=\"M 271.241591 239.758125 \r\nL 274.285227 239.758125 \r\nL 274.285227 239.749043 \r\nL 271.241591 239.749043 \r\nz\r\n\" style=\"fill:#1f77b4;\"/>\r\n   </g>\r\n   <g id=\"patch_73\">\r\n    <path clip-path=\"url(#p24d3d484c8)\" d=\"M 274.285227 239.758125 \r\nL 277.328864 239.758125 \r\nL 277.328864 235.789504 \r\nL 274.285227 235.789504 \r\nz\r\n\" style=\"fill:#1f77b4;\"/>\r\n   </g>\r\n   <g id=\"patch_74\">\r\n    <path clip-path=\"url(#p24d3d484c8)\" d=\"M 277.328864 239.758125 \r\nL 280.3725 239.758125 \r\nL 280.3725 239.758125 \r\nL 277.328864 239.758125 \r\nz\r\n\" style=\"fill:#1f77b4;\"/>\r\n   </g>\r\n   <g id=\"patch_75\">\r\n    <path clip-path=\"url(#p24d3d484c8)\" d=\"M 280.3725 239.758125 \r\nL 283.416136 239.758125 \r\nL 283.416136 238.786403 \r\nL 280.3725 238.786403 \r\nz\r\n\" style=\"fill:#1f77b4;\"/>\r\n   </g>\r\n   <g id=\"patch_76\">\r\n    <path clip-path=\"url(#p24d3d484c8)\" d=\"M 283.416136 239.758125 \r\nL 286.459773 239.758125 \r\nL 286.459773 239.721799 \r\nL 283.416136 239.721799 \r\nz\r\n\" style=\"fill:#1f77b4;\"/>\r\n   </g>\r\n   <g id=\"patch_77\">\r\n    <path clip-path=\"url(#p24d3d484c8)\" d=\"M 286.459773 239.758125 \r\nL 289.503409 239.758125 \r\nL 289.503409 239.73088 \r\nL 286.459773 239.73088 \r\nz\r\n\" style=\"fill:#1f77b4;\"/>\r\n   </g>\r\n   <g id=\"patch_78\">\r\n    <path clip-path=\"url(#p24d3d484c8)\" d=\"M 289.503409 239.758125 \r\nL 292.547045 239.758125 \r\nL 292.547045 238.804566 \r\nL 289.503409 238.804566 \r\nz\r\n\" style=\"fill:#1f77b4;\"/>\r\n   </g>\r\n   <g id=\"patch_79\">\r\n    <path clip-path=\"url(#p24d3d484c8)\" d=\"M 292.547045 239.758125 \r\nL 295.590682 239.758125 \r\nL 295.590682 239.721799 \r\nL 292.547045 239.721799 \r\nz\r\n\" style=\"fill:#1f77b4;\"/>\r\n   </g>\r\n   <g id=\"patch_80\">\r\n    <path clip-path=\"url(#p24d3d484c8)\" d=\"M 295.590682 239.758125 \r\nL 298.634318 239.758125 \r\nL 298.634318 239.676391 \r\nL 295.590682 239.676391 \r\nz\r\n\" style=\"fill:#1f77b4;\"/>\r\n   </g>\r\n   <g id=\"patch_81\">\r\n    <path clip-path=\"url(#p24d3d484c8)\" d=\"M 298.634318 239.758125 \r\nL 301.677955 239.758125 \r\nL 301.677955 239.640065 \r\nL 298.634318 239.640065 \r\nz\r\n\" style=\"fill:#1f77b4;\"/>\r\n   </g>\r\n   <g id=\"patch_82\">\r\n    <path clip-path=\"url(#p24d3d484c8)\" d=\"M 301.677955 239.758125 \r\nL 304.721591 239.758125 \r\nL 304.721591 239.749043 \r\nL 301.677955 239.749043 \r\nz\r\n\" style=\"fill:#1f77b4;\"/>\r\n   </g>\r\n   <g id=\"patch_83\">\r\n    <path clip-path=\"url(#p24d3d484c8)\" d=\"M 304.721591 239.758125 \r\nL 307.765227 239.758125 \r\nL 307.765227 237.851008 \r\nL 304.721591 237.851008 \r\nz\r\n\" style=\"fill:#1f77b4;\"/>\r\n   </g>\r\n   <g id=\"patch_84\">\r\n    <path clip-path=\"url(#p24d3d484c8)\" d=\"M 307.765227 239.758125 \r\nL 310.808864 239.758125 \r\nL 310.808864 239.73088 \r\nL 307.765227 239.73088 \r\nz\r\n\" style=\"fill:#1f77b4;\"/>\r\n   </g>\r\n   <g id=\"patch_85\">\r\n    <path clip-path=\"url(#p24d3d484c8)\" d=\"M 310.808864 239.758125 \r\nL 313.8525 239.758125 \r\nL 313.8525 239.749043 \r\nL 310.808864 239.749043 \r\nz\r\n\" style=\"fill:#1f77b4;\"/>\r\n   </g>\r\n   <g id=\"patch_86\">\r\n    <path clip-path=\"url(#p24d3d484c8)\" d=\"M 313.8525 239.758125 \r\nL 316.896136 239.758125 \r\nL 316.896136 239.758125 \r\nL 313.8525 239.758125 \r\nz\r\n\" style=\"fill:#1f77b4;\"/>\r\n   </g>\r\n   <g id=\"patch_87\">\r\n    <path clip-path=\"url(#p24d3d484c8)\" d=\"M 316.896136 239.758125 \r\nL 319.939773 239.758125 \r\nL 319.939773 239.104256 \r\nL 316.896136 239.104256 \r\nz\r\n\" style=\"fill:#1f77b4;\"/>\r\n   </g>\r\n   <g id=\"patch_88\">\r\n    <path clip-path=\"url(#p24d3d484c8)\" d=\"M 319.939773 239.758125 \r\nL 322.983409 239.758125 \r\nL 322.983409 239.603739 \r\nL 319.939773 239.603739 \r\nz\r\n\" style=\"fill:#1f77b4;\"/>\r\n   </g>\r\n   <g id=\"patch_89\">\r\n    <path clip-path=\"url(#p24d3d484c8)\" d=\"M 322.983409 239.758125 \r\nL 326.027045 239.758125 \r\nL 326.027045 239.721799 \r\nL 322.983409 239.721799 \r\nz\r\n\" style=\"fill:#1f77b4;\"/>\r\n   </g>\r\n   <g id=\"patch_90\">\r\n    <path clip-path=\"url(#p24d3d484c8)\" d=\"M 326.027045 239.758125 \r\nL 329.070682 239.758125 \r\nL 329.070682 239.749043 \r\nL 326.027045 239.749043 \r\nz\r\n\" style=\"fill:#1f77b4;\"/>\r\n   </g>\r\n   <g id=\"patch_91\">\r\n    <path clip-path=\"url(#p24d3d484c8)\" d=\"M 329.070682 239.758125 \r\nL 332.114318 239.758125 \r\nL 332.114318 239.721799 \r\nL 329.070682 239.721799 \r\nz\r\n\" style=\"fill:#1f77b4;\"/>\r\n   </g>\r\n   <g id=\"patch_92\">\r\n    <path clip-path=\"url(#p24d3d484c8)\" d=\"M 332.114318 239.758125 \r\nL 335.157955 239.758125 \r\nL 335.157955 239.73088 \r\nL 332.114318 239.73088 \r\nz\r\n\" style=\"fill:#1f77b4;\"/>\r\n   </g>\r\n   <g id=\"patch_93\">\r\n    <path clip-path=\"url(#p24d3d484c8)\" d=\"M 335.157955 239.758125 \r\nL 338.201591 239.758125 \r\nL 338.201591 239.376702 \r\nL 335.157955 239.376702 \r\nz\r\n\" style=\"fill:#1f77b4;\"/>\r\n   </g>\r\n   <g id=\"patch_94\">\r\n    <path clip-path=\"url(#p24d3d484c8)\" d=\"M 338.201591 239.758125 \r\nL 341.245227 239.758125 \r\nL 341.245227 239.73088 \r\nL 338.201591 239.73088 \r\nz\r\n\" style=\"fill:#1f77b4;\"/>\r\n   </g>\r\n   <g id=\"patch_95\">\r\n    <path clip-path=\"url(#p24d3d484c8)\" d=\"M 341.245227 239.758125 \r\nL 344.288864 239.758125 \r\nL 344.288864 239.73088 \r\nL 341.245227 239.73088 \r\nz\r\n\" style=\"fill:#1f77b4;\"/>\r\n   </g>\r\n   <g id=\"patch_96\">\r\n    <path clip-path=\"url(#p24d3d484c8)\" d=\"M 344.288864 239.758125 \r\nL 347.3325 239.758125 \r\nL 347.3325 239.758125 \r\nL 344.288864 239.758125 \r\nz\r\n\" style=\"fill:#1f77b4;\"/>\r\n   </g>\r\n   <g id=\"patch_97\">\r\n    <path clip-path=\"url(#p24d3d484c8)\" d=\"M 347.3325 239.758125 \r\nL 350.376136 239.758125 \r\nL 350.376136 239.749043 \r\nL 347.3325 239.749043 \r\nz\r\n\" style=\"fill:#1f77b4;\"/>\r\n   </g>\r\n   <g id=\"patch_98\">\r\n    <path clip-path=\"url(#p24d3d484c8)\" d=\"M 350.376136 239.758125 \r\nL 353.419773 239.758125 \r\nL 353.419773 239.739962 \r\nL 350.376136 239.739962 \r\nz\r\n\" style=\"fill:#1f77b4;\"/>\r\n   </g>\r\n   <g id=\"patch_99\">\r\n    <path clip-path=\"url(#p24d3d484c8)\" d=\"M 353.419773 239.758125 \r\nL 356.463409 239.758125 \r\nL 356.463409 239.676391 \r\nL 353.419773 239.676391 \r\nz\r\n\" style=\"fill:#1f77b4;\"/>\r\n   </g>\r\n   <g id=\"patch_100\">\r\n    <path clip-path=\"url(#p24d3d484c8)\" d=\"M 356.463409 239.758125 \r\nL 359.507045 239.758125 \r\nL 359.507045 239.739962 \r\nL 356.463409 239.739962 \r\nz\r\n\" style=\"fill:#1f77b4;\"/>\r\n   </g>\r\n   <g id=\"patch_101\">\r\n    <path clip-path=\"url(#p24d3d484c8)\" d=\"M 359.507045 239.758125 \r\nL 362.550682 239.758125 \r\nL 362.550682 239.630984 \r\nL 359.507045 239.630984 \r\nz\r\n\" style=\"fill:#1f77b4;\"/>\r\n   </g>\r\n   <g id=\"patch_102\">\r\n    <path clip-path=\"url(#p24d3d484c8)\" d=\"M 362.550682 239.758125 \r\nL 365.594318 239.758125 \r\nL 365.594318 238.513958 \r\nL 362.550682 238.513958 \r\nz\r\n\" style=\"fill:#1f77b4;\"/>\r\n   </g>\r\n   <g id=\"matplotlib.axis_1\">\r\n    <g id=\"xtick_1\">\r\n     <g id=\"line2d_1\">\r\n      <path clip-path=\"url(#p24d3d484c8)\" d=\"M 58.12493 239.758125 \r\nL 58.12493 22.318125 \r\n\" style=\"fill:none;stroke:#b0b0b0;stroke-linecap:square;stroke-width:0.8;\"/>\r\n     </g>\r\n     <g id=\"line2d_2\">\r\n      <defs>\r\n       <path d=\"M 0 0 \r\nL 0 3.5 \r\n\" id=\"mf44570f009\" style=\"stroke:#000000;stroke-width:0.8;\"/>\r\n      </defs>\r\n      <g>\r\n       <use style=\"stroke:#000000;stroke-width:0.8;\" x=\"58.12493\" xlink:href=\"#mf44570f009\" y=\"239.758125\"/>\r\n      </g>\r\n     </g>\r\n     <g id=\"text_1\">\r\n      <!-- 0 -->\r\n      <g transform=\"translate(54.94368 254.356563)scale(0.1 -0.1)\">\r\n       <defs>\r\n        <path d=\"M 31.78125 66.40625 \r\nQ 24.171875 66.40625 20.328125 58.90625 \r\nQ 16.5 51.421875 16.5 36.375 \r\nQ 16.5 21.390625 20.328125 13.890625 \r\nQ 24.171875 6.390625 31.78125 6.390625 \r\nQ 39.453125 6.390625 43.28125 13.890625 \r\nQ 47.125 21.390625 47.125 36.375 \r\nQ 47.125 51.421875 43.28125 58.90625 \r\nQ 39.453125 66.40625 31.78125 66.40625 \r\nz\r\nM 31.78125 74.21875 \r\nQ 44.046875 74.21875 50.515625 64.515625 \r\nQ 56.984375 54.828125 56.984375 36.375 \r\nQ 56.984375 17.96875 50.515625 8.265625 \r\nQ 44.046875 -1.421875 31.78125 -1.421875 \r\nQ 19.53125 -1.421875 13.0625 8.265625 \r\nQ 6.59375 17.96875 6.59375 36.375 \r\nQ 6.59375 54.828125 13.0625 64.515625 \r\nQ 19.53125 74.21875 31.78125 74.21875 \r\nz\r\n\" id=\"DejaVuSans-48\"/>\r\n       </defs>\r\n       <use xlink:href=\"#DejaVuSans-48\"/>\r\n      </g>\r\n     </g>\r\n    </g>\r\n    <g id=\"xtick_2\">\r\n     <g id=\"line2d_3\">\r\n      <path clip-path=\"url(#p24d3d484c8)\" d=\"M 120.239958 239.758125 \r\nL 120.239958 22.318125 \r\n\" style=\"fill:none;stroke:#b0b0b0;stroke-linecap:square;stroke-width:0.8;\"/>\r\n     </g>\r\n     <g id=\"line2d_4\">\r\n      <g>\r\n       <use style=\"stroke:#000000;stroke-width:0.8;\" x=\"120.239958\" xlink:href=\"#mf44570f009\" y=\"239.758125\"/>\r\n      </g>\r\n     </g>\r\n     <g id=\"text_2\">\r\n      <!-- 20 -->\r\n      <g transform=\"translate(113.877458 254.356563)scale(0.1 -0.1)\">\r\n       <defs>\r\n        <path d=\"M 19.1875 8.296875 \r\nL 53.609375 8.296875 \r\nL 53.609375 0 \r\nL 7.328125 0 \r\nL 7.328125 8.296875 \r\nQ 12.9375 14.109375 22.625 23.890625 \r\nQ 32.328125 33.6875 34.8125 36.53125 \r\nQ 39.546875 41.84375 41.421875 45.53125 \r\nQ 43.3125 49.21875 43.3125 52.78125 \r\nQ 43.3125 58.59375 39.234375 62.25 \r\nQ 35.15625 65.921875 28.609375 65.921875 \r\nQ 23.96875 65.921875 18.8125 64.3125 \r\nQ 13.671875 62.703125 7.8125 59.421875 \r\nL 7.8125 69.390625 \r\nQ 13.765625 71.78125 18.9375 73 \r\nQ 24.125 74.21875 28.421875 74.21875 \r\nQ 39.75 74.21875 46.484375 68.546875 \r\nQ 53.21875 62.890625 53.21875 53.421875 \r\nQ 53.21875 48.921875 51.53125 44.890625 \r\nQ 49.859375 40.875 45.40625 35.40625 \r\nQ 44.1875 33.984375 37.640625 27.21875 \r\nQ 31.109375 20.453125 19.1875 8.296875 \r\nz\r\n\" id=\"DejaVuSans-50\"/>\r\n       </defs>\r\n       <use xlink:href=\"#DejaVuSans-50\"/>\r\n       <use x=\"63.623047\" xlink:href=\"#DejaVuSans-48\"/>\r\n      </g>\r\n     </g>\r\n    </g>\r\n    <g id=\"xtick_3\">\r\n     <g id=\"line2d_5\">\r\n      <path clip-path=\"url(#p24d3d484c8)\" d=\"M 182.354986 239.758125 \r\nL 182.354986 22.318125 \r\n\" style=\"fill:none;stroke:#b0b0b0;stroke-linecap:square;stroke-width:0.8;\"/>\r\n     </g>\r\n     <g id=\"line2d_6\">\r\n      <g>\r\n       <use style=\"stroke:#000000;stroke-width:0.8;\" x=\"182.354986\" xlink:href=\"#mf44570f009\" y=\"239.758125\"/>\r\n      </g>\r\n     </g>\r\n     <g id=\"text_3\">\r\n      <!-- 40 -->\r\n      <g transform=\"translate(175.992486 254.356563)scale(0.1 -0.1)\">\r\n       <defs>\r\n        <path d=\"M 37.796875 64.3125 \r\nL 12.890625 25.390625 \r\nL 37.796875 25.390625 \r\nz\r\nM 35.203125 72.90625 \r\nL 47.609375 72.90625 \r\nL 47.609375 25.390625 \r\nL 58.015625 25.390625 \r\nL 58.015625 17.1875 \r\nL 47.609375 17.1875 \r\nL 47.609375 0 \r\nL 37.796875 0 \r\nL 37.796875 17.1875 \r\nL 4.890625 17.1875 \r\nL 4.890625 26.703125 \r\nz\r\n\" id=\"DejaVuSans-52\"/>\r\n       </defs>\r\n       <use xlink:href=\"#DejaVuSans-52\"/>\r\n       <use x=\"63.623047\" xlink:href=\"#DejaVuSans-48\"/>\r\n      </g>\r\n     </g>\r\n    </g>\r\n    <g id=\"xtick_4\">\r\n     <g id=\"line2d_7\">\r\n      <path clip-path=\"url(#p24d3d484c8)\" d=\"M 244.470014 239.758125 \r\nL 244.470014 22.318125 \r\n\" style=\"fill:none;stroke:#b0b0b0;stroke-linecap:square;stroke-width:0.8;\"/>\r\n     </g>\r\n     <g id=\"line2d_8\">\r\n      <g>\r\n       <use style=\"stroke:#000000;stroke-width:0.8;\" x=\"244.470014\" xlink:href=\"#mf44570f009\" y=\"239.758125\"/>\r\n      </g>\r\n     </g>\r\n     <g id=\"text_4\">\r\n      <!-- 60 -->\r\n      <g transform=\"translate(238.107514 254.356563)scale(0.1 -0.1)\">\r\n       <defs>\r\n        <path d=\"M 33.015625 40.375 \r\nQ 26.375 40.375 22.484375 35.828125 \r\nQ 18.609375 31.296875 18.609375 23.390625 \r\nQ 18.609375 15.53125 22.484375 10.953125 \r\nQ 26.375 6.390625 33.015625 6.390625 \r\nQ 39.65625 6.390625 43.53125 10.953125 \r\nQ 47.40625 15.53125 47.40625 23.390625 \r\nQ 47.40625 31.296875 43.53125 35.828125 \r\nQ 39.65625 40.375 33.015625 40.375 \r\nz\r\nM 52.59375 71.296875 \r\nL 52.59375 62.3125 \r\nQ 48.875 64.0625 45.09375 64.984375 \r\nQ 41.3125 65.921875 37.59375 65.921875 \r\nQ 27.828125 65.921875 22.671875 59.328125 \r\nQ 17.53125 52.734375 16.796875 39.40625 \r\nQ 19.671875 43.65625 24.015625 45.921875 \r\nQ 28.375 48.1875 33.59375 48.1875 \r\nQ 44.578125 48.1875 50.953125 41.515625 \r\nQ 57.328125 34.859375 57.328125 23.390625 \r\nQ 57.328125 12.15625 50.6875 5.359375 \r\nQ 44.046875 -1.421875 33.015625 -1.421875 \r\nQ 20.359375 -1.421875 13.671875 8.265625 \r\nQ 6.984375 17.96875 6.984375 36.375 \r\nQ 6.984375 53.65625 15.1875 63.9375 \r\nQ 23.390625 74.21875 37.203125 74.21875 \r\nQ 40.921875 74.21875 44.703125 73.484375 \r\nQ 48.484375 72.75 52.59375 71.296875 \r\nz\r\n\" id=\"DejaVuSans-54\"/>\r\n       </defs>\r\n       <use xlink:href=\"#DejaVuSans-54\"/>\r\n       <use x=\"63.623047\" xlink:href=\"#DejaVuSans-48\"/>\r\n      </g>\r\n     </g>\r\n    </g>\r\n    <g id=\"xtick_5\">\r\n     <g id=\"line2d_9\">\r\n      <path clip-path=\"url(#p24d3d484c8)\" d=\"M 306.585042 239.758125 \r\nL 306.585042 22.318125 \r\n\" style=\"fill:none;stroke:#b0b0b0;stroke-linecap:square;stroke-width:0.8;\"/>\r\n     </g>\r\n     <g id=\"line2d_10\">\r\n      <g>\r\n       <use style=\"stroke:#000000;stroke-width:0.8;\" x=\"306.585042\" xlink:href=\"#mf44570f009\" y=\"239.758125\"/>\r\n      </g>\r\n     </g>\r\n     <g id=\"text_5\">\r\n      <!-- 80 -->\r\n      <g transform=\"translate(300.222542 254.356563)scale(0.1 -0.1)\">\r\n       <defs>\r\n        <path d=\"M 31.78125 34.625 \r\nQ 24.75 34.625 20.71875 30.859375 \r\nQ 16.703125 27.09375 16.703125 20.515625 \r\nQ 16.703125 13.921875 20.71875 10.15625 \r\nQ 24.75 6.390625 31.78125 6.390625 \r\nQ 38.8125 6.390625 42.859375 10.171875 \r\nQ 46.921875 13.96875 46.921875 20.515625 \r\nQ 46.921875 27.09375 42.890625 30.859375 \r\nQ 38.875 34.625 31.78125 34.625 \r\nz\r\nM 21.921875 38.8125 \r\nQ 15.578125 40.375 12.03125 44.71875 \r\nQ 8.5 49.078125 8.5 55.328125 \r\nQ 8.5 64.0625 14.71875 69.140625 \r\nQ 20.953125 74.21875 31.78125 74.21875 \r\nQ 42.671875 74.21875 48.875 69.140625 \r\nQ 55.078125 64.0625 55.078125 55.328125 \r\nQ 55.078125 49.078125 51.53125 44.71875 \r\nQ 48 40.375 41.703125 38.8125 \r\nQ 48.828125 37.15625 52.796875 32.3125 \r\nQ 56.78125 27.484375 56.78125 20.515625 \r\nQ 56.78125 9.90625 50.3125 4.234375 \r\nQ 43.84375 -1.421875 31.78125 -1.421875 \r\nQ 19.734375 -1.421875 13.25 4.234375 \r\nQ 6.78125 9.90625 6.78125 20.515625 \r\nQ 6.78125 27.484375 10.78125 32.3125 \r\nQ 14.796875 37.15625 21.921875 38.8125 \r\nz\r\nM 18.3125 54.390625 \r\nQ 18.3125 48.734375 21.84375 45.5625 \r\nQ 25.390625 42.390625 31.78125 42.390625 \r\nQ 38.140625 42.390625 41.71875 45.5625 \r\nQ 45.3125 48.734375 45.3125 54.390625 \r\nQ 45.3125 60.0625 41.71875 63.234375 \r\nQ 38.140625 66.40625 31.78125 66.40625 \r\nQ 25.390625 66.40625 21.84375 63.234375 \r\nQ 18.3125 60.0625 18.3125 54.390625 \r\nz\r\n\" id=\"DejaVuSans-56\"/>\r\n       </defs>\r\n       <use xlink:href=\"#DejaVuSans-56\"/>\r\n       <use x=\"63.623047\" xlink:href=\"#DejaVuSans-48\"/>\r\n      </g>\r\n     </g>\r\n    </g>\r\n    <g id=\"xtick_6\">\r\n     <g id=\"line2d_11\">\r\n      <path clip-path=\"url(#p24d3d484c8)\" d=\"M 368.70007 239.758125 \r\nL 368.70007 22.318125 \r\n\" style=\"fill:none;stroke:#b0b0b0;stroke-linecap:square;stroke-width:0.8;\"/>\r\n     </g>\r\n     <g id=\"line2d_12\">\r\n      <g>\r\n       <use style=\"stroke:#000000;stroke-width:0.8;\" x=\"368.70007\" xlink:href=\"#mf44570f009\" y=\"239.758125\"/>\r\n      </g>\r\n     </g>\r\n     <g id=\"text_6\">\r\n      <!-- 100 -->\r\n      <g transform=\"translate(359.15632 254.356563)scale(0.1 -0.1)\">\r\n       <defs>\r\n        <path d=\"M 12.40625 8.296875 \r\nL 28.515625 8.296875 \r\nL 28.515625 63.921875 \r\nL 10.984375 60.40625 \r\nL 10.984375 69.390625 \r\nL 28.421875 72.90625 \r\nL 38.28125 72.90625 \r\nL 38.28125 8.296875 \r\nL 54.390625 8.296875 \r\nL 54.390625 0 \r\nL 12.40625 0 \r\nz\r\n\" id=\"DejaVuSans-49\"/>\r\n       </defs>\r\n       <use xlink:href=\"#DejaVuSans-49\"/>\r\n       <use x=\"63.623047\" xlink:href=\"#DejaVuSans-48\"/>\r\n       <use x=\"127.246094\" xlink:href=\"#DejaVuSans-48\"/>\r\n      </g>\r\n     </g>\r\n    </g>\r\n   </g>\r\n   <g id=\"matplotlib.axis_2\">\r\n    <g id=\"ytick_1\">\r\n     <g id=\"line2d_13\">\r\n      <path clip-path=\"url(#p24d3d484c8)\" d=\"M 46.0125 239.758125 \r\nL 380.8125 239.758125 \r\n\" style=\"fill:none;stroke:#b0b0b0;stroke-linecap:square;stroke-width:0.8;\"/>\r\n     </g>\r\n     <g id=\"line2d_14\">\r\n      <defs>\r\n       <path d=\"M 0 0 \r\nL -3.5 0 \r\n\" id=\"m5ac6be2c09\" style=\"stroke:#000000;stroke-width:0.8;\"/>\r\n      </defs>\r\n      <g>\r\n       <use style=\"stroke:#000000;stroke-width:0.8;\" x=\"46.0125\" xlink:href=\"#m5ac6be2c09\" y=\"239.758125\"/>\r\n      </g>\r\n     </g>\r\n     <g id=\"text_7\">\r\n      <!-- 0 -->\r\n      <g transform=\"translate(32.65 243.557344)scale(0.1 -0.1)\">\r\n       <use xlink:href=\"#DejaVuSans-48\"/>\r\n      </g>\r\n     </g>\r\n    </g>\r\n    <g id=\"ytick_2\">\r\n     <g id=\"line2d_15\">\r\n      <path clip-path=\"url(#p24d3d484c8)\" d=\"M 46.0125 194.350566 \r\nL 380.8125 194.350566 \r\n\" style=\"fill:none;stroke:#b0b0b0;stroke-linecap:square;stroke-width:0.8;\"/>\r\n     </g>\r\n     <g id=\"line2d_16\">\r\n      <g>\r\n       <use style=\"stroke:#000000;stroke-width:0.8;\" x=\"46.0125\" xlink:href=\"#m5ac6be2c09\" y=\"194.350566\"/>\r\n      </g>\r\n     </g>\r\n     <g id=\"text_8\">\r\n      <!-- 5000 -->\r\n      <g transform=\"translate(13.5625 198.149785)scale(0.1 -0.1)\">\r\n       <defs>\r\n        <path d=\"M 10.796875 72.90625 \r\nL 49.515625 72.90625 \r\nL 49.515625 64.59375 \r\nL 19.828125 64.59375 \r\nL 19.828125 46.734375 \r\nQ 21.96875 47.46875 24.109375 47.828125 \r\nQ 26.265625 48.1875 28.421875 48.1875 \r\nQ 40.625 48.1875 47.75 41.5 \r\nQ 54.890625 34.8125 54.890625 23.390625 \r\nQ 54.890625 11.625 47.5625 5.09375 \r\nQ 40.234375 -1.421875 26.90625 -1.421875 \r\nQ 22.3125 -1.421875 17.546875 -0.640625 \r\nQ 12.796875 0.140625 7.71875 1.703125 \r\nL 7.71875 11.625 \r\nQ 12.109375 9.234375 16.796875 8.0625 \r\nQ 21.484375 6.890625 26.703125 6.890625 \r\nQ 35.15625 6.890625 40.078125 11.328125 \r\nQ 45.015625 15.765625 45.015625 23.390625 \r\nQ 45.015625 31 40.078125 35.4375 \r\nQ 35.15625 39.890625 26.703125 39.890625 \r\nQ 22.75 39.890625 18.8125 39.015625 \r\nQ 14.890625 38.140625 10.796875 36.28125 \r\nz\r\n\" id=\"DejaVuSans-53\"/>\r\n       </defs>\r\n       <use xlink:href=\"#DejaVuSans-53\"/>\r\n       <use x=\"63.623047\" xlink:href=\"#DejaVuSans-48\"/>\r\n       <use x=\"127.246094\" xlink:href=\"#DejaVuSans-48\"/>\r\n       <use x=\"190.869141\" xlink:href=\"#DejaVuSans-48\"/>\r\n      </g>\r\n     </g>\r\n    </g>\r\n    <g id=\"ytick_3\">\r\n     <g id=\"line2d_17\">\r\n      <path clip-path=\"url(#p24d3d484c8)\" d=\"M 46.0125 148.943007 \r\nL 380.8125 148.943007 \r\n\" style=\"fill:none;stroke:#b0b0b0;stroke-linecap:square;stroke-width:0.8;\"/>\r\n     </g>\r\n     <g id=\"line2d_18\">\r\n      <g>\r\n       <use style=\"stroke:#000000;stroke-width:0.8;\" x=\"46.0125\" xlink:href=\"#m5ac6be2c09\" y=\"148.943007\"/>\r\n      </g>\r\n     </g>\r\n     <g id=\"text_9\">\r\n      <!-- 10000 -->\r\n      <g transform=\"translate(7.2 152.742225)scale(0.1 -0.1)\">\r\n       <use xlink:href=\"#DejaVuSans-49\"/>\r\n       <use x=\"63.623047\" xlink:href=\"#DejaVuSans-48\"/>\r\n       <use x=\"127.246094\" xlink:href=\"#DejaVuSans-48\"/>\r\n       <use x=\"190.869141\" xlink:href=\"#DejaVuSans-48\"/>\r\n       <use x=\"254.492188\" xlink:href=\"#DejaVuSans-48\"/>\r\n      </g>\r\n     </g>\r\n    </g>\r\n    <g id=\"ytick_4\">\r\n     <g id=\"line2d_19\">\r\n      <path clip-path=\"url(#p24d3d484c8)\" d=\"M 46.0125 103.535448 \r\nL 380.8125 103.535448 \r\n\" style=\"fill:none;stroke:#b0b0b0;stroke-linecap:square;stroke-width:0.8;\"/>\r\n     </g>\r\n     <g id=\"line2d_20\">\r\n      <g>\r\n       <use style=\"stroke:#000000;stroke-width:0.8;\" x=\"46.0125\" xlink:href=\"#m5ac6be2c09\" y=\"103.535448\"/>\r\n      </g>\r\n     </g>\r\n     <g id=\"text_10\">\r\n      <!-- 15000 -->\r\n      <g transform=\"translate(7.2 107.334666)scale(0.1 -0.1)\">\r\n       <use xlink:href=\"#DejaVuSans-49\"/>\r\n       <use x=\"63.623047\" xlink:href=\"#DejaVuSans-53\"/>\r\n       <use x=\"127.246094\" xlink:href=\"#DejaVuSans-48\"/>\r\n       <use x=\"190.869141\" xlink:href=\"#DejaVuSans-48\"/>\r\n       <use x=\"254.492188\" xlink:href=\"#DejaVuSans-48\"/>\r\n      </g>\r\n     </g>\r\n    </g>\r\n    <g id=\"ytick_5\">\r\n     <g id=\"line2d_21\">\r\n      <path clip-path=\"url(#p24d3d484c8)\" d=\"M 46.0125 58.127888 \r\nL 380.8125 58.127888 \r\n\" style=\"fill:none;stroke:#b0b0b0;stroke-linecap:square;stroke-width:0.8;\"/>\r\n     </g>\r\n     <g id=\"line2d_22\">\r\n      <g>\r\n       <use style=\"stroke:#000000;stroke-width:0.8;\" x=\"46.0125\" xlink:href=\"#m5ac6be2c09\" y=\"58.127888\"/>\r\n      </g>\r\n     </g>\r\n     <g id=\"text_11\">\r\n      <!-- 20000 -->\r\n      <g transform=\"translate(7.2 61.927107)scale(0.1 -0.1)\">\r\n       <use xlink:href=\"#DejaVuSans-50\"/>\r\n       <use x=\"63.623047\" xlink:href=\"#DejaVuSans-48\"/>\r\n       <use x=\"127.246094\" xlink:href=\"#DejaVuSans-48\"/>\r\n       <use x=\"190.869141\" xlink:href=\"#DejaVuSans-48\"/>\r\n       <use x=\"254.492188\" xlink:href=\"#DejaVuSans-48\"/>\r\n      </g>\r\n     </g>\r\n    </g>\r\n   </g>\r\n   <g id=\"patch_103\">\r\n    <path d=\"M 46.0125 239.758125 \r\nL 46.0125 22.318125 \r\n\" style=\"fill:none;stroke:#000000;stroke-linecap:square;stroke-linejoin:miter;stroke-width:0.8;\"/>\r\n   </g>\r\n   <g id=\"patch_104\">\r\n    <path d=\"M 380.8125 239.758125 \r\nL 380.8125 22.318125 \r\n\" style=\"fill:none;stroke:#000000;stroke-linecap:square;stroke-linejoin:miter;stroke-width:0.8;\"/>\r\n   </g>\r\n   <g id=\"patch_105\">\r\n    <path d=\"M 46.0125 239.758125 \r\nL 380.8125 239.758125 \r\n\" style=\"fill:none;stroke:#000000;stroke-linecap:square;stroke-linejoin:miter;stroke-width:0.8;\"/>\r\n   </g>\r\n   <g id=\"patch_106\">\r\n    <path d=\"M 46.0125 22.318125 \r\nL 380.8125 22.318125 \r\n\" style=\"fill:none;stroke:#000000;stroke-linecap:square;stroke-linejoin:miter;stroke-width:0.8;\"/>\r\n   </g>\r\n   <g id=\"text_12\">\r\n    <!-- hours-per-week -->\r\n    <g transform=\"translate(166.864688 16.318125)scale(0.12 -0.12)\">\r\n     <defs>\r\n      <path d=\"M 54.890625 33.015625 \r\nL 54.890625 0 \r\nL 45.90625 0 \r\nL 45.90625 32.71875 \r\nQ 45.90625 40.484375 42.875 44.328125 \r\nQ 39.84375 48.1875 33.796875 48.1875 \r\nQ 26.515625 48.1875 22.3125 43.546875 \r\nQ 18.109375 38.921875 18.109375 30.90625 \r\nL 18.109375 0 \r\nL 9.078125 0 \r\nL 9.078125 75.984375 \r\nL 18.109375 75.984375 \r\nL 18.109375 46.1875 \r\nQ 21.34375 51.125 25.703125 53.5625 \r\nQ 30.078125 56 35.796875 56 \r\nQ 45.21875 56 50.046875 50.171875 \r\nQ 54.890625 44.34375 54.890625 33.015625 \r\nz\r\n\" id=\"DejaVuSans-104\"/>\r\n      <path d=\"M 30.609375 48.390625 \r\nQ 23.390625 48.390625 19.1875 42.75 \r\nQ 14.984375 37.109375 14.984375 27.296875 \r\nQ 14.984375 17.484375 19.15625 11.84375 \r\nQ 23.34375 6.203125 30.609375 6.203125 \r\nQ 37.796875 6.203125 41.984375 11.859375 \r\nQ 46.1875 17.53125 46.1875 27.296875 \r\nQ 46.1875 37.015625 41.984375 42.703125 \r\nQ 37.796875 48.390625 30.609375 48.390625 \r\nz\r\nM 30.609375 56 \r\nQ 42.328125 56 49.015625 48.375 \r\nQ 55.71875 40.765625 55.71875 27.296875 \r\nQ 55.71875 13.875 49.015625 6.21875 \r\nQ 42.328125 -1.421875 30.609375 -1.421875 \r\nQ 18.84375 -1.421875 12.171875 6.21875 \r\nQ 5.515625 13.875 5.515625 27.296875 \r\nQ 5.515625 40.765625 12.171875 48.375 \r\nQ 18.84375 56 30.609375 56 \r\nz\r\n\" id=\"DejaVuSans-111\"/>\r\n      <path d=\"M 8.5 21.578125 \r\nL 8.5 54.6875 \r\nL 17.484375 54.6875 \r\nL 17.484375 21.921875 \r\nQ 17.484375 14.15625 20.5 10.265625 \r\nQ 23.53125 6.390625 29.59375 6.390625 \r\nQ 36.859375 6.390625 41.078125 11.03125 \r\nQ 45.3125 15.671875 45.3125 23.6875 \r\nL 45.3125 54.6875 \r\nL 54.296875 54.6875 \r\nL 54.296875 0 \r\nL 45.3125 0 \r\nL 45.3125 8.40625 \r\nQ 42.046875 3.421875 37.71875 1 \r\nQ 33.40625 -1.421875 27.6875 -1.421875 \r\nQ 18.265625 -1.421875 13.375 4.4375 \r\nQ 8.5 10.296875 8.5 21.578125 \r\nz\r\nM 31.109375 56 \r\nz\r\n\" id=\"DejaVuSans-117\"/>\r\n      <path d=\"M 41.109375 46.296875 \r\nQ 39.59375 47.171875 37.8125 47.578125 \r\nQ 36.03125 48 33.890625 48 \r\nQ 26.265625 48 22.1875 43.046875 \r\nQ 18.109375 38.09375 18.109375 28.8125 \r\nL 18.109375 0 \r\nL 9.078125 0 \r\nL 9.078125 54.6875 \r\nL 18.109375 54.6875 \r\nL 18.109375 46.1875 \r\nQ 20.953125 51.171875 25.484375 53.578125 \r\nQ 30.03125 56 36.53125 56 \r\nQ 37.453125 56 38.578125 55.875 \r\nQ 39.703125 55.765625 41.0625 55.515625 \r\nz\r\n\" id=\"DejaVuSans-114\"/>\r\n      <path d=\"M 44.28125 53.078125 \r\nL 44.28125 44.578125 \r\nQ 40.484375 46.53125 36.375 47.5 \r\nQ 32.28125 48.484375 27.875 48.484375 \r\nQ 21.1875 48.484375 17.84375 46.4375 \r\nQ 14.5 44.390625 14.5 40.28125 \r\nQ 14.5 37.15625 16.890625 35.375 \r\nQ 19.28125 33.59375 26.515625 31.984375 \r\nL 29.59375 31.296875 \r\nQ 39.15625 29.25 43.1875 25.515625 \r\nQ 47.21875 21.78125 47.21875 15.09375 \r\nQ 47.21875 7.46875 41.1875 3.015625 \r\nQ 35.15625 -1.421875 24.609375 -1.421875 \r\nQ 20.21875 -1.421875 15.453125 -0.5625 \r\nQ 10.6875 0.296875 5.421875 2 \r\nL 5.421875 11.28125 \r\nQ 10.40625 8.6875 15.234375 7.390625 \r\nQ 20.0625 6.109375 24.8125 6.109375 \r\nQ 31.15625 6.109375 34.5625 8.28125 \r\nQ 37.984375 10.453125 37.984375 14.40625 \r\nQ 37.984375 18.0625 35.515625 20.015625 \r\nQ 33.0625 21.96875 24.703125 23.78125 \r\nL 21.578125 24.515625 \r\nQ 13.234375 26.265625 9.515625 29.90625 \r\nQ 5.8125 33.546875 5.8125 39.890625 \r\nQ 5.8125 47.609375 11.28125 51.796875 \r\nQ 16.75 56 26.8125 56 \r\nQ 31.78125 56 36.171875 55.265625 \r\nQ 40.578125 54.546875 44.28125 53.078125 \r\nz\r\n\" id=\"DejaVuSans-115\"/>\r\n      <path d=\"M 4.890625 31.390625 \r\nL 31.203125 31.390625 \r\nL 31.203125 23.390625 \r\nL 4.890625 23.390625 \r\nz\r\n\" id=\"DejaVuSans-45\"/>\r\n      <path d=\"M 18.109375 8.203125 \r\nL 18.109375 -20.796875 \r\nL 9.078125 -20.796875 \r\nL 9.078125 54.6875 \r\nL 18.109375 54.6875 \r\nL 18.109375 46.390625 \r\nQ 20.953125 51.265625 25.265625 53.625 \r\nQ 29.59375 56 35.59375 56 \r\nQ 45.5625 56 51.78125 48.09375 \r\nQ 58.015625 40.1875 58.015625 27.296875 \r\nQ 58.015625 14.40625 51.78125 6.484375 \r\nQ 45.5625 -1.421875 35.59375 -1.421875 \r\nQ 29.59375 -1.421875 25.265625 0.953125 \r\nQ 20.953125 3.328125 18.109375 8.203125 \r\nz\r\nM 48.6875 27.296875 \r\nQ 48.6875 37.203125 44.609375 42.84375 \r\nQ 40.53125 48.484375 33.40625 48.484375 \r\nQ 26.265625 48.484375 22.1875 42.84375 \r\nQ 18.109375 37.203125 18.109375 27.296875 \r\nQ 18.109375 17.390625 22.1875 11.75 \r\nQ 26.265625 6.109375 33.40625 6.109375 \r\nQ 40.53125 6.109375 44.609375 11.75 \r\nQ 48.6875 17.390625 48.6875 27.296875 \r\nz\r\n\" id=\"DejaVuSans-112\"/>\r\n      <path d=\"M 56.203125 29.59375 \r\nL 56.203125 25.203125 \r\nL 14.890625 25.203125 \r\nQ 15.484375 15.921875 20.484375 11.0625 \r\nQ 25.484375 6.203125 34.421875 6.203125 \r\nQ 39.59375 6.203125 44.453125 7.46875 \r\nQ 49.3125 8.734375 54.109375 11.28125 \r\nL 54.109375 2.78125 \r\nQ 49.265625 0.734375 44.1875 -0.34375 \r\nQ 39.109375 -1.421875 33.890625 -1.421875 \r\nQ 20.796875 -1.421875 13.15625 6.1875 \r\nQ 5.515625 13.8125 5.515625 26.8125 \r\nQ 5.515625 40.234375 12.765625 48.109375 \r\nQ 20.015625 56 32.328125 56 \r\nQ 43.359375 56 49.78125 48.890625 \r\nQ 56.203125 41.796875 56.203125 29.59375 \r\nz\r\nM 47.21875 32.234375 \r\nQ 47.125 39.59375 43.09375 43.984375 \r\nQ 39.0625 48.390625 32.421875 48.390625 \r\nQ 24.90625 48.390625 20.390625 44.140625 \r\nQ 15.875 39.890625 15.1875 32.171875 \r\nz\r\n\" id=\"DejaVuSans-101\"/>\r\n      <path d=\"M 4.203125 54.6875 \r\nL 13.1875 54.6875 \r\nL 24.421875 12.015625 \r\nL 35.59375 54.6875 \r\nL 46.1875 54.6875 \r\nL 57.421875 12.015625 \r\nL 68.609375 54.6875 \r\nL 77.59375 54.6875 \r\nL 63.28125 0 \r\nL 52.6875 0 \r\nL 40.921875 44.828125 \r\nL 29.109375 0 \r\nL 18.5 0 \r\nz\r\n\" id=\"DejaVuSans-119\"/>\r\n      <path d=\"M 9.078125 75.984375 \r\nL 18.109375 75.984375 \r\nL 18.109375 31.109375 \r\nL 44.921875 54.6875 \r\nL 56.390625 54.6875 \r\nL 27.390625 29.109375 \r\nL 57.625 0 \r\nL 45.90625 0 \r\nL 18.109375 26.703125 \r\nL 18.109375 0 \r\nL 9.078125 0 \r\nz\r\n\" id=\"DejaVuSans-107\"/>\r\n     </defs>\r\n     <use xlink:href=\"#DejaVuSans-104\"/>\r\n     <use x=\"63.378906\" xlink:href=\"#DejaVuSans-111\"/>\r\n     <use x=\"124.560547\" xlink:href=\"#DejaVuSans-117\"/>\r\n     <use x=\"187.939453\" xlink:href=\"#DejaVuSans-114\"/>\r\n     <use x=\"229.052734\" xlink:href=\"#DejaVuSans-115\"/>\r\n     <use x=\"281.152344\" xlink:href=\"#DejaVuSans-45\"/>\r\n     <use x=\"317.236328\" xlink:href=\"#DejaVuSans-112\"/>\r\n     <use x=\"380.712891\" xlink:href=\"#DejaVuSans-101\"/>\r\n     <use x=\"442.236328\" xlink:href=\"#DejaVuSans-114\"/>\r\n     <use x=\"476.974609\" xlink:href=\"#DejaVuSans-45\"/>\r\n     <use x=\"513.058594\" xlink:href=\"#DejaVuSans-119\"/>\r\n     <use x=\"594.845703\" xlink:href=\"#DejaVuSans-101\"/>\r\n     <use x=\"656.369141\" xlink:href=\"#DejaVuSans-101\"/>\r\n     <use x=\"717.892578\" xlink:href=\"#DejaVuSans-107\"/>\r\n    </g>\r\n   </g>\r\n  </g>\r\n </g>\r\n <defs>\r\n  <clipPath id=\"p24d3d484c8\">\r\n   <rect height=\"217.44\" width=\"334.8\" x=\"46.0125\" y=\"22.318125\"/>\r\n  </clipPath>\r\n </defs>\r\n</svg>\r\n",
      "image/png": "[encoded data removed]"
     },
     "metadata": {
      "needs_background": "light"
     }
    }
   ],
   "source": [
    "\n",
    "scaler = StandardScaler()\n",
    "# cols_w_zeros = ['capital-gain',] \n",
    "# df[cols_w_zeros] = df[cols_w_zeros].replace({0:np.nan}) # None не переваривается скейлером - только дропать\n",
    "df = pd.read_csv( 'adult.csv' )\n",
    "df['index1'] = df.index\n",
    "# scaler.fit(df[['index1','age']])\n",
    "cols_to_norm = ['index1','age',\n",
    "'educational-num',\n",
    " 'hours-per-week',\n",
    " 'capital-gain'\n",
    " ]\n",
    "dff = df.copy()\n",
    "\n",
    "df.hist(column='hours-per-week',bins=100) # before scaling\n",
    "\n",
    "dff[cols_to_norm] = pd.DataFrame(scaler.fit_transform(df[cols_to_norm]),columns=cols_to_norm)\n",
    "# dff.hist(column='hours-per-week',bins=100) # after scaling\n",
    "\n",
    "# X = dff[used_cols]\n",
    "dff[used_cols]"
   ]
  },
  {
   "source": [
    "0.8539521032386153 - максимальный score на 2020-12-23--11-35 - со стандартизацией величин, которые как-то похожи на стандартные  \n",
    "0.8435910162551185 - максимальный score на 2020-12-21--21-10 - просто за счет выбора колонок, без преобработки скейлерами\n",
    "\n"
   ],
   "cell_type": "markdown",
   "metadata": {}
  },
  {
   "cell_type": "code",
   "execution_count": 5,
   "metadata": {},
   "outputs": [],
   "source": [
    "\n",
    "X = pd.get_dummies(dff[used_cols], columns=[c for c in cat_cols if c in used_cols])\n",
    "\n",
    "le = LabelEncoder()\n",
    "le.fit( df['income'] )\n",
    "# le.classes_\n",
    "y = pd.Series( data = le.transform( df['income'] ) )\n",
    "\n",
    "test_s = 50\n",
    "train_s = 50"
   ]
  },
  {
   "cell_type": "code",
   "execution_count": 6,
   "metadata": {},
   "outputs": [
    {
     "output_type": "execute_result",
     "data": {
      "text/plain": [
       "0.86"
      ]
     },
     "metadata": {},
     "execution_count": 6
    }
   ],
   "source": [
    "\n",
    "X_train, X_test, y_train, y_test = train_test_split(X, y, test_size=test_s, train_size=train_s, random_state=42)\n",
    "\n",
    "model = LogisticRegression()\n",
    "model.fit( X_train, y_train )\n",
    "# predictions = model.predict_proba( X_train )\n",
    "model.predict(X)\n",
    "model.score(X_test, y_test)\n",
    "# from sklearn.metrics import accuracy_score\n",
    "# accuracy_score(y_test,  model.predict(X_test))"
   ]
  },
  {
   "cell_type": "code",
   "execution_count": 7,
   "metadata": {},
   "outputs": [
    {
     "output_type": "execute_result",
     "data": {
      "text/plain": [
       "0.82"
      ]
     },
     "metadata": {},
     "execution_count": 7
    }
   ],
   "source": [
    "model2 = SVC(kernel='rbf', degree=1, gamma='scale') \n",
    "X_train, X_test, y_train, y_test = train_test_split(X, y, test_size=test_s, train_size = train_s, random_state=42)\n",
    "\n",
    "model2.fit(X_train, y_train)\n",
    "model2.score(X_test,y_test)"
   ]
  },
  {
   "source": [
    "0.8604045166894155 - с train_size = 10 000, kernel='rbf', gamma='scale' - лучше, чем у лин. регрессии  \n",
    "0.8509120238242959 - с train_size = 10 000, kernel='poly', degree=1  \n",
    "0.8451420771807917 - с train_size = 1 000, kernel='poly', degree=1  \n",
    "0.8489266658394342 - с train_size = 10 000, kernel='linear'"
   ],
   "cell_type": "markdown",
   "metadata": {}
  },
  {
   "cell_type": "code",
   "execution_count": 8,
   "metadata": {},
   "outputs": [],
   "source": [
    "test_s = 1000\n",
    "train_s = 1000\n",
    "X_train, X_test, y_train, y_test = train_test_split(X, y, test_size=test_s, train_size=train_s, random_state=42)"
   ]
  },
  {
   "cell_type": "code",
   "execution_count": 9,
   "metadata": {},
   "outputs": [
    {
     "output_type": "stream",
     "name": "stdout",
     "text": [
      "4.306996583938599\n\nscore:\n"
     ]
    },
    {
     "output_type": "execute_result",
     "data": {
      "text/plain": [
       "0.785"
      ]
     },
     "metadata": {},
     "execution_count": 9
    }
   ],
   "source": [
    "model = lr()\n",
    "start = time.time()\n",
    "model.fit( X_train, y_train, lr=0.01, max_iter=1e4, method='sgd' )\n",
    "print(time.time() - start)\n",
    "\n",
    "print('\\nscore:')\n",
    "from sklearn.metrics import accuracy_score\n",
    "accuracy_score(y_test,  np.around(model.predict(X_test)))"
   ]
  },
  {
   "cell_type": "code",
   "execution_count": 10,
   "metadata": {},
   "outputs": [
    {
     "output_type": "stream",
     "name": "stdout",
     "text": [
      "4.389995336532593\n\nscore:\n"
     ]
    },
    {
     "output_type": "execute_result",
     "data": {
      "text/plain": [
       "0.787"
      ]
     },
     "metadata": {},
     "execution_count": 10
    }
   ],
   "source": [
    "model = lr()\n",
    "start = time.time()\n",
    "model.fit( X_train, y_train, lr=0.01, max_iter=1e4, method='momentum', hist_w=0. )\n",
    "print(time.time() - start)\n",
    "\n",
    "print('\\nscore:')\n",
    "from sklearn.metrics import accuracy_score\n",
    "accuracy_score(y_test,  np.around(model.predict(X_test)))"
   ]
  },
  {
   "cell_type": "code",
   "execution_count": 11,
   "metadata": {},
   "outputs": [
    {
     "output_type": "stream",
     "name": "stdout",
     "text": [
      "0.6200320720672607\n\nscore:\n"
     ]
    },
    {
     "output_type": "execute_result",
     "data": {
      "text/plain": [
       "0.789"
      ]
     },
     "metadata": {},
     "execution_count": 11
    }
   ],
   "source": [
    "model = lr()\n",
    "start = time.time()\n",
    "model.fit( X_train, y_train, lr=0.01, max_iter=1e4, method='rmsprop', hist_w=0. )\n",
    "print(time.time() - start)\n",
    "\n",
    "print('\\nscore:')\n",
    "from sklearn.metrics import accuracy_score\n",
    "accuracy_score(y_test,  np.around(model.predict(X_test)))"
   ]
  },
  {
   "cell_type": "code",
   "execution_count": 12,
   "metadata": {},
   "outputs": [
    {
     "output_type": "stream",
     "name": "stdout",
     "text": [
      "6.10503363609314\n\nscore:\n"
     ]
    },
    {
     "output_type": "execute_result",
     "data": {
      "text/plain": [
       "0.788"
      ]
     },
     "metadata": {},
     "execution_count": 12
    }
   ],
   "source": [
    "model = lr()\n",
    "start = time.time()\n",
    "model.fit( X_train, y_train, lr=0.01, max_iter=1e4, method='nag', hist_w=0. )\n",
    "print(time.time() - start)\n",
    "\n",
    "print('\\nscore:')\n",
    "from sklearn.metrics import accuracy_score\n",
    "accuracy_score(y_test,  np.around(model.predict(X_test)))"
   ]
  },
  {
   "cell_type": "code",
   "execution_count": 13,
   "metadata": {},
   "outputs": [
    {
     "output_type": "stream",
     "name": "stdout",
     "text": [
      "4.628997564315796\n\nscore:\n"
     ]
    },
    {
     "output_type": "execute_result",
     "data": {
      "text/plain": [
       "0.787"
      ]
     },
     "metadata": {},
     "execution_count": 13
    }
   ],
   "source": [
    "# Контрольный расчет: проверить, что ничего основного не сломано - numply_ml без изменений, sgd\n",
    "from lreg_numpyml_pure import LogisticRegression as lr_p\n",
    "model = lr_p()\n",
    "start = time.time()\n",
    "model.fit( X_train, y_train, lr=0.01, max_iter=1e4)\n",
    "print(time.time() - start)\n",
    "\n",
    "print('\\nscore:')\n",
    "from sklearn.metrics import accuracy_score\n",
    "accuracy_score(y_test,  np.around(model.predict(X_test)))"
   ]
  },
  {
   "cell_type": "code",
   "execution_count": null,
   "metadata": {},
   "outputs": [],
   "source": []
  }
 ]
}