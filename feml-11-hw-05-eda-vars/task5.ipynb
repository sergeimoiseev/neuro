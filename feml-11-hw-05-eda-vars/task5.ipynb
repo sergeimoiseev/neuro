{
 "cells": [
  {
   "cell_type": "code",
   "execution_count": 1,
   "metadata": {},
   "outputs": [],
   "source": [
    "import pandas as pd\n",
    "import numpy as np\n",
    "import seaborn as sns\n",
    "from sklearn.linear_model import LinearRegression\n",
    "from sklearn.model_selection import train_test_split\n",
    "from sklearn.datasets import fetch_california_housing\n",
    "from sklearn.metrics import mean_squared_error, r2_score\n",
    "\n",
    "from IPython.display import Markdown, display\n",
    "def printmd(string):\n",
    "    display(Markdown(string))\n",
    "    \n",
    "data = fetch_california_housing(as_frame=True)"
   ]
  },
  {
   "cell_type": "code",
   "execution_count": 2,
   "metadata": {},
   "outputs": [
    {
     "name": "stdout",
     "output_type": "stream",
     "text": [
      ".. _california_housing_dataset:\n",
      "\n",
      "California Housing dataset\n",
      "--------------------------\n",
      "\n",
      "**Data Set Characteristics:**\n",
      "\n",
      "    :Number of Instances: 20640\n",
      "\n",
      "    :Number of Attributes: 8 numeric, predictive attributes and the target\n",
      "\n",
      "    :Attribute Information:\n",
      "        - MedInc        median income in block\n",
      "        - HouseAge      median house age in block\n",
      "        - AveRooms      average number of rooms\n",
      "        - AveBedrms     average number of bedrooms\n",
      "        - Population    block population\n",
      "        - AveOccup      average house occupancy\n",
      "        - Latitude      house block latitude\n",
      "        - Longitude     house block longitude\n",
      "\n",
      "    :Missing Attribute Values: None\n",
      "\n",
      "This dataset was obtained from the StatLib repository.\n",
      "http://lib.stat.cmu.edu/datasets/\n",
      "\n",
      "The target variable is the median house value for California districts.\n",
      "\n",
      "This dataset was derived from the 1990 U.S. census, using one row per census\n",
      "block group. A block group is the smallest geographical unit for which the U.S.\n",
      "Census Bureau publishes sample data (a block group typically has a population\n",
      "of 600 to 3,000 people).\n",
      "\n",
      "It can be downloaded/loaded using the\n",
      ":func:`sklearn.datasets.fetch_california_housing` function.\n",
      "\n",
      ".. topic:: References\n",
      "\n",
      "    - Pace, R. Kelley and Ronald Barry, Sparse Spatial Autoregressions,\n",
      "      Statistics and Probability Letters, 33 (1997) 291-297\n",
      "\n"
     ]
    }
   ],
   "source": [
    "print(data.DESCR)"
   ]
  },
  {
   "cell_type": "code",
   "execution_count": 3,
   "metadata": {},
   "outputs": [
    {
     "name": "stdout",
     "output_type": "stream",
     "text": [
      "<class 'pandas.core.frame.DataFrame'>\n",
      "RangeIndex: 20640 entries, 0 to 20639\n",
      "Data columns (total 8 columns):\n",
      " #   Column      Non-Null Count  Dtype  \n",
      "---  ------      --------------  -----  \n",
      " 0   MedInc      20640 non-null  float64\n",
      " 1   HouseAge    20640 non-null  float64\n",
      " 2   AveRooms    20640 non-null  float64\n",
      " 3   AveBedrms   20640 non-null  float64\n",
      " 4   Population  20640 non-null  float64\n",
      " 5   AveOccup    20640 non-null  float64\n",
      " 6   Latitude    20640 non-null  float64\n",
      " 7   Longitude   20640 non-null  float64\n",
      "dtypes: float64(8)\n",
      "memory usage: 1.3 MB\n"
     ]
    }
   ],
   "source": [
    "data.data.info()"
   ]
  },
  {
   "cell_type": "code",
   "execution_count": 4,
   "metadata": {},
   "outputs": [
    {
     "data": {
      "text/plain": [
       "0        4.526\n",
       "1        3.585\n",
       "2        3.521\n",
       "3        3.413\n",
       "4        3.422\n",
       "         ...  \n",
       "20635    0.781\n",
       "20636    0.771\n",
       "20637    0.923\n",
       "20638    0.847\n",
       "20639    0.894\n",
       "Name: MedHouseVal, Length: 20640, dtype: float64"
      ]
     },
     "execution_count": 4,
     "metadata": {},
     "output_type": "execute_result"
    }
   ],
   "source": [
    "data.target"
   ]
  },
  {
   "cell_type": "markdown",
   "metadata": {},
   "source": [
    "Пункты 3 и 4, которые дальше будут повторяться"
   ]
  },
  {
   "cell_type": "code",
   "execution_count": 5,
   "metadata": {},
   "outputs": [],
   "source": [
    "class FitScore:\n",
    "    '''Repetitive fitting and table printing.'''\n",
    "    header_str = '''|model|RMSE|R2|\\n|--|--|--|'''\n",
    "    def __init__(self):\n",
    "        self.scores = ''\n",
    "    def run(self,X,y,model_desc):\n",
    "        if model_desc in self.scores: # пропускаем запуски того, что уже мерили\n",
    "            pass\n",
    "        else:\n",
    "            model = LinearRegression()\n",
    "            X_train, X_test, y_train, y_test = train_test_split(X, y, test_size=0.2)\n",
    "            model.fit(X_train, y_train)\n",
    "            y_pred = model.predict(X_test)\n",
    "            self.scores += '''\\n|%s| %.05f | %.05f |''' % (model_desc, mean_squared_error(y_pred,y_test), r2_score(y_pred, y_test))\n",
    "    def pr(self):\n",
    "        printmd(self.header_str + self.scores)\n",
    "fs = FitScore()\n"
   ]
  },
  {
   "cell_type": "code",
   "execution_count": 6,
   "metadata": {},
   "outputs": [
    {
     "data": {
      "text/markdown": [
       "|model|RMSE|R2|\n",
       "|--|--|--|\n",
       "|без преобразований| 0.50129 | 0.35488 |"
      ],
      "text/plain": [
       "<IPython.core.display.Markdown object>"
      ]
     },
     "metadata": {},
     "output_type": "display_data"
    }
   ],
   "source": [
    "fs.run(data.data, data.target, 'без преобразований')\n",
    "fs.pr()"
   ]
  },
  {
   "cell_type": "markdown",
   "metadata": {},
   "source": [
    "Распределение целевой переменной"
   ]
  },
  {
   "cell_type": "code",
   "execution_count": 7,
   "metadata": {},
   "outputs": [
    {
     "data": {
      "text/plain": [
       "<AxesSubplot:>"
      ]
     },
     "execution_count": 7,
     "metadata": {},
     "output_type": "execute_result"
    },
    {
     "data": {
      "image/png": "[encoded data removed]",
      "text/plain": [
       "<Figure size 432x288 with 1 Axes>"
      ]
     },
     "metadata": {
      "needs_background": "light"
     },
     "output_type": "display_data"
    }
   ],
   "source": [
    "# sns.boxplot(x=data.target,) # не очень понятно, что за распределение - только виден выброс\n",
    "data.target.hist(bins=100)"
   ]
  },
  {
   "cell_type": "markdown",
   "metadata": {},
   "source": [
    "Выброс есть явный - на 5.   \n",
    "Не хотелось бы его просто выбрасывать, т.к. в нем много данных (1000 строк).  \n",
    "Для начала просто удалим эти строки. И потом уже построим корреляцию с остальными признаками.  "
   ]
  },
  {
   "cell_type": "code",
   "execution_count": 8,
   "metadata": {},
   "outputs": [
    {
     "data": {
      "text/plain": [
       "<AxesSubplot:>"
      ]
     },
     "execution_count": 8,
     "metadata": {},
     "output_type": "execute_result"
    },
    {
     "data": {
      "image/png": "[encoded data removed]",
      "text/plain": [
       "<Figure size 432x288 with 1 Axes>"
      ]
     },
     "metadata": {
      "needs_background": "light"
     },
     "output_type": "display_data"
    }
   ],
   "source": [
    "df = pd.concat([data.data, data.target], axis = 1)\n",
    "# df.loc[df.MedHouseVal>4].shape\n",
    "# df.loc[df.MedHouseVal>5.0001].MedHouseVal.hist(bins=100)\n",
    "# выброс хитрый - очень близко к 5, но не 5. А 5.00001. Какая-то явно компьютерная ошибка округления.\n",
    "df.loc[df.MedHouseVal<5.00001].MedHouseVal.hist(bins=100) # вот так красиво уже"
   ]
  },
  {
   "cell_type": "code",
   "execution_count": 9,
   "metadata": {},
   "outputs": [],
   "source": [
    "df1 = df.loc[df.MedHouseVal<5.00001]"
   ]
  },
  {
   "cell_type": "code",
   "execution_count": 10,
   "metadata": {},
   "outputs": [],
   "source": [
    "# заглушено, т.к. долго работатет - график лежит рядом в папке\n",
    "# sns.pairplot(df1)"
   ]
  },
  {
   "cell_type": "code",
   "execution_count": 11,
   "metadata": {},
   "outputs": [
    {
     "data": {
      "image/png": "[encoded data removed]",
      "text/plain": [
       "<Figure size 432x288 with 2 Axes>"
      ]
     },
     "metadata": {
      "needs_background": "light"
     },
     "output_type": "display_data"
    }
   ],
   "source": [
    "# from https://www.geeksforgeeks.org/how-to-create-a-seaborn-correlation-heatmap-in-python/\n",
    "import matplotlib.pyplot as mp\n",
    "# print(df1.corr())\n",
    "# plotting correlation heatmap\n",
    "dataplot = sns.heatmap(df1.corr(), cmap=\"YlGnBu\", annot=True)\n",
    "# displaying heatmap\n",
    "mp.show()\n"
   ]
  },
  {
   "cell_type": "markdown",
   "metadata": {},
   "source": [
    "Наиболее слабым выглядит признак Population - удалим его.\n",
    "\n",
    "На будущее - хорошо бы нормировать признаки \n",
    "* AveOccup\n",
    "* AveBedrms\n",
    "* AveOccup"
   ]
  },
  {
   "cell_type": "code",
   "execution_count": 12,
   "metadata": {},
   "outputs": [
    {
     "data": {
      "text/markdown": [
       "|model|RMSE|R2|\n",
       "|--|--|--|\n",
       "|без преобразований| 0.50129 | 0.35488 |\n",
       "|удалены только выбросы целевой| 0.43085 | 0.23797 |\n",
       "|удалены выбросы целевой и колонка Population| 0.39346 | 0.30219 |\n",
       "|удалены выбросы целевой и колонка HouseAge| 0.38744 | 0.25648 |"
      ],
      "text/plain": [
       "<IPython.core.display.Markdown object>"
      ]
     },
     "metadata": {},
     "output_type": "display_data"
    }
   ],
   "source": [
    "# Удалили выбросы целевой колонки и удалили неинформативную колонку Population - строим метрики\n",
    "# Странно - на pairplot менее информативной выглядит колонка HouseAge\n",
    "df11 = df1[[c for c in df1.columns if c != 'Population']]\n",
    "df12 = df1[[c for c in df1.columns if c != 'HouseAge']]\n",
    "df11_X = df11[[c for c in df11.columns if c != 'MedHouseVal']]\n",
    "df12_X = df12[[c for c in df12.columns if c != 'MedHouseVal']]\n",
    "\n",
    "fs.run(df1[[c for c in df1.columns if c != 'MedHouseVal']],df1.MedHouseVal,'удалены только выбросы целевой')\n",
    "fs.run(df11_X,df11.MedHouseVal,'удалены выбросы целевой и колонка Population')\n",
    "fs.run(df12_X,df12.MedHouseVal,'удалены выбросы целевой и колонка HouseAge')\n",
    "fs.pr()\n"
   ]
  },
  {
   "cell_type": "markdown",
   "metadata": {},
   "source": [
    "Имеет смысл заменить широту и долготу на расстояние от центра - добавить такую колонку.  \n",
    "Плюс взять корень от MedInc, т.к. доход различается не линейно, а в разы. Можно и логарифм."
   ]
  },
  {
   "cell_type": "code",
   "execution_count": 18,
   "metadata": {},
   "outputs": [
    {
     "data": {
      "text/plain": [
       "<AxesSubplot:>"
      ]
     },
     "execution_count": 18,
     "metadata": {},
     "output_type": "execute_result"
    },
    {
     "data": {
      "image/png": "[encoded data removed]",
      "text/plain": [
       "<Figure size 432x288 with 1 Axes>"
      ]
     },
     "metadata": {
      "needs_background": "light"
     },
     "output_type": "display_data"
    }
   ],
   "source": [
    "df2 = df12.copy() # за основу возьмем данные без выбросов целевой и колонки HouseAge - минимальная RMSE\n",
    "df2['CenterDist'] = np.sqrt((df2.Latitude.mean() - df2.Latitude)**2 + (df2.Longitude.mean() - df2.Longitude)**2)\n",
    "df2.CenterDist.hist(bins=100)"
   ]
  },
  {
   "cell_type": "code",
   "execution_count": 25,
   "metadata": {},
   "outputs": [
    {
     "data": {
      "text/plain": [
       "<AxesSubplot:>"
      ]
     },
     "execution_count": 25,
     "metadata": {},
     "output_type": "execute_result"
    },
    {
     "data": {
      "image/png": "[encoded data removed]",
      "text/plain": [
       "<Figure size 432x288 with 1 Axes>"
      ]
     },
     "metadata": {
      "needs_background": "light"
     },
     "output_type": "display_data"
    }
   ],
   "source": [
    "df2['SqrtMedInc'] = np.sqrt(df2.MedInc)\n",
    "df2.SqrtMedInc.hist(bins=100, fc=(0, 0, 1, 0.5))\n",
    "df2.MedInc.hist(bins=100, fc=(1, 0, 0, 0.5))"
   ]
  },
  {
   "cell_type": "code",
   "execution_count": 27,
   "metadata": {},
   "outputs": [
    {
     "data": {
      "text/markdown": [
       "|model|RMSE|R2|\n",
       "|--|--|--|\n",
       "|без преобразований| 0.50129 | 0.35488 |\n",
       "|удалены только выбросы целевой| 0.43085 | 0.23797 |\n",
       "|удалены выбросы целевой и колонка Population| 0.39346 | 0.30219 |\n",
       "|удалены выбросы целевой и колонка HouseAge| 0.38744 | 0.25648 |\n",
       "|удалены выбросы целевой, колонка HouseAge, добавлены SqrtMedInc и CenterDist| 0.41747 | 0.19128 |"
      ],
      "text/plain": [
       "<IPython.core.display.Markdown object>"
      ]
     },
     "metadata": {},
     "output_type": "display_data"
    }
   ],
   "source": [
    "df2_X = df2[[c for c in df2.columns if c != 'MedHouseVal']]\n",
    "fs.run(df2_X,df2.MedHouseVal,'удалены выбросы целевой, колонка HouseAge, добавлены SqrtMedInc и CenterDist')\n",
    "fs.pr()"
   ]
  },
  {
   "cell_type": "code",
   "execution_count": 28,
   "metadata": {},
   "outputs": [
    {
     "name": "stdout",
     "output_type": "stream",
     "text": [
      "<class 'pandas.core.frame.DataFrame'>\n",
      "Int64Index: 19675 entries, 0 to 20639\n",
      "Data columns (total 10 columns):\n",
      " #   Column       Non-Null Count  Dtype  \n",
      "---  ------       --------------  -----  \n",
      " 0   MedInc       19675 non-null  float64\n",
      " 1   AveRooms     19675 non-null  float64\n",
      " 2   AveBedrms    19675 non-null  float64\n",
      " 3   Population   19675 non-null  float64\n",
      " 4   AveOccup     19675 non-null  float64\n",
      " 5   Latitude     19675 non-null  float64\n",
      " 6   Longitude    19675 non-null  float64\n",
      " 7   MedHouseVal  19675 non-null  float64\n",
      " 8   CenterDist   19675 non-null  float64\n",
      " 9   SqrtMedInc   19675 non-null  float64\n",
      "dtypes: float64(10)\n",
      "memory usage: 1.7 MB\n"
     ]
    }
   ],
   "source": [
    "df2.info()"
   ]
  },
  {
   "cell_type": "markdown",
   "metadata": {},
   "source": [
    "R2 падает - в основном из-за антикорреляции.  \n",
    "Бороться с этим можно. Например, брать не расстояние от центра, а минус расстояние от центра (дальше от центра - дешевле недвижимость).  \n",
    "Посмотреть другие колонки на антикорреляцию по матрице корреляции.\n",
    "\n",
    "RMSE на последней итерации возрасла - тоже нужно разбираться. Было сделано два изменения. Может одно сделало лушче, другое - хуже.\n",
    "Поскольку рост показателей желателен, но не обязателен, оставлю как есть.\n"
   ]
  },
  {
   "cell_type": "code",
   "execution_count": null,
   "metadata": {},
   "outputs": [],
   "source": []
  }
 ],
 "metadata": {
  "interpreter": {
   "hash": "26d424bfc1230b0c30211611c2aa3c9b9b27c0aba4441f1e20f124f124483991"
  },
  "kernelspec": {
   "display_name": "Python 3.8.5 ('uoit')",
   "language": "python",
   "name": "python3"
  },
  "language_info": {
   "codemirror_mode": {
    "name": "ipython",
    "version": 3
   },
   "file_extension": ".py",
   "mimetype": "text/x-python",
   "name": "python",
   "nbconvert_exporter": "python",
   "pygments_lexer": "ipython3",
   "version": "3.8.5"
  },
  "orig_nbformat": 4
 },
 "nbformat": 4,
 "nbformat_minor": 2
}
