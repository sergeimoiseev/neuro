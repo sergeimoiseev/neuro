{
  "nbformat": 4,
  "nbformat_minor": 0,
  "metadata": {
    "kernelspec": {
      "display_name": "Python 3",
      "language": "python",
      "name": "python3"
    },
    "language_info": {
      "codemirror_mode": {
        "name": "ipython",
        "version": 3
      },
      "file_extension": ".py",
      "mimetype": "text/x-python",
      "name": "python",
      "nbconvert_exporter": "python",
      "pygments_lexer": "ipython3",
      "version": "3.7.7-final"
    },
    "colab": {
      "name": "HW_Kobe.ipynb",
      "provenance": []
    }
  },
  "cells": [
    {
      "cell_type": "code",
      "metadata": {
        "id": "zqHdTz2wPPKW"
      },
      "source": [
        "import pandas as pd\n",
        "import numpy as np\n",
        "import matplotlib.pyplot as plt\n",
        "%matplotlib inline"
      ],
      "execution_count": 1,
      "outputs": []
    },
    {
      "cell_type": "markdown",
      "metadata": {
        "id": "lvM0J0AaPPKc"
      },
      "source": [
        "## Kobe Bryant  shot selection"
      ]
    },
    {
      "cell_type": "markdown",
      "metadata": {
        "id": "hVjPZ_ukPPKc"
      },
      "source": [
        "Cсылка на соревнование: https://www.kaggle.com/c/kobe-bryant-shot-selection"
      ]
    },
    {
      "cell_type": "markdown",
      "metadata": {
        "id": "qgn5s7NFPPKd"
      },
      "source": [
        "Goal: Fun and education"
      ]
    },
    {
      "cell_type": "markdown",
      "metadata": {
        "id": "4bIkh2ACPPKd"
      },
      "source": [
        "Using 20 years of data on Kobe's swishes and misses, can you predict which shots will find the bottom of the net? This competition is well suited for practicing classification basics, feature engineering, and time series analysis. Practice got Kobe an eight-figure contract and 5 championship rings. What will it get you?"
      ]
    },
    {
      "cell_type": "markdown",
      "metadata": {
        "id": "JYgEsdafPPKd"
      },
      "source": [
        "This data contains the location and circumstances of every field goal attempted by Kobe Bryant took during his 20-year career. Your task is to predict whether the basket went in (shot_made_flag).\n",
        "\n",
        "We have removed 5000 of the shot_made_flags (represented as missing values in the csv file). These are the test set shots for which you must submit a prediction. You are provided a sample submission file with the correct shot_ids needed for a valid prediction."
      ]
    },
    {
      "cell_type": "code",
      "metadata": {
        "id": "LVq90rI-PPKe"
      },
      "source": [
        "data = pd.read_csv('data/Kobe.csv')"
      ],
      "execution_count": null,
      "outputs": []
    },
    {
      "cell_type": "code",
      "metadata": {
        "id": "S6q19ap7PPKe",
        "outputId": "54cc12f8-335a-40d1-c820-b3030b3129af"
      },
      "source": [
        "data.head()"
      ],
      "execution_count": null,
      "outputs": [
        {
          "output_type": "execute_result",
          "data": {
            "text/html": [
              "<div>\n",
              "<style scoped>\n",
              "    .dataframe tbody tr th:only-of-type {\n",
              "        vertical-align: middle;\n",
              "    }\n",
              "\n",
              "    .dataframe tbody tr th {\n",
              "        vertical-align: top;\n",
              "    }\n",
              "\n",
              "    .dataframe thead th {\n",
              "        text-align: right;\n",
              "    }\n",
              "</style>\n",
              "<table border=\"1\" class=\"dataframe\">\n",
              "  <thead>\n",
              "    <tr style=\"text-align: right;\">\n",
              "      <th></th>\n",
              "      <th>action_type</th>\n",
              "      <th>combined_shot_type</th>\n",
              "      <th>game_event_id</th>\n",
              "      <th>game_id</th>\n",
              "      <th>lat</th>\n",
              "      <th>loc_x</th>\n",
              "      <th>loc_y</th>\n",
              "      <th>lon</th>\n",
              "      <th>minutes_remaining</th>\n",
              "      <th>period</th>\n",
              "      <th>...</th>\n",
              "      <th>shot_type</th>\n",
              "      <th>shot_zone_area</th>\n",
              "      <th>shot_zone_basic</th>\n",
              "      <th>shot_zone_range</th>\n",
              "      <th>team_id</th>\n",
              "      <th>team_name</th>\n",
              "      <th>game_date</th>\n",
              "      <th>matchup</th>\n",
              "      <th>opponent</th>\n",
              "      <th>shot_id</th>\n",
              "    </tr>\n",
              "  </thead>\n",
              "  <tbody>\n",
              "    <tr>\n",
              "      <th>0</th>\n",
              "      <td>Jump Shot</td>\n",
              "      <td>Jump Shot</td>\n",
              "      <td>10</td>\n",
              "      <td>20000012</td>\n",
              "      <td>33.9723</td>\n",
              "      <td>167</td>\n",
              "      <td>72</td>\n",
              "      <td>-118.1028</td>\n",
              "      <td>10</td>\n",
              "      <td>1</td>\n",
              "      <td>...</td>\n",
              "      <td>2PT Field Goal</td>\n",
              "      <td>Right Side(R)</td>\n",
              "      <td>Mid-Range</td>\n",
              "      <td>16-24 ft.</td>\n",
              "      <td>1610612747</td>\n",
              "      <td>Los Angeles Lakers</td>\n",
              "      <td>2000-10-31</td>\n",
              "      <td>LAL @ POR</td>\n",
              "      <td>POR</td>\n",
              "      <td>1</td>\n",
              "    </tr>\n",
              "    <tr>\n",
              "      <th>1</th>\n",
              "      <td>Jump Shot</td>\n",
              "      <td>Jump Shot</td>\n",
              "      <td>12</td>\n",
              "      <td>20000012</td>\n",
              "      <td>34.0443</td>\n",
              "      <td>-157</td>\n",
              "      <td>0</td>\n",
              "      <td>-118.4268</td>\n",
              "      <td>10</td>\n",
              "      <td>1</td>\n",
              "      <td>...</td>\n",
              "      <td>2PT Field Goal</td>\n",
              "      <td>Left Side(L)</td>\n",
              "      <td>Mid-Range</td>\n",
              "      <td>8-16 ft.</td>\n",
              "      <td>1610612747</td>\n",
              "      <td>Los Angeles Lakers</td>\n",
              "      <td>2000-10-31</td>\n",
              "      <td>LAL @ POR</td>\n",
              "      <td>POR</td>\n",
              "      <td>2</td>\n",
              "    </tr>\n",
              "    <tr>\n",
              "      <th>2</th>\n",
              "      <td>Jump Shot</td>\n",
              "      <td>Jump Shot</td>\n",
              "      <td>35</td>\n",
              "      <td>20000012</td>\n",
              "      <td>33.9093</td>\n",
              "      <td>-101</td>\n",
              "      <td>135</td>\n",
              "      <td>-118.3708</td>\n",
              "      <td>7</td>\n",
              "      <td>1</td>\n",
              "      <td>...</td>\n",
              "      <td>2PT Field Goal</td>\n",
              "      <td>Left Side Center(LC)</td>\n",
              "      <td>Mid-Range</td>\n",
              "      <td>16-24 ft.</td>\n",
              "      <td>1610612747</td>\n",
              "      <td>Los Angeles Lakers</td>\n",
              "      <td>2000-10-31</td>\n",
              "      <td>LAL @ POR</td>\n",
              "      <td>POR</td>\n",
              "      <td>3</td>\n",
              "    </tr>\n",
              "    <tr>\n",
              "      <th>3</th>\n",
              "      <td>Jump Shot</td>\n",
              "      <td>Jump Shot</td>\n",
              "      <td>43</td>\n",
              "      <td>20000012</td>\n",
              "      <td>33.8693</td>\n",
              "      <td>138</td>\n",
              "      <td>175</td>\n",
              "      <td>-118.1318</td>\n",
              "      <td>6</td>\n",
              "      <td>1</td>\n",
              "      <td>...</td>\n",
              "      <td>2PT Field Goal</td>\n",
              "      <td>Right Side Center(RC)</td>\n",
              "      <td>Mid-Range</td>\n",
              "      <td>16-24 ft.</td>\n",
              "      <td>1610612747</td>\n",
              "      <td>Los Angeles Lakers</td>\n",
              "      <td>2000-10-31</td>\n",
              "      <td>LAL @ POR</td>\n",
              "      <td>POR</td>\n",
              "      <td>4</td>\n",
              "    </tr>\n",
              "    <tr>\n",
              "      <th>4</th>\n",
              "      <td>Driving Dunk Shot</td>\n",
              "      <td>Dunk</td>\n",
              "      <td>155</td>\n",
              "      <td>20000012</td>\n",
              "      <td>34.0443</td>\n",
              "      <td>0</td>\n",
              "      <td>0</td>\n",
              "      <td>-118.2698</td>\n",
              "      <td>6</td>\n",
              "      <td>2</td>\n",
              "      <td>...</td>\n",
              "      <td>2PT Field Goal</td>\n",
              "      <td>Center(C)</td>\n",
              "      <td>Restricted Area</td>\n",
              "      <td>Less Than 8 ft.</td>\n",
              "      <td>1610612747</td>\n",
              "      <td>Los Angeles Lakers</td>\n",
              "      <td>2000-10-31</td>\n",
              "      <td>LAL @ POR</td>\n",
              "      <td>POR</td>\n",
              "      <td>5</td>\n",
              "    </tr>\n",
              "  </tbody>\n",
              "</table>\n",
              "<p>5 rows × 25 columns</p>\n",
              "</div>"
            ],
            "text/plain": [
              "         action_type combined_shot_type  game_event_id   game_id      lat  \\\n",
              "0          Jump Shot          Jump Shot             10  20000012  33.9723   \n",
              "1          Jump Shot          Jump Shot             12  20000012  34.0443   \n",
              "2          Jump Shot          Jump Shot             35  20000012  33.9093   \n",
              "3          Jump Shot          Jump Shot             43  20000012  33.8693   \n",
              "4  Driving Dunk Shot               Dunk            155  20000012  34.0443   \n",
              "\n",
              "   loc_x  loc_y       lon  minutes_remaining  period   ...          shot_type  \\\n",
              "0    167     72 -118.1028                 10       1   ...     2PT Field Goal   \n",
              "1   -157      0 -118.4268                 10       1   ...     2PT Field Goal   \n",
              "2   -101    135 -118.3708                  7       1   ...     2PT Field Goal   \n",
              "3    138    175 -118.1318                  6       1   ...     2PT Field Goal   \n",
              "4      0      0 -118.2698                  6       2   ...     2PT Field Goal   \n",
              "\n",
              "          shot_zone_area  shot_zone_basic  shot_zone_range     team_id  \\\n",
              "0          Right Side(R)        Mid-Range        16-24 ft.  1610612747   \n",
              "1           Left Side(L)        Mid-Range         8-16 ft.  1610612747   \n",
              "2   Left Side Center(LC)        Mid-Range        16-24 ft.  1610612747   \n",
              "3  Right Side Center(RC)        Mid-Range        16-24 ft.  1610612747   \n",
              "4              Center(C)  Restricted Area  Less Than 8 ft.  1610612747   \n",
              "\n",
              "            team_name   game_date    matchup opponent  shot_id  \n",
              "0  Los Angeles Lakers  2000-10-31  LAL @ POR      POR        1  \n",
              "1  Los Angeles Lakers  2000-10-31  LAL @ POR      POR        2  \n",
              "2  Los Angeles Lakers  2000-10-31  LAL @ POR      POR        3  \n",
              "3  Los Angeles Lakers  2000-10-31  LAL @ POR      POR        4  \n",
              "4  Los Angeles Lakers  2000-10-31  LAL @ POR      POR        5  \n",
              "\n",
              "[5 rows x 25 columns]"
            ]
          },
          "metadata": {
            "tags": []
          },
          "execution_count": 6
        }
      ]
    },
    {
      "cell_type": "code",
      "metadata": {
        "id": "mRhHolq9PPKf"
      },
      "source": [
        "target = 'shot_made_flag'"
      ],
      "execution_count": null,
      "outputs": []
    },
    {
      "cell_type": "markdown",
      "metadata": {
        "id": "QthCIdDVPPKf"
      },
      "source": [
        "**Задания:**\n",
        "\n",
        "1. Провести анализ данных. Много хороших примеров анализа можно посмотреть здесь https://www.kaggle.com/c/kobe-bryant-shot-selection/kernels\n",
        "2. Подготовить фичи для обучения модели - нагенерить признаков, обработать пропущенные значения, проверить на возможные выбросы, обработать категориальные признаки и др.\n",
        "3. Обучить линейную модель, Lasso, Ridge (с встроеной регуляризацией) на тех же признаках - построить сравнительную таблицу или график коэффициентов, сделать заключения о том, как меняется величина коэффициентов, какие зануляются. \n",
        "\n",
        "**Дополнительно**\n",
        "4. Сравнить результаты на тестовом наборе данных - сделать train_test_split в самом начале, подготовить переменные, сравнить результаты работы классификаторов (те же 3), метрика ROC AUC\n",
        "5. Построить PCA на подготовленных признаках, посмотреть, какие компоненты составляют наибольшую часть дисперсии целевой переменной"
      ]
    },
    {
      "cell_type": "code",
      "metadata": {
        "id": "IcdHTiXxP5al"
      },
      "source": [],
      "execution_count": null,
      "outputs": []
    }
  ]
}