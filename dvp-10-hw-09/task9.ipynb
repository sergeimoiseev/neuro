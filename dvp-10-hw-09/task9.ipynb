{
  "nbformat": 4,
  "nbformat_minor": 0,
  "metadata": {
    "kernelspec": {
      "display_name": "Python 3",
      "language": "python",
      "name": "python3"
    },
    "language_info": {
      "codemirror_mode": {
        "name": "ipython",
        "version": 3
      },
      "file_extension": ".py",
      "mimetype": "text/x-python",
      "name": "python",
      "nbconvert_exporter": "python",
      "pygments_lexer": "ipython3",
      "version": "3.7.7-final"
    },
    "colab": {
      "name": "HW_Kobe.ipynb",
      "provenance": []
    }
  },
  "cells": [
    {
      "cell_type": "code",
      "metadata": {
        "id": "zqHdTz2wPPKW"
      },
      "source": [
        "import pandas as pd\n",
        "import numpy as np\n",
        "import matplotlib.pyplot as plt\n",
        "%matplotlib inline\n",
        "from sklearn.preprocessing import OneHotEncoder, StandardScaler\n",
        "\n",
        "import seaborn as sns\n",
        "from sklearn.model_selection import train_test_split"
      ],
      "execution_count": 1,
      "outputs": []
    },
    {
      "cell_type": "markdown",
      "metadata": {
        "id": "lvM0J0AaPPKc"
      },
      "source": [
        "## Kobe Bryant  shot selection"
      ]
    },
    {
      "cell_type": "markdown",
      "metadata": {
        "id": "hVjPZ_ukPPKc"
      },
      "source": [
        "Cсылка на соревнование: https://www.kaggle.com/c/kobe-bryant-shot-selection"
      ]
    },
    {
      "cell_type": "markdown",
      "metadata": {
        "id": "qgn5s7NFPPKd"
      },
      "source": [
        "Goal: Fun and education"
      ]
    },
    {
      "cell_type": "markdown",
      "metadata": {
        "id": "4bIkh2ACPPKd"
      },
      "source": [
        "Using 20 years of data on Kobe's swishes and misses, can you predict which shots will find the bottom of the net? This competition is well suited for practicing classification basics, feature engineering, and time series analysis. Practice got Kobe an eight-figure contract and 5 championship rings. What will it get you?"
      ]
    },
    {
      "cell_type": "markdown",
      "metadata": {
        "id": "JYgEsdafPPKd"
      },
      "source": [
        "This data contains the location and circumstances of every field goal attempted by Kobe Bryant took during his 20-year career. Your task is to predict whether the basket went in (shot_made_flag).\n",
        "\n",
        "We have removed 5000 of the shot_made_flags (represented as missing values in the csv file). These are the test set shots for which you must submit a prediction. You are provided a sample submission file with the correct shot_ids needed for a valid prediction."
      ]
    },
    {
      "cell_type": "code",
      "metadata": {
        "id": "LVq90rI-PPKe"
      },
      "source": [
        "data = pd.read_csv('kobe.csv')"
      ],
      "execution_count": 2,
      "outputs": []
    },
    {
      "cell_type": "code",
      "metadata": {
        "id": "S6q19ap7PPKe",
        "outputId": "54cc12f8-335a-40d1-c820-b3030b3129af"
      },
      "source": [
        "data.head()"
      ],
      "execution_count": 3,
      "outputs": [
        {
          "output_type": "execute_result",
          "data": {
            "text/plain": [
              "         action_type combined_shot_type  game_event_id   game_id      lat  \\\n",
              "0          Jump Shot          Jump Shot             10  20000012  33.9723   \n",
              "1          Jump Shot          Jump Shot             12  20000012  34.0443   \n",
              "2          Jump Shot          Jump Shot             35  20000012  33.9093   \n",
              "3          Jump Shot          Jump Shot             43  20000012  33.8693   \n",
              "4  Driving Dunk Shot               Dunk            155  20000012  34.0443   \n",
              "\n",
              "   loc_x  loc_y       lon  minutes_remaining  period  ...       shot_type  \\\n",
              "0    167     72 -118.1028                 10       1  ...  2PT Field Goal   \n",
              "1   -157      0 -118.4268                 10       1  ...  2PT Field Goal   \n",
              "2   -101    135 -118.3708                  7       1  ...  2PT Field Goal   \n",
              "3    138    175 -118.1318                  6       1  ...  2PT Field Goal   \n",
              "4      0      0 -118.2698                  6       2  ...  2PT Field Goal   \n",
              "\n",
              "          shot_zone_area  shot_zone_basic  shot_zone_range     team_id  \\\n",
              "0          Right Side(R)        Mid-Range        16-24 ft.  1610612747   \n",
              "1           Left Side(L)        Mid-Range         8-16 ft.  1610612747   \n",
              "2   Left Side Center(LC)        Mid-Range        16-24 ft.  1610612747   \n",
              "3  Right Side Center(RC)        Mid-Range        16-24 ft.  1610612747   \n",
              "4              Center(C)  Restricted Area  Less Than 8 ft.  1610612747   \n",
              "\n",
              "            team_name   game_date    matchup opponent  shot_id  \n",
              "0  Los Angeles Lakers  2000-10-31  LAL @ POR      POR        1  \n",
              "1  Los Angeles Lakers  2000-10-31  LAL @ POR      POR        2  \n",
              "2  Los Angeles Lakers  2000-10-31  LAL @ POR      POR        3  \n",
              "3  Los Angeles Lakers  2000-10-31  LAL @ POR      POR        4  \n",
              "4  Los Angeles Lakers  2000-10-31  LAL @ POR      POR        5  \n",
              "\n",
              "[5 rows x 25 columns]"
            ],
            "text/html": "<div>\n<style scoped>\n    .dataframe tbody tr th:only-of-type {\n        vertical-align: middle;\n    }\n\n    .dataframe tbody tr th {\n        vertical-align: top;\n    }\n\n    .dataframe thead th {\n        text-align: right;\n    }\n</style>\n<table border=\"1\" class=\"dataframe\">\n  <thead>\n    <tr style=\"text-align: right;\">\n      <th></th>\n      <th>action_type</th>\n      <th>combined_shot_type</th>\n      <th>game_event_id</th>\n      <th>game_id</th>\n      <th>lat</th>\n      <th>loc_x</th>\n      <th>loc_y</th>\n      <th>lon</th>\n      <th>minutes_remaining</th>\n      <th>period</th>\n      <th>...</th>\n      <th>shot_type</th>\n      <th>shot_zone_area</th>\n      <th>shot_zone_basic</th>\n      <th>shot_zone_range</th>\n      <th>team_id</th>\n      <th>team_name</th>\n      <th>game_date</th>\n      <th>matchup</th>\n      <th>opponent</th>\n      <th>shot_id</th>\n    </tr>\n  </thead>\n  <tbody>\n    <tr>\n      <th>0</th>\n      <td>Jump Shot</td>\n      <td>Jump Shot</td>\n      <td>10</td>\n      <td>20000012</td>\n      <td>33.9723</td>\n      <td>167</td>\n      <td>72</td>\n      <td>-118.1028</td>\n      <td>10</td>\n      <td>1</td>\n      <td>...</td>\n      <td>2PT Field Goal</td>\n      <td>Right Side(R)</td>\n      <td>Mid-Range</td>\n      <td>16-24 ft.</td>\n      <td>1610612747</td>\n      <td>Los Angeles Lakers</td>\n      <td>2000-10-31</td>\n      <td>LAL @ POR</td>\n      <td>POR</td>\n      <td>1</td>\n    </tr>\n    <tr>\n      <th>1</th>\n      <td>Jump Shot</td>\n      <td>Jump Shot</td>\n      <td>12</td>\n      <td>20000012</td>\n      <td>34.0443</td>\n      <td>-157</td>\n      <td>0</td>\n      <td>-118.4268</td>\n      <td>10</td>\n      <td>1</td>\n      <td>...</td>\n      <td>2PT Field Goal</td>\n      <td>Left Side(L)</td>\n      <td>Mid-Range</td>\n      <td>8-16 ft.</td>\n      <td>1610612747</td>\n      <td>Los Angeles Lakers</td>\n      <td>2000-10-31</td>\n      <td>LAL @ POR</td>\n      <td>POR</td>\n      <td>2</td>\n    </tr>\n    <tr>\n      <th>2</th>\n      <td>Jump Shot</td>\n      <td>Jump Shot</td>\n      <td>35</td>\n      <td>20000012</td>\n      <td>33.9093</td>\n      <td>-101</td>\n      <td>135</td>\n      <td>-118.3708</td>\n      <td>7</td>\n      <td>1</td>\n      <td>...</td>\n      <td>2PT Field Goal</td>\n      <td>Left Side Center(LC)</td>\n      <td>Mid-Range</td>\n      <td>16-24 ft.</td>\n      <td>1610612747</td>\n      <td>Los Angeles Lakers</td>\n      <td>2000-10-31</td>\n      <td>LAL @ POR</td>\n      <td>POR</td>\n      <td>3</td>\n    </tr>\n    <tr>\n      <th>3</th>\n      <td>Jump Shot</td>\n      <td>Jump Shot</td>\n      <td>43</td>\n      <td>20000012</td>\n      <td>33.8693</td>\n      <td>138</td>\n      <td>175</td>\n      <td>-118.1318</td>\n      <td>6</td>\n      <td>1</td>\n      <td>...</td>\n      <td>2PT Field Goal</td>\n      <td>Right Side Center(RC)</td>\n      <td>Mid-Range</td>\n      <td>16-24 ft.</td>\n      <td>1610612747</td>\n      <td>Los Angeles Lakers</td>\n      <td>2000-10-31</td>\n      <td>LAL @ POR</td>\n      <td>POR</td>\n      <td>4</td>\n    </tr>\n    <tr>\n      <th>4</th>\n      <td>Driving Dunk Shot</td>\n      <td>Dunk</td>\n      <td>155</td>\n      <td>20000012</td>\n      <td>34.0443</td>\n      <td>0</td>\n      <td>0</td>\n      <td>-118.2698</td>\n      <td>6</td>\n      <td>2</td>\n      <td>...</td>\n      <td>2PT Field Goal</td>\n      <td>Center(C)</td>\n      <td>Restricted Area</td>\n      <td>Less Than 8 ft.</td>\n      <td>1610612747</td>\n      <td>Los Angeles Lakers</td>\n      <td>2000-10-31</td>\n      <td>LAL @ POR</td>\n      <td>POR</td>\n      <td>5</td>\n    </tr>\n  </tbody>\n</table>\n<p>5 rows × 25 columns</p>\n</div>"
          },
          "metadata": {},
          "execution_count": 3
        }
      ]
    },
    {
      "cell_type": "code",
      "metadata": {
        "id": "mRhHolq9PPKf"
      },
      "source": [
        "target = 'shot_made_flag'"
      ],
      "execution_count": 4,
      "outputs": []
    },
    {
      "cell_type": "markdown",
      "metadata": {
        "id": "QthCIdDVPPKf"
      },
      "source": [
        "**Задания:**\n",
        "\n",
        "1. Провести анализ данных. Много хороших примеров анализа можно посмотреть здесь https://www.kaggle.com/c/kobe-bryant-shot-selection/kernels\n",
        "2. Подготовить фичи для обучения модели - нагенерить признаков, обработать пропущенные значения, проверить на возможные выбросы, обработать категориальные признаки и др.\n",
        "3. Обучить линейную модель, Lasso, Ridge (с встроеной регуляризацией) на тех же признаках - построить сравнительную таблицу или график коэффициентов, сделать заключения о том, как меняется величина коэффициентов, какие зануляются. \n",
        "\n",
        "**Дополнительно**\n",
        "4. Сравнить результаты на тестовом наборе данных - сделать train_test_split в самом начале, подготовить переменные, сравнить результаты работы классификаторов (те же 3), метрика ROC AUC\n",
        "5. Построить PCA на подготовленных признаках, посмотреть, какие компоненты составляют наибольшую часть дисперсии целевой переменной"
      ]
    },
    {
      "source": [
        "Решение"
      ],
      "cell_type": "markdown",
      "metadata": {
        "id": "IcdHTiXxP5al"
      }
    },
    {
      "source": [
        "Пункты 1 и 2 - анализирую, чищу и дорабатываю данные."
      ],
      "cell_type": "markdown",
      "metadata": {}
    },
    {
      "cell_type": "code",
      "execution_count": 5,
      "metadata": {},
      "outputs": [
        {
          "output_type": "execute_result",
          "data": {
            "text/plain": [
              "       game_event_id       game_id           lat         loc_x         loc_y  \\\n",
              "count   30697.000000  3.069700e+04  30697.000000  30697.000000  30697.000000   \n",
              "mean      249.190800  2.476407e+07     33.953192      7.110499     91.107535   \n",
              "std       150.003712  7.755175e+06      0.087791    110.124578     87.791361   \n",
              "min         2.000000  2.000001e+07     33.253300   -250.000000    -44.000000   \n",
              "25%       110.000000  2.050008e+07     33.884300    -68.000000      4.000000   \n",
              "50%       253.000000  2.090035e+07     33.970300      0.000000     74.000000   \n",
              "75%       368.000000  2.960047e+07     34.040300     95.000000    160.000000   \n",
              "max       659.000000  4.990009e+07     34.088300    248.000000    791.000000   \n",
              "\n",
              "                lon  minutes_remaining        period      playoffs  \\\n",
              "count  30697.000000       30697.000000  30697.000000  30697.000000   \n",
              "mean    -118.262690           4.885624      2.519432      0.146562   \n",
              "std        0.110125           3.449897      1.153665      0.353674   \n",
              "min     -118.519800           0.000000      1.000000      0.000000   \n",
              "25%     -118.337800           2.000000      1.000000      0.000000   \n",
              "50%     -118.269800           5.000000      3.000000      0.000000   \n",
              "75%     -118.174800           8.000000      3.000000      0.000000   \n",
              "max     -118.021800          11.000000      7.000000      1.000000   \n",
              "\n",
              "       seconds_remaining  shot_distance  shot_made_flag       team_id  \\\n",
              "count       30697.000000   30697.000000    25697.000000  3.069700e+04   \n",
              "mean           28.365085      13.437437        0.446161  1.610613e+09   \n",
              "std            17.478949       9.374189        0.497103  0.000000e+00   \n",
              "min             0.000000       0.000000        0.000000  1.610613e+09   \n",
              "25%            13.000000       5.000000        0.000000  1.610613e+09   \n",
              "50%            28.000000      15.000000        0.000000  1.610613e+09   \n",
              "75%            43.000000      21.000000        1.000000  1.610613e+09   \n",
              "max            59.000000      79.000000        1.000000  1.610613e+09   \n",
              "\n",
              "            shot_id  \n",
              "count  30697.000000  \n",
              "mean   15349.000000  \n",
              "std     8861.604943  \n",
              "min        1.000000  \n",
              "25%     7675.000000  \n",
              "50%    15349.000000  \n",
              "75%    23023.000000  \n",
              "max    30697.000000  "
            ],
            "text/html": "<div>\n<style scoped>\n    .dataframe tbody tr th:only-of-type {\n        vertical-align: middle;\n    }\n\n    .dataframe tbody tr th {\n        vertical-align: top;\n    }\n\n    .dataframe thead th {\n        text-align: right;\n    }\n</style>\n<table border=\"1\" class=\"dataframe\">\n  <thead>\n    <tr style=\"text-align: right;\">\n      <th></th>\n      <th>game_event_id</th>\n      <th>game_id</th>\n      <th>lat</th>\n      <th>loc_x</th>\n      <th>loc_y</th>\n      <th>lon</th>\n      <th>minutes_remaining</th>\n      <th>period</th>\n      <th>playoffs</th>\n      <th>seconds_remaining</th>\n      <th>shot_distance</th>\n      <th>shot_made_flag</th>\n      <th>team_id</th>\n      <th>shot_id</th>\n    </tr>\n  </thead>\n  <tbody>\n    <tr>\n      <th>count</th>\n      <td>30697.000000</td>\n      <td>3.069700e+04</td>\n      <td>30697.000000</td>\n      <td>30697.000000</td>\n      <td>30697.000000</td>\n      <td>30697.000000</td>\n      <td>30697.000000</td>\n      <td>30697.000000</td>\n      <td>30697.000000</td>\n      <td>30697.000000</td>\n      <td>30697.000000</td>\n      <td>25697.000000</td>\n      <td>3.069700e+04</td>\n      <td>30697.000000</td>\n    </tr>\n    <tr>\n      <th>mean</th>\n      <td>249.190800</td>\n      <td>2.476407e+07</td>\n      <td>33.953192</td>\n      <td>7.110499</td>\n      <td>91.107535</td>\n      <td>-118.262690</td>\n      <td>4.885624</td>\n      <td>2.519432</td>\n      <td>0.146562</td>\n      <td>28.365085</td>\n      <td>13.437437</td>\n      <td>0.446161</td>\n      <td>1.610613e+09</td>\n      <td>15349.000000</td>\n    </tr>\n    <tr>\n      <th>std</th>\n      <td>150.003712</td>\n      <td>7.755175e+06</td>\n      <td>0.087791</td>\n      <td>110.124578</td>\n      <td>87.791361</td>\n      <td>0.110125</td>\n      <td>3.449897</td>\n      <td>1.153665</td>\n      <td>0.353674</td>\n      <td>17.478949</td>\n      <td>9.374189</td>\n      <td>0.497103</td>\n      <td>0.000000e+00</td>\n      <td>8861.604943</td>\n    </tr>\n    <tr>\n      <th>min</th>\n      <td>2.000000</td>\n      <td>2.000001e+07</td>\n      <td>33.253300</td>\n      <td>-250.000000</td>\n      <td>-44.000000</td>\n      <td>-118.519800</td>\n      <td>0.000000</td>\n      <td>1.000000</td>\n      <td>0.000000</td>\n      <td>0.000000</td>\n      <td>0.000000</td>\n      <td>0.000000</td>\n      <td>1.610613e+09</td>\n      <td>1.000000</td>\n    </tr>\n    <tr>\n      <th>25%</th>\n      <td>110.000000</td>\n      <td>2.050008e+07</td>\n      <td>33.884300</td>\n      <td>-68.000000</td>\n      <td>4.000000</td>\n      <td>-118.337800</td>\n      <td>2.000000</td>\n      <td>1.000000</td>\n      <td>0.000000</td>\n      <td>13.000000</td>\n      <td>5.000000</td>\n      <td>0.000000</td>\n      <td>1.610613e+09</td>\n      <td>7675.000000</td>\n    </tr>\n    <tr>\n      <th>50%</th>\n      <td>253.000000</td>\n      <td>2.090035e+07</td>\n      <td>33.970300</td>\n      <td>0.000000</td>\n      <td>74.000000</td>\n      <td>-118.269800</td>\n      <td>5.000000</td>\n      <td>3.000000</td>\n      <td>0.000000</td>\n      <td>28.000000</td>\n      <td>15.000000</td>\n      <td>0.000000</td>\n      <td>1.610613e+09</td>\n      <td>15349.000000</td>\n    </tr>\n    <tr>\n      <th>75%</th>\n      <td>368.000000</td>\n      <td>2.960047e+07</td>\n      <td>34.040300</td>\n      <td>95.000000</td>\n      <td>160.000000</td>\n      <td>-118.174800</td>\n      <td>8.000000</td>\n      <td>3.000000</td>\n      <td>0.000000</td>\n      <td>43.000000</td>\n      <td>21.000000</td>\n      <td>1.000000</td>\n      <td>1.610613e+09</td>\n      <td>23023.000000</td>\n    </tr>\n    <tr>\n      <th>max</th>\n      <td>659.000000</td>\n      <td>4.990009e+07</td>\n      <td>34.088300</td>\n      <td>248.000000</td>\n      <td>791.000000</td>\n      <td>-118.021800</td>\n      <td>11.000000</td>\n      <td>7.000000</td>\n      <td>1.000000</td>\n      <td>59.000000</td>\n      <td>79.000000</td>\n      <td>1.000000</td>\n      <td>1.610613e+09</td>\n      <td>30697.000000</td>\n    </tr>\n  </tbody>\n</table>\n</div>"
          },
          "metadata": {},
          "execution_count": 5
        }
      ],
      "source": [
        "df = data[data.shot_made_flag.notna()] # уберем данные без целевых значений (флагов)\n",
        "df.reset_index(inplace=True)\n",
        "# теперь все значения не null\n",
        "data.describe()"
      ]
    },
    {
      "cell_type": "code",
      "execution_count": 6,
      "metadata": {},
      "outputs": [
        {
          "output_type": "execute_result",
          "data": {
            "text/plain": [
              "              index  game_event_id       game_id           lat         loc_x  \\\n",
              "count  25697.000000   25697.000000  2.569700e+04  25697.000000  25697.000000   \n",
              "mean   15327.166946     249.348679  2.474109e+07     33.953043      7.148422   \n",
              "std     8860.462397     149.778520  7.738108e+06      0.088152    110.073147   \n",
              "min        1.000000       2.000000  2.000001e+07     33.253300   -250.000000   \n",
              "25%     7645.000000     111.000000  2.050006e+07     33.884300    -67.000000   \n",
              "50%    15335.000000     253.000000  2.090034e+07     33.970300      0.000000   \n",
              "75%    22975.000000     367.000000  2.960027e+07     34.040300     94.000000   \n",
              "max    30696.000000     653.000000  4.990009e+07     34.088300    248.000000   \n",
              "\n",
              "              loc_y           lon  minutes_remaining        period  \\\n",
              "count  25697.000000  25697.000000       25697.000000  25697.000000   \n",
              "mean      91.257345   -118.262652           4.886796      2.520800   \n",
              "std       88.152106      0.110073           3.452475      1.151626   \n",
              "min      -44.000000   -118.519800           0.000000      1.000000   \n",
              "25%        4.000000   -118.336800           2.000000      1.000000   \n",
              "50%       74.000000   -118.269800           5.000000      3.000000   \n",
              "75%      160.000000   -118.175800           8.000000      3.000000   \n",
              "max      791.000000   -118.021800          11.000000      7.000000   \n",
              "\n",
              "           playoffs  seconds_remaining  shot_distance  shot_made_flag  \\\n",
              "count  25697.000000       25697.000000   25697.000000    25697.000000   \n",
              "mean       0.146243          28.311554      13.457096        0.446161   \n",
              "std        0.353356          17.523392       9.388725        0.497103   \n",
              "min        0.000000           0.000000       0.000000        0.000000   \n",
              "25%        0.000000          13.000000       5.000000        0.000000   \n",
              "50%        0.000000          28.000000      15.000000        0.000000   \n",
              "75%        0.000000          43.000000      21.000000        1.000000   \n",
              "max        1.000000          59.000000      79.000000        1.000000   \n",
              "\n",
              "            team_id       shot_id  \n",
              "count  2.569700e+04  25697.000000  \n",
              "mean   1.610613e+09  15328.166946  \n",
              "std    0.000000e+00   8860.462397  \n",
              "min    1.610613e+09      2.000000  \n",
              "25%    1.610613e+09   7646.000000  \n",
              "50%    1.610613e+09  15336.000000  \n",
              "75%    1.610613e+09  22976.000000  \n",
              "max    1.610613e+09  30697.000000  "
            ],
            "text/html": "<div>\n<style scoped>\n    .dataframe tbody tr th:only-of-type {\n        vertical-align: middle;\n    }\n\n    .dataframe tbody tr th {\n        vertical-align: top;\n    }\n\n    .dataframe thead th {\n        text-align: right;\n    }\n</style>\n<table border=\"1\" class=\"dataframe\">\n  <thead>\n    <tr style=\"text-align: right;\">\n      <th></th>\n      <th>index</th>\n      <th>game_event_id</th>\n      <th>game_id</th>\n      <th>lat</th>\n      <th>loc_x</th>\n      <th>loc_y</th>\n      <th>lon</th>\n      <th>minutes_remaining</th>\n      <th>period</th>\n      <th>playoffs</th>\n      <th>seconds_remaining</th>\n      <th>shot_distance</th>\n      <th>shot_made_flag</th>\n      <th>team_id</th>\n      <th>shot_id</th>\n    </tr>\n  </thead>\n  <tbody>\n    <tr>\n      <th>count</th>\n      <td>25697.000000</td>\n      <td>25697.000000</td>\n      <td>2.569700e+04</td>\n      <td>25697.000000</td>\n      <td>25697.000000</td>\n      <td>25697.000000</td>\n      <td>25697.000000</td>\n      <td>25697.000000</td>\n      <td>25697.000000</td>\n      <td>25697.000000</td>\n      <td>25697.000000</td>\n      <td>25697.000000</td>\n      <td>25697.000000</td>\n      <td>2.569700e+04</td>\n      <td>25697.000000</td>\n    </tr>\n    <tr>\n      <th>mean</th>\n      <td>15327.166946</td>\n      <td>249.348679</td>\n      <td>2.474109e+07</td>\n      <td>33.953043</td>\n      <td>7.148422</td>\n      <td>91.257345</td>\n      <td>-118.262652</td>\n      <td>4.886796</td>\n      <td>2.520800</td>\n      <td>0.146243</td>\n      <td>28.311554</td>\n      <td>13.457096</td>\n      <td>0.446161</td>\n      <td>1.610613e+09</td>\n      <td>15328.166946</td>\n    </tr>\n    <tr>\n      <th>std</th>\n      <td>8860.462397</td>\n      <td>149.778520</td>\n      <td>7.738108e+06</td>\n      <td>0.088152</td>\n      <td>110.073147</td>\n      <td>88.152106</td>\n      <td>0.110073</td>\n      <td>3.452475</td>\n      <td>1.151626</td>\n      <td>0.353356</td>\n      <td>17.523392</td>\n      <td>9.388725</td>\n      <td>0.497103</td>\n      <td>0.000000e+00</td>\n      <td>8860.462397</td>\n    </tr>\n    <tr>\n      <th>min</th>\n      <td>1.000000</td>\n      <td>2.000000</td>\n      <td>2.000001e+07</td>\n      <td>33.253300</td>\n      <td>-250.000000</td>\n      <td>-44.000000</td>\n      <td>-118.519800</td>\n      <td>0.000000</td>\n      <td>1.000000</td>\n      <td>0.000000</td>\n      <td>0.000000</td>\n      <td>0.000000</td>\n      <td>0.000000</td>\n      <td>1.610613e+09</td>\n      <td>2.000000</td>\n    </tr>\n    <tr>\n      <th>25%</th>\n      <td>7645.000000</td>\n      <td>111.000000</td>\n      <td>2.050006e+07</td>\n      <td>33.884300</td>\n      <td>-67.000000</td>\n      <td>4.000000</td>\n      <td>-118.336800</td>\n      <td>2.000000</td>\n      <td>1.000000</td>\n      <td>0.000000</td>\n      <td>13.000000</td>\n      <td>5.000000</td>\n      <td>0.000000</td>\n      <td>1.610613e+09</td>\n      <td>7646.000000</td>\n    </tr>\n    <tr>\n      <th>50%</th>\n      <td>15335.000000</td>\n      <td>253.000000</td>\n      <td>2.090034e+07</td>\n      <td>33.970300</td>\n      <td>0.000000</td>\n      <td>74.000000</td>\n      <td>-118.269800</td>\n      <td>5.000000</td>\n      <td>3.000000</td>\n      <td>0.000000</td>\n      <td>28.000000</td>\n      <td>15.000000</td>\n      <td>0.000000</td>\n      <td>1.610613e+09</td>\n      <td>15336.000000</td>\n    </tr>\n    <tr>\n      <th>75%</th>\n      <td>22975.000000</td>\n      <td>367.000000</td>\n      <td>2.960027e+07</td>\n      <td>34.040300</td>\n      <td>94.000000</td>\n      <td>160.000000</td>\n      <td>-118.175800</td>\n      <td>8.000000</td>\n      <td>3.000000</td>\n      <td>0.000000</td>\n      <td>43.000000</td>\n      <td>21.000000</td>\n      <td>1.000000</td>\n      <td>1.610613e+09</td>\n      <td>22976.000000</td>\n    </tr>\n    <tr>\n      <th>max</th>\n      <td>30696.000000</td>\n      <td>653.000000</td>\n      <td>4.990009e+07</td>\n      <td>34.088300</td>\n      <td>248.000000</td>\n      <td>791.000000</td>\n      <td>-118.021800</td>\n      <td>11.000000</td>\n      <td>7.000000</td>\n      <td>1.000000</td>\n      <td>59.000000</td>\n      <td>79.000000</td>\n      <td>1.000000</td>\n      <td>1.610613e+09</td>\n      <td>30697.000000</td>\n    </tr>\n  </tbody>\n</table>\n</div>"
          },
          "metadata": {},
          "execution_count": 6
        }
      ],
      "source": [
        "df = data[data.shot_made_flag.notna()] # уберем данные без целевых значений (флагов)\n",
        "df.reset_index(inplace=True)\n",
        "# теперь все значения не null\n",
        "df.describe()\n"
      ]
    },
    {
      "cell_type": "code",
      "execution_count": 7,
      "metadata": {},
      "outputs": [
        {
          "output_type": "stream",
          "name": "stdout",
          "text": [
            "<class 'pandas.core.frame.DataFrame'>\nRangeIndex: 25697 entries, 0 to 25696\nData columns (total 26 columns):\n #   Column              Non-Null Count  Dtype  \n---  ------              --------------  -----  \n 0   index               25697 non-null  int64  \n 1   action_type         25697 non-null  object \n 2   combined_shot_type  25697 non-null  object \n 3   game_event_id       25697 non-null  int64  \n 4   game_id             25697 non-null  int64  \n 5   lat                 25697 non-null  float64\n 6   loc_x               25697 non-null  int64  \n 7   loc_y               25697 non-null  int64  \n 8   lon                 25697 non-null  float64\n 9   minutes_remaining   25697 non-null  int64  \n 10  period              25697 non-null  int64  \n 11  playoffs            25697 non-null  int64  \n 12  season              25697 non-null  object \n 13  seconds_remaining   25697 non-null  int64  \n 14  shot_distance       25697 non-null  int64  \n 15  shot_made_flag      25697 non-null  float64\n 16  shot_type           25697 non-null  object \n 17  shot_zone_area      25697 non-null  object \n 18  shot_zone_basic     25697 non-null  object \n 19  shot_zone_range     25697 non-null  object \n 20  team_id             25697 non-null  int64  \n 21  team_name           25697 non-null  object \n 22  game_date           25697 non-null  object \n 23  matchup             25697 non-null  object \n 24  opponent            25697 non-null  object \n 25  shot_id             25697 non-null  int64  \ndtypes: float64(3), int64(12), object(11)\nmemory usage: 5.1+ MB\n"
          ]
        }
      ],
      "source": [
        "df.info()"
      ]
    },
    {
      "cell_type": "code",
      "execution_count": 8,
      "metadata": {},
      "outputs": [
        {
          "output_type": "stream",
          "name": "stderr",
          "text": [
            "C:\\Users\\Sergei\\anaconda3\\envs\\mw-flow-calculator\\lib\\site-packages\\ipykernel_launcher.py:5: SettingWithCopyWarning: \nA value is trying to be set on a copy of a slice from a DataFrame.\nTry using .loc[row_indexer,col_indexer] = value instead\n\nSee the caveats in the documentation: https://pandas.pydata.org/pandas-docs/stable/user_guide/indexing.html#returning-a-view-versus-a-copy\n  \"\"\"\nC:\\Users\\Sergei\\anaconda3\\envs\\mw-flow-calculator\\lib\\site-packages\\pandas\\core\\indexing.py:966: SettingWithCopyWarning: \nA value is trying to be set on a copy of a slice from a DataFrame.\nTry using .loc[row_indexer,col_indexer] = value instead\n\nSee the caveats in the documentation: https://pandas.pydata.org/pandas-docs/stable/user_guide/indexing.html#returning-a-view-versus-a-copy\n  self.obj[item] = s\nC:\\Users\\Sergei\\anaconda3\\envs\\mw-flow-calculator\\lib\\site-packages\\ipykernel_launcher.py:10: SettingWithCopyWarning: \nA value is trying to be set on a copy of a slice from a DataFrame.\nTry using .loc[row_indexer,col_indexer] = value instead\n\nSee the caveats in the documentation: https://pandas.pydata.org/pandas-docs/stable/user_guide/indexing.html#returning-a-view-versus-a-copy\n  # Remove the CWD from sys.path while we load stuff.\n"
          ]
        }
      ],
      "source": [
        "# Генерация признаков (по смыслу)\n",
        "# Кажется, самые важные параметры - расстояние до кольца, азимут на щит\n",
        "# арктангенс loc_y/loc_x - новый столбец - azimuth\n",
        "\n",
        "df['azimuth'] = np.arctan(df.loc_y/df.loc_x)\n",
        "df.loc[df['azimuth'].isna(), 'azimuth'] = np.pi \n",
        "df.azimuth.isna().any() # проверяю, что все значения не NaN\n",
        "\n",
        "# Оставшиеся минуты и секунды нужно объединить в переменную \"оставшееся время\" - time_remaining\n",
        "df['time_remaining'] = df.minutes_remaining * 60 + df.seconds_remaining\n",
        "\n",
        "# слишком много выходит - не так понял исходные значения Широту и долготу нужно объединить - получим координаты города/стадиона - их нужно использовать как один категориальный признак - point\n",
        "# df['point'] = df.lon.astype(str) + \" \" + df.lat.astype(str) "
      ]
    },
    {
      "cell_type": "code",
      "execution_count": 9,
      "metadata": {},
      "outputs": [
        {
          "output_type": "stream",
          "name": "stdout",
          "text": [
            "['game_event_id', 'game_id', 'lat', 'loc_x', 'loc_y', 'lon', 'minutes_remaining', 'seconds_remaining', 'shot_distance', 'shot_id', 'azimuth', 'time_remaining']\n",
            "C:\\Users\\Sergei\\anaconda3\\envs\\mw-flow-calculator\\lib\\site-packages\\pandas\\core\\frame.py:3997: SettingWithCopyWarning: \n",
            "A value is trying to be set on a copy of a slice from a DataFrame\n",
            "\n",
            "See the caveats in the documentation: https://pandas.pydata.org/pandas-docs/stable/user_guide/indexing.html#returning-a-view-versus-a-copy\n",
            "  errors=errors,\n"
          ]
        }
      ],
      "source": [
        "target_col = 'shot_made_flag'\n",
        "useless_cols = ['index']\n",
        "df.drop(labels = useless_cols, axis=1, inplace=True)\n",
        "linear_columns = ['game_event_id', 'game_id', 'shot_id'] \n",
        "num_cat_cols = ['period', 'playoffs', 'team_id']\n",
        "cat_feat = list(df.dtypes[df.dtypes == object].index)\n",
        "cols_to_norm = [c for c in df.columns if c not in cat_feat + num_cat_cols + [target_col]]\n",
        "print(cols_to_norm)\n",
        "# scaler = StandardScaler()\n",
        "# X = pd.DataFrame(scaler.fit_transform(X[cols_to_norm]),columns=cols_to_norm)"
      ]
    },
    {
      "cell_type": "code",
      "execution_count": 10,
      "metadata": {},
      "outputs": [],
      "source": [
        "# неудачная попытка анализа данных тут\r\n",
        "# sns.pairplot(df, hue=\"shot_made_flag\"\r\n",
        "#  , diag_kws={'bw': 0.2}\r\n",
        "# ) # работает больше десяти минут, фикс с bandwidth не помог, нет времени разбираться"
      ]
    },
    {
      "cell_type": "code",
      "execution_count": 11,
      "metadata": {},
      "outputs": [],
      "source": [
        "X = df.drop(labels=['shot_made_flag'], axis=1)\n",
        "y = df['shot_made_flag']\n",
        "\n",
        "# Создаем дамми-переменные для категорий\n",
        "X_dummies = pd.get_dummies(X[cat_feat + num_cat_cols], columns=cat_feat + num_cat_cols)\n",
        "# dummy_test = pd.get_dummies(X_test[cat_feat], columns=cat_feat)\n",
        "X_dummies = X_dummies[list(set(X_dummies))]\n",
        "X = pd.concat([X[cols_to_norm],\n",
        "                     X_dummies], axis=1)"
      ]
    },
    {
      "cell_type": "code",
      "execution_count": 23,
      "metadata": {},
      "outputs": [],
      "source": [
        "from sklearn.linear_model import LinearRegression, RidgeClassifierCV, Lasso, LassoCV, RidgeClassifier\n"
      ]
    },
    {
      "cell_type": "code",
      "execution_count": 24,
      "metadata": {},
      "outputs": [],
      "source": [
        "X_train, X_test, y_train, y_test = train_test_split(X, y, test_size=0.33, random_state=42)"
      ]
    },
    {
      "cell_type": "code",
      "execution_count": 34,
      "metadata": {},
      "outputs": [
        {
          "output_type": "execute_result",
          "data": {
            "text/plain": [
              "       game_event_id   game_id      lat  loc_x  loc_y       lon  \\\n",
              "1119              41  20000936  33.9303    132    114 -118.1378   \n",
              "14464            207  21000610  33.9623     -2     82 -118.2718   \n",
              "8725             230  20600598  33.8913    133    153 -118.1368   \n",
              "20743            414  29800452  34.0443      0      0 -118.2698   \n",
              "24844            489  41000231  33.8093    102    235 -118.1678   \n",
              "...              ...       ...      ...    ...    ...       ...   \n",
              "21575            466  29900821  34.0713    158    -27 -118.1118   \n",
              "5390             131  20400145  33.5163   -128    528 -118.3978   \n",
              "860              319  20000666  33.8733    132    171 -118.1378   \n",
              "15795             10  21100479  34.0793     54    -35 -118.2158   \n",
              "23654            283  40700311  33.9453   -225     99 -118.4948   \n",
              "\n",
              "       minutes_remaining  seconds_remaining  shot_distance  shot_id   azimuth  \\\n",
              "1119                   6                 57             17     1335  0.712358   \n",
              "14464                  3                 41              8    17257 -1.546411   \n",
              "8725                  11                 47             20    10437  0.855215   \n",
              "20743                  0                 18              0    24767  3.141593   \n",
              "24844                  0                  2             25    29675  1.161292   \n",
              "...                  ...                ...            ...      ...       ...   \n",
              "21575                  1                 24             16    25768 -0.169251   \n",
              "5390                   0                  0             54     6419 -1.332960   \n",
              "860                    3                 14             21     1032  0.913407   \n",
              "15795                 10                 35              6    18816 -0.575072   \n",
              "23654                  4                 32             24    28260 -0.414507   \n",
              "\n",
              "       time_remaining  \n",
              "1119              417  \n",
              "14464             221  \n",
              "8725              707  \n",
              "20743              18  \n",
              "24844               2  \n",
              "...               ...  \n",
              "21575              84  \n",
              "5390                0  \n",
              "860               194  \n",
              "15795             635  \n",
              "23654             272  \n",
              "\n",
              "[17216 rows x 12 columns]"
            ],
            "text/html": "<div>\n<style scoped>\n    .dataframe tbody tr th:only-of-type {\n        vertical-align: middle;\n    }\n\n    .dataframe tbody tr th {\n        vertical-align: top;\n    }\n\n    .dataframe thead th {\n        text-align: right;\n    }\n</style>\n<table border=\"1\" class=\"dataframe\">\n  <thead>\n    <tr style=\"text-align: right;\">\n      <th></th>\n      <th>game_event_id</th>\n      <th>game_id</th>\n      <th>lat</th>\n      <th>loc_x</th>\n      <th>loc_y</th>\n      <th>lon</th>\n      <th>minutes_remaining</th>\n      <th>seconds_remaining</th>\n      <th>shot_distance</th>\n      <th>shot_id</th>\n      <th>azimuth</th>\n      <th>time_remaining</th>\n    </tr>\n  </thead>\n  <tbody>\n    <tr>\n      <th>1119</th>\n      <td>41</td>\n      <td>20000936</td>\n      <td>33.9303</td>\n      <td>132</td>\n      <td>114</td>\n      <td>-118.1378</td>\n      <td>6</td>\n      <td>57</td>\n      <td>17</td>\n      <td>1335</td>\n      <td>0.712358</td>\n      <td>417</td>\n    </tr>\n    <tr>\n      <th>14464</th>\n      <td>207</td>\n      <td>21000610</td>\n      <td>33.9623</td>\n      <td>-2</td>\n      <td>82</td>\n      <td>-118.2718</td>\n      <td>3</td>\n      <td>41</td>\n      <td>8</td>\n      <td>17257</td>\n      <td>-1.546411</td>\n      <td>221</td>\n    </tr>\n    <tr>\n      <th>8725</th>\n      <td>230</td>\n      <td>20600598</td>\n      <td>33.8913</td>\n      <td>133</td>\n      <td>153</td>\n      <td>-118.1368</td>\n      <td>11</td>\n      <td>47</td>\n      <td>20</td>\n      <td>10437</td>\n      <td>0.855215</td>\n      <td>707</td>\n    </tr>\n    <tr>\n      <th>20743</th>\n      <td>414</td>\n      <td>29800452</td>\n      <td>34.0443</td>\n      <td>0</td>\n      <td>0</td>\n      <td>-118.2698</td>\n      <td>0</td>\n      <td>18</td>\n      <td>0</td>\n      <td>24767</td>\n      <td>3.141593</td>\n      <td>18</td>\n    </tr>\n    <tr>\n      <th>24844</th>\n      <td>489</td>\n      <td>41000231</td>\n      <td>33.8093</td>\n      <td>102</td>\n      <td>235</td>\n      <td>-118.1678</td>\n      <td>0</td>\n      <td>2</td>\n      <td>25</td>\n      <td>29675</td>\n      <td>1.161292</td>\n      <td>2</td>\n    </tr>\n    <tr>\n      <th>...</th>\n      <td>...</td>\n      <td>...</td>\n      <td>...</td>\n      <td>...</td>\n      <td>...</td>\n      <td>...</td>\n      <td>...</td>\n      <td>...</td>\n      <td>...</td>\n      <td>...</td>\n      <td>...</td>\n      <td>...</td>\n    </tr>\n    <tr>\n      <th>21575</th>\n      <td>466</td>\n      <td>29900821</td>\n      <td>34.0713</td>\n      <td>158</td>\n      <td>-27</td>\n      <td>-118.1118</td>\n      <td>1</td>\n      <td>24</td>\n      <td>16</td>\n      <td>25768</td>\n      <td>-0.169251</td>\n      <td>84</td>\n    </tr>\n    <tr>\n      <th>5390</th>\n      <td>131</td>\n      <td>20400145</td>\n      <td>33.5163</td>\n      <td>-128</td>\n      <td>528</td>\n      <td>-118.3978</td>\n      <td>0</td>\n      <td>0</td>\n      <td>54</td>\n      <td>6419</td>\n      <td>-1.332960</td>\n      <td>0</td>\n    </tr>\n    <tr>\n      <th>860</th>\n      <td>319</td>\n      <td>20000666</td>\n      <td>33.8733</td>\n      <td>132</td>\n      <td>171</td>\n      <td>-118.1378</td>\n      <td>3</td>\n      <td>14</td>\n      <td>21</td>\n      <td>1032</td>\n      <td>0.913407</td>\n      <td>194</td>\n    </tr>\n    <tr>\n      <th>15795</th>\n      <td>10</td>\n      <td>21100479</td>\n      <td>34.0793</td>\n      <td>54</td>\n      <td>-35</td>\n      <td>-118.2158</td>\n      <td>10</td>\n      <td>35</td>\n      <td>6</td>\n      <td>18816</td>\n      <td>-0.575072</td>\n      <td>635</td>\n    </tr>\n    <tr>\n      <th>23654</th>\n      <td>283</td>\n      <td>40700311</td>\n      <td>33.9453</td>\n      <td>-225</td>\n      <td>99</td>\n      <td>-118.4948</td>\n      <td>4</td>\n      <td>32</td>\n      <td>24</td>\n      <td>28260</td>\n      <td>-0.414507</td>\n      <td>272</td>\n    </tr>\n  </tbody>\n</table>\n<p>17216 rows × 12 columns</p>\n</div>"
          },
          "metadata": {},
          "execution_count": 34
        }
      ],
      "source": [
        "X_train[cols_to_norm]"
      ]
    },
    {
      "cell_type": "code",
      "execution_count": 37,
      "metadata": {},
      "outputs": [
        {
          "output_type": "execute_result",
          "data": {
            "text/plain": [
              "-0.9172903287163581"
            ]
          },
          "metadata": {},
          "execution_count": 37
        }
      ],
      "source": [
        "lin = LinearRegression(n_jobs = -1)\n",
        "lin.fit(X_train, y_train)   \n",
        "lin.score(X_test, y_test)"
      ]
    },
    {
      "cell_type": "code",
      "execution_count": 27,
      "metadata": {},
      "outputs": [
        {
          "output_type": "execute_result",
          "data": {
            "text/plain": [
              "0.6095979247730221"
            ]
          },
          "metadata": {},
          "execution_count": 27
        }
      ],
      "source": [
        "rc = RidgeClassifierCV()\n",
        "rc.fit(X_train, y_train)   \n",
        "rc.score(X_test, y_test)"
      ]
    },
    {
      "cell_type": "code",
      "execution_count": 28,
      "metadata": {},
      "outputs": [
        {
          "output_type": "stream",
          "name": "stderr",
          "text": [
            "C:\\Users\\Sergei\\anaconda3\\envs\\mw-flow-calculator\\lib\\site-packages\\sklearn\\linear_model\\_ridge.py:148: LinAlgWarning: Ill-conditioned matrix (rcond=9.31445e-19): result may not be accurate.\n  overwrite_a=True).T\n"
          ]
        },
        {
          "output_type": "execute_result",
          "data": {
            "text/plain": [
              "0.6531069449357387"
            ]
          },
          "metadata": {},
          "execution_count": 28
        }
      ],
      "source": [
        "rc_ = RidgeClassifier()\n",
        "rc_.fit(X_train, y_train)   \n",
        "rc_.score(X_test, y_test)"
      ]
    },
    {
      "cell_type": "code",
      "execution_count": 29,
      "metadata": {},
      "outputs": [
        {
          "output_type": "execute_result",
          "data": {
            "text/plain": [
              "4.292096248803556e-05"
            ]
          },
          "metadata": {},
          "execution_count": 29
        }
      ],
      "source": [
        "lasso = LassoCV()\n",
        "lasso.fit(X_train, y_train)   \n",
        "lasso.score(X_test, y_test)"
      ]
    },
    {
      "cell_type": "code",
      "execution_count": 30,
      "metadata": {},
      "outputs": [
        {
          "output_type": "execute_result",
          "data": {
            "text/plain": [
              "0.01887722013533999"
            ]
          },
          "metadata": {},
          "execution_count": 30
        }
      ],
      "source": [
        "lasso_ = Lasso()\n",
        "lasso_.fit(X_train, y_train)   \n",
        "lasso_.score(X_test, y_test)"
      ]
    },
    {
      "cell_type": "code",
      "execution_count": null,
      "metadata": {},
      "outputs": [],
      "source": []
    },
    {
      "cell_type": "code",
      "execution_count": null,
      "metadata": {},
      "outputs": [],
      "source": []
    }
  ]
}