{
 "cells": [
  {
   "cell_type": "code",
   "execution_count": 1,
   "metadata": {},
   "outputs": [],
   "source": [
    "import pandas as pd\n",
    "import numpy as np\n",
    "\n",
    "from tqdm.notebook import tqdm\n",
    "\n",
    "from sklearn.feature_extraction.text import TfidfTransformer, CountVectorizer\n",
    "from sklearn.neighbors import NearestNeighbors\n",
    "\n",
    "%matplotlib inline"
   ]
  },
  {
   "cell_type": "code",
   "execution_count": 2,
   "metadata": {},
   "outputs": [],
   "source": [
    "links = pd.read_csv('../../datasets/links.csv')\n",
    "movies = pd.read_csv('../../datasets/movies.csv')\n",
    "ratings = pd.read_csv('../../datasets/ratings.csv')\n",
    "tags = pd.read_csv('../../datasets/tags.csv')"
   ]
  },
  {
   "cell_type": "code",
   "execution_count": 3,
   "metadata": {},
   "outputs": [
    {
     "data": {
      "text/html": [
       "<div>\n",
       "<style scoped>\n",
       "    .dataframe tbody tr th:only-of-type {\n",
       "        vertical-align: middle;\n",
       "    }\n",
       "\n",
       "    .dataframe tbody tr th {\n",
       "        vertical-align: top;\n",
       "    }\n",
       "\n",
       "    .dataframe thead th {\n",
       "        text-align: right;\n",
       "    }\n",
       "</style>\n",
       "<table border=\"1\" class=\"dataframe\">\n",
       "  <thead>\n",
       "    <tr style=\"text-align: right;\">\n",
       "      <th></th>\n",
       "      <th>userId</th>\n",
       "      <th>movieId</th>\n",
       "      <th>rating</th>\n",
       "      <th>timestamp</th>\n",
       "    </tr>\n",
       "  </thead>\n",
       "  <tbody>\n",
       "    <tr>\n",
       "      <th>0</th>\n",
       "      <td>1</td>\n",
       "      <td>307</td>\n",
       "      <td>3.5</td>\n",
       "      <td>1256677221</td>\n",
       "    </tr>\n",
       "    <tr>\n",
       "      <th>1</th>\n",
       "      <td>1</td>\n",
       "      <td>481</td>\n",
       "      <td>3.5</td>\n",
       "      <td>1256677456</td>\n",
       "    </tr>\n",
       "    <tr>\n",
       "      <th>2</th>\n",
       "      <td>1</td>\n",
       "      <td>1091</td>\n",
       "      <td>1.5</td>\n",
       "      <td>1256677471</td>\n",
       "    </tr>\n",
       "    <tr>\n",
       "      <th>3</th>\n",
       "      <td>1</td>\n",
       "      <td>1257</td>\n",
       "      <td>4.5</td>\n",
       "      <td>1256677460</td>\n",
       "    </tr>\n",
       "    <tr>\n",
       "      <th>4</th>\n",
       "      <td>1</td>\n",
       "      <td>1449</td>\n",
       "      <td>4.5</td>\n",
       "      <td>1256677264</td>\n",
       "    </tr>\n",
       "  </tbody>\n",
       "</table>\n",
       "</div>"
      ],
      "text/plain": [
       "   userId  movieId  rating   timestamp\n",
       "0       1      307     3.5  1256677221\n",
       "1       1      481     3.5  1256677456\n",
       "2       1     1091     1.5  1256677471\n",
       "3       1     1257     4.5  1256677460\n",
       "4       1     1449     4.5  1256677264"
      ]
     },
     "execution_count": 3,
     "metadata": {},
     "output_type": "execute_result"
    }
   ],
   "source": [
    "ratings_all.head()"
   ]
  },
  {
   "cell_type": "code",
   "execution_count": 3,
   "metadata": {},
   "outputs": [],
   "source": [
    "def change_string(s):\n",
    "    return ' '.join(s.replace(' ', '').replace('-', '').split('|'))"
   ]
  },
  {
   "cell_type": "code",
   "execution_count": 4,
   "metadata": {},
   "outputs": [
    {
     "data": {
      "text/plain": [
       "NearestNeighbors(metric='euclidean', n_jobs=-1, n_neighbors=7)"
      ]
     },
     "execution_count": 4,
     "metadata": {},
     "output_type": "execute_result"
    }
   ],
   "source": [
    "movie_genres = [change_string(g) for g in movies.genres.values]\n",
    "count_vect = CountVectorizer()\n",
    "X_train_counts = count_vect.fit_transform(movie_genres)\n",
    "tfidf_transformer = TfidfTransformer()\n",
    "X_train_tfidf = tfidf_transformer.fit_transform(X_train_counts)\n",
    "neigh = NearestNeighbors(n_neighbors=7, n_jobs=-1, metric='euclidean') \n",
    "neigh.fit(X_train_tfidf)"
   ]
  },
  {
   "cell_type": "code",
   "execution_count": 5,
   "metadata": {},
   "outputs": [
    {
     "data": {
      "text/html": [
       "<div>\n",
       "<style scoped>\n",
       "    .dataframe tbody tr th:only-of-type {\n",
       "        vertical-align: middle;\n",
       "    }\n",
       "\n",
       "    .dataframe tbody tr th {\n",
       "        vertical-align: top;\n",
       "    }\n",
       "\n",
       "    .dataframe thead th {\n",
       "        text-align: right;\n",
       "    }\n",
       "</style>\n",
       "<table border=\"1\" class=\"dataframe\">\n",
       "  <thead>\n",
       "    <tr style=\"text-align: right;\">\n",
       "      <th></th>\n",
       "      <th>movieId</th>\n",
       "      <th>title</th>\n",
       "      <th>genres</th>\n",
       "    </tr>\n",
       "  </thead>\n",
       "  <tbody>\n",
       "    <tr>\n",
       "      <th>29183</th>\n",
       "      <td>127040</td>\n",
       "      <td>Fantomas (Fantômas) (1964)</td>\n",
       "      <td>Adventure|Comedy|Crime|Fantasy</td>\n",
       "    </tr>\n",
       "    <tr>\n",
       "      <th>29184</th>\n",
       "      <td>127042</td>\n",
       "      <td>Fantomas Unleashed (Fantômas se déchaîne) (1965)</td>\n",
       "      <td>Adventure|Comedy|Crime|Fantasy</td>\n",
       "    </tr>\n",
       "    <tr>\n",
       "      <th>29185</th>\n",
       "      <td>127044</td>\n",
       "      <td>Fantomas vs. Scotland Yard (Fantômas contre Sc...</td>\n",
       "      <td>Adventure|Comedy|Crime|Fantasy</td>\n",
       "    </tr>\n",
       "    <tr>\n",
       "      <th>12784</th>\n",
       "      <td>60074</td>\n",
       "      <td>Hancock (2008)</td>\n",
       "      <td>Action|Adventure|Comedy|Crime|Fantasy</td>\n",
       "    </tr>\n",
       "    <tr>\n",
       "      <th>19038</th>\n",
       "      <td>94015</td>\n",
       "      <td>Mirror Mirror (2012)</td>\n",
       "      <td>Adventure|Comedy|Fantasy</td>\n",
       "    </tr>\n",
       "    <tr>\n",
       "      <th>38217</th>\n",
       "      <td>148886</td>\n",
       "      <td>Dinosaur Island (1994)</td>\n",
       "      <td>Adventure|Comedy|Fantasy</td>\n",
       "    </tr>\n",
       "    <tr>\n",
       "      <th>16496</th>\n",
       "      <td>82854</td>\n",
       "      <td>Gulliver's Travels (2010)</td>\n",
       "      <td>Adventure|Comedy|Fantasy</td>\n",
       "    </tr>\n",
       "  </tbody>\n",
       "</table>\n",
       "</div>"
      ],
      "text/plain": [
       "       movieId                                              title  \\\n",
       "29183   127040                         Fantomas (Fantômas) (1964)   \n",
       "29184   127042   Fantomas Unleashed (Fantômas se déchaîne) (1965)   \n",
       "29185   127044  Fantomas vs. Scotland Yard (Fantômas contre Sc...   \n",
       "12784    60074                                     Hancock (2008)   \n",
       "19038    94015                               Mirror Mirror (2012)   \n",
       "38217   148886                             Dinosaur Island (1994)   \n",
       "16496    82854                          Gulliver's Travels (2010)   \n",
       "\n",
       "                                      genres  \n",
       "29183         Adventure|Comedy|Crime|Fantasy  \n",
       "29184         Adventure|Comedy|Crime|Fantasy  \n",
       "29185         Adventure|Comedy|Crime|Fantasy  \n",
       "12784  Action|Adventure|Comedy|Crime|Fantasy  \n",
       "19038               Adventure|Comedy|Fantasy  \n",
       "38217               Adventure|Comedy|Fantasy  \n",
       "16496               Adventure|Comedy|Fantasy  "
      ]
     },
     "execution_count": 5,
     "metadata": {},
     "output_type": "execute_result"
    }
   ],
   "source": [
    "# Проверка на произвольных жанрах\n",
    "test = change_string(\"Adventure|Comedy|Fantasy|Crime\")\n",
    "\n",
    "predict = count_vect.transform([test])\n",
    "X_tfidf2 = tfidf_transformer.transform(predict)\n",
    "res = neigh.kneighbors(X_tfidf2, return_distance=True)\n",
    "# res\n",
    "movies.iloc[res[1][0]]"
   ]
  },
  {
   "cell_type": "code",
   "execution_count": 6,
   "metadata": {},
   "outputs": [
    {
     "data": {
      "application/vnd.jupyter.widget-view+json": {
       "model_id": "5e77f2fabad548d18dd12d66f406312f",
       "version_major": 2,
       "version_minor": 0
      },
      "text/plain": [
       "  0%|          | 0/45935 [00:00<?, ?it/s]"
      ]
     },
     "metadata": {},
     "output_type": "display_data"
    }
   ],
   "source": [
    "# Подготовка тэгов - приведение к тому же формату, что и в жанрах\n",
    "movies_with_tags = movies.join(tags.set_index('movieId'), on='movieId')\n",
    "# movies_with_tags.shape\n",
    "movies_with_tags.dropna(inplace=True)\n",
    "# movies_with_tags.shape\n",
    "tag_strings_list = []\n",
    "movies_list = []\n",
    "movies['tags'] = \"\"\n",
    "\n",
    "for movie, group in tqdm(movies_with_tags.groupby('title')):\n",
    "    m_tags = '|'.join([str(s).replace(' ', '').replace('-', '') for s in group.tag.values])\n",
    "    tag_strings_list.append(m_tags)\n",
    "    movies.loc[movies.movieId == group.movieId.values[0],['tags']] = m_tags\n",
    "    movies_list.append(movie)\n",
    "\n",
    "# tag_strings_list[:5]"
   ]
  },
  {
   "cell_type": "code",
   "execution_count": 7,
   "metadata": {},
   "outputs": [
    {
     "data": {
      "text/plain": [
       "NearestNeighbors(metric='euclidean', n_jobs=-1, n_neighbors=7)"
      ]
     },
     "execution_count": 7,
     "metadata": {},
     "output_type": "execute_result"
    }
   ],
   "source": [
    "# Построение графа ближайших соседей\n",
    "movie_tags = [change_string(g) for g in movies.tags.values]\n",
    "count_vect_tags = CountVectorizer()\n",
    "X_train_counts_tags = count_vect_tags.fit_transform(movie_tags)\n",
    "tfidf_transformer_tags = TfidfTransformer()\n",
    "X_train_tfidf_tags = tfidf_transformer_tags.fit_transform(X_train_counts_tags)\n",
    "neigh_tags = NearestNeighbors(n_neighbors=7, n_jobs=-1, metric='euclidean') \n",
    "neigh_tags.fit(X_train_tfidf_tags)"
   ]
  },
  {
   "cell_type": "code",
   "execution_count": 8,
   "metadata": {},
   "outputs": [
    {
     "data": {
      "text/html": [
       "<div>\n",
       "<style scoped>\n",
       "    .dataframe tbody tr th:only-of-type {\n",
       "        vertical-align: middle;\n",
       "    }\n",
       "\n",
       "    .dataframe tbody tr th {\n",
       "        vertical-align: top;\n",
       "    }\n",
       "\n",
       "    .dataframe thead th {\n",
       "        text-align: right;\n",
       "    }\n",
       "</style>\n",
       "<table border=\"1\" class=\"dataframe\">\n",
       "  <thead>\n",
       "    <tr style=\"text-align: right;\">\n",
       "      <th></th>\n",
       "      <th>movieId</th>\n",
       "      <th>title</th>\n",
       "      <th>genres</th>\n",
       "      <th>tags</th>\n",
       "    </tr>\n",
       "  </thead>\n",
       "  <tbody>\n",
       "    <tr>\n",
       "      <th>2271</th>\n",
       "      <td>2355</td>\n",
       "      <td>Bug's Life, A (1998)</td>\n",
       "      <td>Adventure|Animation|Children|Comedy</td>\n",
       "      <td>animation|Disney|Pixar|insects|KevinSpacey|opp...</td>\n",
       "    </tr>\n",
       "    <tr>\n",
       "      <th>3028</th>\n",
       "      <td>3114</td>\n",
       "      <td>Toy Story 2 (1999)</td>\n",
       "      <td>Adventure|Animation|Children|Comedy|Fantasy</td>\n",
       "      <td>Pixar|sequelbetterthanoriginal|abandonment|ani...</td>\n",
       "    </tr>\n",
       "    <tr>\n",
       "      <th>14509</th>\n",
       "      <td>72356</td>\n",
       "      <td>Partly Cloudy (2009)</td>\n",
       "      <td>Animation|Children|Comedy|Fantasy</td>\n",
       "      <td>Pixar|shortfilm|Pixar|shortfilm|Pixar|memasa's...</td>\n",
       "    </tr>\n",
       "    <tr>\n",
       "      <th>4791</th>\n",
       "      <td>4886</td>\n",
       "      <td>Monsters, Inc. (2001)</td>\n",
       "      <td>Adventure|Animation|Children|Comedy|Fantasy</td>\n",
       "      <td>funny|Pixar|Comedy|funny|Pixar|animated|animat...</td>\n",
       "    </tr>\n",
       "    <tr>\n",
       "      <th>41760</th>\n",
       "      <td>157296</td>\n",
       "      <td>Finding Dory (2016)</td>\n",
       "      <td>Adventure|Animation|Comedy</td>\n",
       "      <td>adventure|animation|pixar|animation|computeran...</td>\n",
       "    </tr>\n",
       "    <tr>\n",
       "      <th>0</th>\n",
       "      <td>1</td>\n",
       "      <td>Toy Story (1995)</td>\n",
       "      <td>Adventure|Animation|Children|Comedy|Fantasy</td>\n",
       "      <td>animated|buddymovie|Cartoon|cgi|comedy|compute...</td>\n",
       "    </tr>\n",
       "    <tr>\n",
       "      <th>11048</th>\n",
       "      <td>45517</td>\n",
       "      <td>Cars (2006)</td>\n",
       "      <td>Animation|Children|Comedy</td>\n",
       "      <td>redemption|villainnonexistentornotneededforgoo...</td>\n",
       "    </tr>\n",
       "  </tbody>\n",
       "</table>\n",
       "</div>"
      ],
      "text/plain": [
       "       movieId                  title  \\\n",
       "2271      2355   Bug's Life, A (1998)   \n",
       "3028      3114     Toy Story 2 (1999)   \n",
       "14509    72356   Partly Cloudy (2009)   \n",
       "4791      4886  Monsters, Inc. (2001)   \n",
       "41760   157296    Finding Dory (2016)   \n",
       "0            1       Toy Story (1995)   \n",
       "11048    45517            Cars (2006)   \n",
       "\n",
       "                                            genres  \\\n",
       "2271           Adventure|Animation|Children|Comedy   \n",
       "3028   Adventure|Animation|Children|Comedy|Fantasy   \n",
       "14509            Animation|Children|Comedy|Fantasy   \n",
       "4791   Adventure|Animation|Children|Comedy|Fantasy   \n",
       "41760                   Adventure|Animation|Comedy   \n",
       "0      Adventure|Animation|Children|Comedy|Fantasy   \n",
       "11048                    Animation|Children|Comedy   \n",
       "\n",
       "                                                    tags  \n",
       "2271   animation|Disney|Pixar|insects|KevinSpacey|opp...  \n",
       "3028   Pixar|sequelbetterthanoriginal|abandonment|ani...  \n",
       "14509  Pixar|shortfilm|Pixar|shortfilm|Pixar|memasa's...  \n",
       "4791   funny|Pixar|Comedy|funny|Pixar|animated|animat...  \n",
       "41760  adventure|animation|pixar|animation|computeran...  \n",
       "0      animated|buddymovie|Cartoon|cgi|comedy|compute...  \n",
       "11048  redemption|villainnonexistentornotneededforgoo...  "
      ]
     },
     "execution_count": 8,
     "metadata": {},
     "output_type": "execute_result"
    }
   ],
   "source": [
    "# Проверка на произвольных тэгах\n",
    "test = change_string('pixar|pixar|fun')\n",
    "\n",
    "predict = count_vect_tags.transform([test])\n",
    "X_tfidf2 = tfidf_transformer_tags.transform(predict)\n",
    "\n",
    "res = neigh_tags.kneighbors(X_tfidf2, return_distance=True)\n",
    "# res\n",
    "movies.iloc[res[1][0]]"
   ]
  },
  {
   "cell_type": "code",
   "execution_count": null,
   "metadata": {},
   "outputs": [],
   "source": []
  }
 ],
 "metadata": {
  "kernelspec": {
   "display_name": "Python 3",
   "language": "python",
   "name": "python3"
  },
  "language_info": {
   "codemirror_mode": {
    "name": "ipython",
    "version": 3
   },
   "file_extension": ".py",
   "mimetype": "text/x-python",
   "name": "python",
   "nbconvert_exporter": "python",
   "pygments_lexer": "ipython3",
   "version": "3.8.12"
  }
 },
 "nbformat": 4,
 "nbformat_minor": 4
}
