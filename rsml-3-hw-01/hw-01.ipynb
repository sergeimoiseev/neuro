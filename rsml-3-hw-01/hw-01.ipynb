{
 "cells": [
  {
   "cell_type": "code",
   "execution_count": 1,
   "metadata": {},
   "outputs": [],
   "source": [
    "import pandas as pd\n",
    "# import numpy as np\n",
    "import scipy as sp\n",
    "from tqdm.notebook import tqdm\n",
    "\n",
    "from sklearn.feature_extraction.text import TfidfTransformer, CountVectorizer\n",
    "from sklearn.neighbors import NearestNeighbors\n",
    "from sklearn.model_selection import train_test_split\n",
    "\n",
    "%matplotlib inline"
   ]
  },
  {
   "cell_type": "code",
   "execution_count": 2,
   "metadata": {},
   "outputs": [],
   "source": [
    "# будем использовать полный набор после отладки на тестовом.\n",
    "# Полный набор: \n",
    "# movies_all = pd.read_csv('../../datasets/movies.csv')\n",
    "# ratings_all = pd.read_csv('../../datasets/ratings.csv')\n",
    "# tags_all = pd.read_csv('../../datasets/tags.csv')\n",
    "# Тестовый набор\n",
    "movies_all = pd.read_csv('movies.csv')\n",
    "ratings_all = pd.read_csv('ratings.csv')\n",
    "tags_all = pd.read_csv('tags.csv')"
   ]
  },
  {
   "cell_type": "markdown",
   "metadata": {},
   "source": [
    "## Подготовка train-test-split\n",
    "Объединяем все данные в один большой dataframe с уникальными строками по паре пользователь-фильм,  \n",
    "делим ее на обучающую и тестовую выборки"
   ]
  },
  {
   "cell_type": "code",
   "execution_count": 3,
   "metadata": {},
   "outputs": [
    {
     "name": "stdout",
     "output_type": "stream",
     "text": [
      "Empty DataFrame\n",
      "Columns: [userId, movieId, rating, timestamp, tag]\n",
      "Index: []\n"
     ]
    }
   ],
   "source": [
    "# ! Выполнение длится долго (больше минуты) на больших данных\n",
    "# Все, что дал каждый пользователь в udf.\n",
    "# Считаем, что пользователя нет, если он не добавил тэг или не проставил рейтинг\n",
    "tags_all_temp = tags_all.drop(['movieId', 'timestamp'], axis=1, inplace=False)\n",
    "\n",
    "udf = ratings_all.join(tags_all_temp.set_index('userId'), on='userId') \n",
    "# Рейтинг есть у всех фильмов с тэгами?\n",
    "print(udf[udf.tag.notnull() & udf.rating.isnull()])\n",
    "umdf = udf.join(movies_all.set_index('movieId'), on='movieId')"
   ]
  },
  {
   "cell_type": "code",
   "execution_count": 4,
   "metadata": {},
   "outputs": [
    {
     "data": {
      "text/html": [
       "<div>\n",
       "<style scoped>\n",
       "    .dataframe tbody tr th:only-of-type {\n",
       "        vertical-align: middle;\n",
       "    }\n",
       "\n",
       "    .dataframe tbody tr th {\n",
       "        vertical-align: top;\n",
       "    }\n",
       "\n",
       "    .dataframe thead th {\n",
       "        text-align: right;\n",
       "    }\n",
       "</style>\n",
       "<table border=\"1\" class=\"dataframe\">\n",
       "  <thead>\n",
       "    <tr style=\"text-align: right;\">\n",
       "      <th></th>\n",
       "      <th>userId</th>\n",
       "      <th>movieId</th>\n",
       "      <th>rating</th>\n",
       "      <th>timestamp</th>\n",
       "      <th>tag</th>\n",
       "      <th>title</th>\n",
       "      <th>genres</th>\n",
       "    </tr>\n",
       "  </thead>\n",
       "  <tbody>\n",
       "    <tr>\n",
       "      <th>0</th>\n",
       "      <td>1</td>\n",
       "      <td>1</td>\n",
       "      <td>4.0</td>\n",
       "      <td>964982703</td>\n",
       "      <td>NaN</td>\n",
       "      <td>Toy Story (1995)</td>\n",
       "      <td>Adventure|Animation|Children|Comedy|Fantasy</td>\n",
       "    </tr>\n",
       "    <tr>\n",
       "      <th>1</th>\n",
       "      <td>1</td>\n",
       "      <td>3</td>\n",
       "      <td>4.0</td>\n",
       "      <td>964981247</td>\n",
       "      <td>NaN</td>\n",
       "      <td>Grumpier Old Men (1995)</td>\n",
       "      <td>Comedy|Romance</td>\n",
       "    </tr>\n",
       "    <tr>\n",
       "      <th>2</th>\n",
       "      <td>1</td>\n",
       "      <td>6</td>\n",
       "      <td>4.0</td>\n",
       "      <td>964982224</td>\n",
       "      <td>NaN</td>\n",
       "      <td>Heat (1995)</td>\n",
       "      <td>Action|Crime|Thriller</td>\n",
       "    </tr>\n",
       "    <tr>\n",
       "      <th>3</th>\n",
       "      <td>1</td>\n",
       "      <td>47</td>\n",
       "      <td>5.0</td>\n",
       "      <td>964983815</td>\n",
       "      <td>NaN</td>\n",
       "      <td>Seven (a.k.a. Se7en) (1995)</td>\n",
       "      <td>Mystery|Thriller</td>\n",
       "    </tr>\n",
       "    <tr>\n",
       "      <th>4</th>\n",
       "      <td>1</td>\n",
       "      <td>50</td>\n",
       "      <td>5.0</td>\n",
       "      <td>964982931</td>\n",
       "      <td>NaN</td>\n",
       "      <td>Usual Suspects, The (1995)</td>\n",
       "      <td>Crime|Mystery|Thriller</td>\n",
       "    </tr>\n",
       "  </tbody>\n",
       "</table>\n",
       "</div>"
      ],
      "text/plain": [
       "   userId  movieId  rating  timestamp  tag                        title  \\\n",
       "0       1        1     4.0  964982703  NaN             Toy Story (1995)   \n",
       "1       1        3     4.0  964981247  NaN      Grumpier Old Men (1995)   \n",
       "2       1        6     4.0  964982224  NaN                  Heat (1995)   \n",
       "3       1       47     5.0  964983815  NaN  Seven (a.k.a. Se7en) (1995)   \n",
       "4       1       50     5.0  964982931  NaN   Usual Suspects, The (1995)   \n",
       "\n",
       "                                        genres  \n",
       "0  Adventure|Animation|Children|Comedy|Fantasy  \n",
       "1                               Comedy|Romance  \n",
       "2                        Action|Crime|Thriller  \n",
       "3                             Mystery|Thriller  \n",
       "4                       Crime|Mystery|Thriller  "
      ]
     },
     "execution_count": 4,
     "metadata": {},
     "output_type": "execute_result"
    }
   ],
   "source": [
    "umdf.head()"
   ]
  },
  {
   "cell_type": "code",
   "execution_count": 5,
   "metadata": {},
   "outputs": [],
   "source": [
    "# Выделение тестовой выборки\n",
    "\n",
    "trdf, testdf, ytr, ytest = train_test_split(umdf.drop(['rating'], axis=1, inplace=False), \n",
    "umdf['rating'], \n",
    "test_size=0.33, random_state=42)"
   ]
  },
  {
   "cell_type": "code",
   "execution_count": 6,
   "metadata": {},
   "outputs": [],
   "source": [
    "def change_string(s):\n",
    "    return ' '.join(s.replace(' ', '').replace('-', '').split('|'))"
   ]
  },
  {
   "cell_type": "code",
   "execution_count": 7,
   "metadata": {},
   "outputs": [],
   "source": [
    "movie_genres = [change_string(g) for g in trdf.drop_duplicates('movieId').genres.values]\n"
   ]
  },
  {
   "cell_type": "code",
   "execution_count": 8,
   "metadata": {},
   "outputs": [
    {
     "data": {
      "text/plain": [
       "NearestNeighbors(metric='euclidean', n_jobs=-1, n_neighbors=7)"
      ]
     },
     "execution_count": 8,
     "metadata": {},
     "output_type": "execute_result"
    }
   ],
   "source": [
    "\n",
    "count_vect = CountVectorizer()\n",
    "X_train_counts = count_vect.fit_transform(movie_genres)\n",
    "tfidf_transformer = TfidfTransformer()\n",
    "X_train_tfidf = tfidf_transformer.fit_transform(X_train_counts)\n",
    "neigh = NearestNeighbors(n_neighbors=7, n_jobs=-1, metric='euclidean') \n",
    "neigh.fit(X_train_tfidf)"
   ]
  },
  {
   "cell_type": "code",
   "execution_count": 13,
   "metadata": {},
   "outputs": [
    {
     "data": {
      "text/plain": [
       "'Action Adventure Comedy Crime Fantasy'"
      ]
     },
     "execution_count": 13,
     "metadata": {},
     "output_type": "execute_result"
    }
   ],
   "source": [
    "movie_genres[947]"
   ]
  },
  {
   "cell_type": "code",
   "execution_count": 12,
   "metadata": {},
   "outputs": [
    {
     "name": "stdout",
     "output_type": "stream",
     "text": [
      "(array([[0.41684883, 0.54248378, 0.54248378, 0.54248378, 0.54248378,\n",
      "        0.54248378, 0.54248378]]), array([[ 947, 6820,  807, 3895, 3949,  786, 6368]], dtype=int64))\n"
     ]
    },
    {
     "data": {
      "text/html": [
       "<div>\n",
       "<style scoped>\n",
       "    .dataframe tbody tr th:only-of-type {\n",
       "        vertical-align: middle;\n",
       "    }\n",
       "\n",
       "    .dataframe tbody tr th {\n",
       "        vertical-align: top;\n",
       "    }\n",
       "\n",
       "    .dataframe thead th {\n",
       "        text-align: right;\n",
       "    }\n",
       "</style>\n",
       "<table border=\"1\" class=\"dataframe\">\n",
       "  <thead>\n",
       "    <tr style=\"text-align: right;\">\n",
       "      <th></th>\n",
       "      <th>userId</th>\n",
       "      <th>movieId</th>\n",
       "      <th>timestamp</th>\n",
       "      <th>tag</th>\n",
       "      <th>title</th>\n",
       "      <th>genres</th>\n",
       "    </tr>\n",
       "  </thead>\n",
       "  <tbody>\n",
       "    <tr>\n",
       "      <th>25174</th>\n",
       "      <td>177</td>\n",
       "      <td>2355</td>\n",
       "      <td>1435890634</td>\n",
       "      <td>feel-good</td>\n",
       "      <td>Bug's Life, A (1998)</td>\n",
       "      <td>Adventure|Animation|Children|Comedy</td>\n",
       "    </tr>\n",
       "    <tr>\n",
       "      <th>73172</th>\n",
       "      <td>474</td>\n",
       "      <td>296</td>\n",
       "      <td>979179939</td>\n",
       "      <td>racism</td>\n",
       "      <td>Pulp Fiction (1994)</td>\n",
       "      <td>Comedy|Crime|Drama|Thriller</td>\n",
       "    </tr>\n",
       "    <tr>\n",
       "      <th>93136</th>\n",
       "      <td>599</td>\n",
       "      <td>1464</td>\n",
       "      <td>1519119509</td>\n",
       "      <td>travolta</td>\n",
       "      <td>Lost Highway (1997)</td>\n",
       "      <td>Crime|Drama|Fantasy|Film-Noir|Mystery|Romance</td>\n",
       "    </tr>\n",
       "    <tr>\n",
       "      <th>75180</th>\n",
       "      <td>474</td>\n",
       "      <td>52952</td>\n",
       "      <td>1201832936</td>\n",
       "      <td>Stephen King</td>\n",
       "      <td>This Is England (2006)</td>\n",
       "      <td>Drama</td>\n",
       "    </tr>\n",
       "    <tr>\n",
       "      <th>73546</th>\n",
       "      <td>474</td>\n",
       "      <td>1573</td>\n",
       "      <td>1100291472</td>\n",
       "      <td>football</td>\n",
       "      <td>Face/Off (1997)</td>\n",
       "      <td>Action|Crime|Drama|Thriller</td>\n",
       "    </tr>\n",
       "    <tr>\n",
       "      <th>74125</th>\n",
       "      <td>474</td>\n",
       "      <td>3683</td>\n",
       "      <td>1137521116</td>\n",
       "      <td>slasher</td>\n",
       "      <td>Blood Simple (1984)</td>\n",
       "      <td>Crime|Drama|Film-Noir</td>\n",
       "    </tr>\n",
       "    <tr>\n",
       "      <th>74938</th>\n",
       "      <td>474</td>\n",
       "      <td>8695</td>\n",
       "      <td>1089638396</td>\n",
       "      <td>George Bernard Shaw</td>\n",
       "      <td>Bachelor and the Bobby-Soxer, The (1947)</td>\n",
       "      <td>Comedy</td>\n",
       "    </tr>\n",
       "  </tbody>\n",
       "</table>\n",
       "</div>"
      ],
      "text/plain": [
       "       userId  movieId   timestamp                  tag  \\\n",
       "25174     177     2355  1435890634            feel-good   \n",
       "73172     474      296   979179939               racism   \n",
       "93136     599     1464  1519119509             travolta   \n",
       "75180     474    52952  1201832936         Stephen King   \n",
       "73546     474     1573  1100291472             football   \n",
       "74125     474     3683  1137521116              slasher   \n",
       "74938     474     8695  1089638396  George Bernard Shaw   \n",
       "\n",
       "                                          title  \\\n",
       "25174                      Bug's Life, A (1998)   \n",
       "73172                       Pulp Fiction (1994)   \n",
       "93136                       Lost Highway (1997)   \n",
       "75180                    This Is England (2006)   \n",
       "73546                           Face/Off (1997)   \n",
       "74125                       Blood Simple (1984)   \n",
       "74938  Bachelor and the Bobby-Soxer, The (1947)   \n",
       "\n",
       "                                              genres  \n",
       "25174            Adventure|Animation|Children|Comedy  \n",
       "73172                    Comedy|Crime|Drama|Thriller  \n",
       "93136  Crime|Drama|Fantasy|Film-Noir|Mystery|Romance  \n",
       "75180                                          Drama  \n",
       "73546                    Action|Crime|Drama|Thriller  \n",
       "74125                          Crime|Drama|Film-Noir  \n",
       "74938                                         Comedy  "
      ]
     },
     "execution_count": 12,
     "metadata": {},
     "output_type": "execute_result"
    }
   ],
   "source": [
    "# Проверка на произвольных жанрах\n",
    "test = change_string(\"Adventure|Comedy|Fantasy|Crime\")\n",
    "\n",
    "predict = count_vect.transform([test])\n",
    "X_tfidf2 = tfidf_transformer.transform(predict)\n",
    "res = neigh.kneighbors(X_tfidf2, return_distance=True)\n",
    "# res\n",
    "print(res)\n",
    "trdf.iloc[res[1][0]]"
   ]
  },
  {
   "cell_type": "code",
   "execution_count": 30,
   "metadata": {},
   "outputs": [
    {
     "name": "stdout",
     "output_type": "stream",
     "text": [
      "Empty DataFrame\n",
      "Columns: [userId, movieId, timestamp, tag, title, genres]\n",
      "Index: []\n"
     ]
    },
    {
     "data": {
      "application/vnd.jupyter.widget-view+json": {
       "model_id": "43b081d7cf314e6f84cb7a724df2d6af",
       "version_major": 2,
       "version_minor": 0
      },
      "text/plain": [
       "  0%|          | 0/6358 [00:00<?, ?it/s]"
      ]
     },
     "metadata": {},
     "output_type": "display_data"
    }
   ],
   "source": [
    "# Очень неоптимально! медленно даже на небольших данных из-за дублирования всех тэгов всех фильмов\n",
    "# Использовать другую структуру данных\n",
    "# и/или переписать цикл на векторыне операции\n",
    "\n",
    "# Подготовка тэгов - приведение к тому же формату, что и в жанрах\n",
    "# movies_with_tags.shape\n",
    "movies_with_tags = trdf.dropna(subset=['tag'], axis = 0,inplace=False)#.drop_duplicates(['tag','movieId'], inplace=False)\n",
    "# movies_with_tags.head()\n",
    "print(movies_with_tags[movies_with_tags.tag.isnull()])\n",
    "n_movies = len(movies_with_tags.drop_duplicates('movieId'))\n",
    "\n",
    "movies_df = movies_with_tags.drop_duplicates('movieId').drop(['userId','timestamp','tag'], axis=1)\n",
    "# tag_strings_list = []\n",
    "# movies_list = []\n",
    "movies_df['tags'] = \"\"\n",
    "\n",
    "for movie, group in tqdm(movies_with_tags.groupby('title')):\n",
    "    m_tags = '|'.join([str(s).replace(' ', '').replace('-', '') for s in group.tag.values])\n",
    "    # tag_strings_list.append(m_tags)\n",
    "    # movies_list.append(movie)\n",
    "    movies_df.loc[movies_df.movieId == group.movieId.values[0],['tags']] = m_tags"
   ]
  },
  {
   "cell_type": "code",
   "execution_count": 31,
   "metadata": {},
   "outputs": [
    {
     "data": {
      "text/plain": [
       "NearestNeighbors(metric='euclidean', n_jobs=-1, n_neighbors=7)"
      ]
     },
     "execution_count": 31,
     "metadata": {},
     "output_type": "execute_result"
    }
   ],
   "source": [
    "movie_tags = list(movies_df['tags'])\n",
    "count_vect_tags = CountVectorizer()\n",
    "X_train_counts_tags = count_vect_tags.fit_transform(movie_tags)\n",
    "tfidf_transformer_tags = TfidfTransformer()\n",
    "X_train_tfidf_tags = tfidf_transformer_tags.fit_transform(X_train_counts_tags)\n",
    "neigh_tags = NearestNeighbors(n_neighbors=7, n_jobs=-1, metric='euclidean') \n",
    "neigh_tags.fit(X_train_tfidf_tags)"
   ]
  },
  {
   "cell_type": "code",
   "execution_count": 34,
   "metadata": {},
   "outputs": [
    {
     "name": "stdout",
     "output_type": "stream",
     "text": [
      "(array([[1.        , 1.        , 1.28727923, 1.28921858, 1.29021181,\n",
      "        1.29053042, 1.29067369]]), array([[5970, 5304, 3808, 3438, 3669, 2344, 3809]], dtype=int64))\n",
      "[5970 5304 3808 3438 3669 2344 3809]\n"
     ]
    },
    {
     "data": {
      "text/html": [
       "<div>\n",
       "<style scoped>\n",
       "    .dataframe tbody tr th:only-of-type {\n",
       "        vertical-align: middle;\n",
       "    }\n",
       "\n",
       "    .dataframe tbody tr th {\n",
       "        vertical-align: top;\n",
       "    }\n",
       "\n",
       "    .dataframe thead th {\n",
       "        text-align: right;\n",
       "    }\n",
       "</style>\n",
       "<table border=\"1\" class=\"dataframe\">\n",
       "  <thead>\n",
       "    <tr style=\"text-align: right;\">\n",
       "      <th></th>\n",
       "      <th>movieId</th>\n",
       "      <th>title</th>\n",
       "      <th>genres</th>\n",
       "      <th>tags</th>\n",
       "    </tr>\n",
       "  </thead>\n",
       "  <tbody>\n",
       "    <tr>\n",
       "      <th>80596</th>\n",
       "      <td>26958</td>\n",
       "      <td>Emma (1996)</td>\n",
       "      <td>Romance</td>\n",
       "      <td></td>\n",
       "    </tr>\n",
       "    <tr>\n",
       "      <th>98357</th>\n",
       "      <td>32600</td>\n",
       "      <td>Eros (2004)</td>\n",
       "      <td>Drama</td>\n",
       "      <td></td>\n",
       "    </tr>\n",
       "    <tr>\n",
       "      <th>94405</th>\n",
       "      <td>26861</td>\n",
       "      <td>Freaked (1993)</td>\n",
       "      <td>Comedy|Sci-Fi</td>\n",
       "      <td>meaninglessviolence|disjointedtimeline|nonline...</td>\n",
       "    </tr>\n",
       "    <tr>\n",
       "      <th>94017</th>\n",
       "      <td>5298</td>\n",
       "      <td>Human Nature (2001)</td>\n",
       "      <td>Comedy|Romance</td>\n",
       "      <td>artificialintelligence|confusingending|societa...</td>\n",
       "    </tr>\n",
       "    <tr>\n",
       "      <th>94688</th>\n",
       "      <td>63082</td>\n",
       "      <td>Slumdog Millionaire (2008)</td>\n",
       "      <td>Crime|Drama|Romance</td>\n",
       "      <td>action|JeanReno|ArthurC.Clarke|nonlinearnarrat...</td>\n",
       "    </tr>\n",
       "    <tr>\n",
       "      <th>94871</th>\n",
       "      <td>95165</td>\n",
       "      <td>Dragon Ball Z the Movie: The World's Strongest...</td>\n",
       "      <td>Action|Adventure|Animation|Sci-Fi|Thriller</td>\n",
       "      <td>disjointedtimeline|masterpiece|actionpacked|r:...</td>\n",
       "    </tr>\n",
       "    <tr>\n",
       "      <th>94878</th>\n",
       "      <td>95499</td>\n",
       "      <td>Dragon Ball Z: Broly - The Legendary Super Sai...</td>\n",
       "      <td>Action|Adventure|Animation</td>\n",
       "      <td>sarcasm|gritty|cinematography|organisedcrime|1...</td>\n",
       "    </tr>\n",
       "  </tbody>\n",
       "</table>\n",
       "</div>"
      ],
      "text/plain": [
       "       movieId                                              title  \\\n",
       "80596    26958                                        Emma (1996)   \n",
       "98357    32600                                        Eros (2004)   \n",
       "94405    26861                                     Freaked (1993)   \n",
       "94017     5298                                Human Nature (2001)   \n",
       "94688    63082                         Slumdog Millionaire (2008)   \n",
       "94871    95165  Dragon Ball Z the Movie: The World's Strongest...   \n",
       "94878    95499  Dragon Ball Z: Broly - The Legendary Super Sai...   \n",
       "\n",
       "                                           genres  \\\n",
       "80596                                     Romance   \n",
       "98357                                       Drama   \n",
       "94405                               Comedy|Sci-Fi   \n",
       "94017                              Comedy|Romance   \n",
       "94688                         Crime|Drama|Romance   \n",
       "94871  Action|Adventure|Animation|Sci-Fi|Thriller   \n",
       "94878                  Action|Adventure|Animation   \n",
       "\n",
       "                                                    tags  \n",
       "80596                                                     \n",
       "98357                                                     \n",
       "94405  meaninglessviolence|disjointedtimeline|nonline...  \n",
       "94017  artificialintelligence|confusingending|societa...  \n",
       "94688  action|JeanReno|ArthurC.Clarke|nonlinearnarrat...  \n",
       "94871  disjointedtimeline|masterpiece|actionpacked|r:...  \n",
       "94878  sarcasm|gritty|cinematography|organisedcrime|1...  "
      ]
     },
     "execution_count": 34,
     "metadata": {},
     "output_type": "execute_result"
    }
   ],
   "source": [
    "# Проверка на произвольных тэгах\n",
    "# test = change_string('pixar|pixar|fun')\n",
    "test = change_string('darkcomedy|organisedcrime|sophisticated|1990s')\n",
    "\n",
    "predict = count_vect_tags.transform([test])\n",
    "X_tfidf2 = tfidf_transformer_tags.transform(predict)\n",
    "\n",
    "res = neigh_tags.kneighbors(X_tfidf2, return_distance=True)\n",
    "print(res)\n",
    "print(res[1][0])\n",
    "# umdf.head()\n",
    "# movies_df.iloc[res[1][0]]\n",
    "movies_df.iloc[res[1][0]]"
   ]
  },
  {
   "cell_type": "code",
   "execution_count": 17,
   "metadata": {},
   "outputs": [
    {
     "data": {
      "text/plain": [
       "NearestNeighbors(metric='euclidean', n_jobs=-1, n_neighbors=7)"
      ]
     },
     "execution_count": 17,
     "metadata": {},
     "output_type": "execute_result"
    }
   ],
   "source": [
    "count_vect_t_g = CountVectorizer()\n",
    "movies_t_g = list(movie_tags) + movie_genres\n",
    "\n",
    "X_train_counts_tags = count_vect_t_g.fit_transform(movies_t_g)\n",
    "\n",
    "tfidf_transformer_t_g = TfidfTransformer()\n",
    "X_train_tfidf_t_g = tfidf_transformer_t_g.fit_transform(X_train_counts_tags)\n",
    "neigh_t_g = NearestNeighbors(n_neighbors=7, n_jobs=-1, metric='euclidean') \n",
    "neigh_t_g.fit(X_train_tfidf_t_g)"
   ]
  },
  {
   "cell_type": "code",
   "execution_count": 18,
   "metadata": {},
   "outputs": [
    {
     "name": "stdout",
     "output_type": "stream",
     "text": [
      "(array([[0.        , 0.        , 0.        , 0.        , 0.38064277,\n",
      "        0.38064277, 0.41817673]]), array([[ 9044, 10055,  8987,  8767,  6808, 13440,  6703]], dtype=int64))\n",
      "[ 9044 10055  8987  8767  6808 13440  6703]\n"
     ]
    },
    {
     "data": {
      "text/html": [
       "<div>\n",
       "<style scoped>\n",
       "    .dataframe tbody tr th:only-of-type {\n",
       "        vertical-align: middle;\n",
       "    }\n",
       "\n",
       "    .dataframe tbody tr th {\n",
       "        vertical-align: top;\n",
       "    }\n",
       "\n",
       "    .dataframe thead th {\n",
       "        text-align: right;\n",
       "    }\n",
       "</style>\n",
       "<table border=\"1\" class=\"dataframe\">\n",
       "  <thead>\n",
       "    <tr style=\"text-align: right;\">\n",
       "      <th></th>\n",
       "      <th>movieId</th>\n",
       "      <th>title</th>\n",
       "      <th>genres</th>\n",
       "      <th>tags</th>\n",
       "    </tr>\n",
       "  </thead>\n",
       "  <tbody>\n",
       "  </tbody>\n",
       "</table>\n",
       "</div>"
      ],
      "text/plain": [
       "Empty DataFrame\n",
       "Columns: [movieId, title, genres, tags]\n",
       "Index: []"
      ]
     },
     "execution_count": 18,
     "metadata": {},
     "output_type": "execute_result"
    }
   ],
   "source": [
    "# Проверка на произвольных тэгах\n",
    "# test = change_string('pixar|pixar|fun')\n",
    "# Проверка на произвольных жанрах\n",
    "test = change_string('Crime|Mystery|Thriller|Comedy')\n",
    "\n",
    "predict = count_vect_t_g.transform([test])\n",
    "X_tfidf2 = tfidf_transformer_t_g.transform(predict)\n",
    "\n",
    "res = neigh_t_g.kneighbors(X_tfidf2, return_distance=True)\n",
    "print(res)\n",
    "print(res[1][0])\n",
    "# umdf.head()\n",
    "movies_df.loc[movies_df.movieId == res[1][0][0]]"
   ]
  },
  {
   "cell_type": "markdown",
   "metadata": {},
   "source": [
    "Как я понял задачу.  \n",
    "Нужно оценить рейтинг для фильмов из тестовой выборки двумя способами.\n",
    "\n",
    "1. по TFIDF жанра и тэгов (без относительно пользователей) построить оценку фильмам с помощью регрессии\n",
    "\n",
    "Задание \"построить рекомендации\" в этом случае трактуется так. \n",
    "Мы выдадим рейтинги фильмам, которые никто ранее не оценивал, по их тэгам и жанрам. \n",
    "Для этого берем ближайших соседей к каждому фильму, усредняем их рейтинг - это значение и задаем как оценку рейтинга.\n",
    "Пользователь (вне зависимости от предпочтений) получит эти новые фильмы отсортированные в порядке убывания сгенерированного рейтинга.\n",
    "То есть получит \"средние\" рекомендации.\n",
    "\n",
    "2. использовать для вычисления рейтинга (регрессией) средние оценки пользователя и фильма (а также, возможно, другие метрики)\n",
    "\n",
    "Задание \"построить рекомендации\" в этом случае трактуется так. \n",
    "Получается большой вектор со строками \"пользователь-фильм\" длины равной длине вектора ratings. На таком векторе мы должны обучить регрессию и для такого же тестового вектора предсказать оценки.\n",
    "В качестве фич можно использовать такие:\n",
    "* средняя оценка фильма\n",
    "* средняя оценка пользователя\n",
    "* средняя оценка фильмов этого жанра (всеми пользователями)\n",
    "* средняя оценка фильмов этого жанра (этим пользователем)\n",
    "* (под сомнением) средняя оценка этого фильма любителями этого жанра (любитель - пользователь оценивший больше фильмов этого жанра, чем другие пользователи в среднем) - не факт, что поможет, т.к. больше всего оценок генерил персонал сервиса, как было показано в материалах к лекции\n",
    "\n",
    "\n"
   ]
  },
  {
   "cell_type": "code",
   "execution_count": null,
   "metadata": {},
   "outputs": [],
   "source": []
  }
 ],
 "metadata": {
  "kernelspec": {
   "display_name": "Python 3",
   "language": "python",
   "name": "python3"
  },
  "language_info": {
   "codemirror_mode": {
    "name": "ipython",
    "version": 3
   },
   "file_extension": ".py",
   "mimetype": "text/x-python",
   "name": "python",
   "nbconvert_exporter": "python",
   "pygments_lexer": "ipython3",
   "version": "3.8.12"
  }
 },
 "nbformat": 4,
 "nbformat_minor": 4
}
