{
  "nbformat": 4,
  "nbformat_minor": 0,
  "metadata": {
    "kernelspec": {
      "display_name": "Python 3",
      "language": "python",
      "name": "python3"
    },
    "language_info": {
      "codemirror_mode": {
        "name": "ipython",
        "version": 3
      },
      "file_extension": ".py",
      "mimetype": "text/x-python",
      "name": "python",
      "nbconvert_exporter": "python",
      "pygments_lexer": "ipython3",
      "version": "3.7.3"
    },
    "latex_envs": {
      "LaTeX_envs_menu_present": true,
      "autoclose": false,
      "autocomplete": true,
      "bibliofile": "biblio.bib",
      "cite_by": "apalike",
      "current_citInitial": 1,
      "eqLabelWithNumbers": true,
      "eqNumInitial": 1,
      "hotkeys": {
        "equation": "Ctrl-E",
        "itemize": "Ctrl-I"
      },
      "labels_anchors": false,
      "latex_user_defs": false,
      "report_style_numbering": false,
      "user_envs_cfg": false
    },
    "toc": {
      "base_numbering": 1,
      "nav_menu": {},
      "number_sections": true,
      "sideBar": true,
      "skip_h1_title": false,
      "title_cell": "Table of Contents",
      "title_sidebar": "Contents",
      "toc_cell": false,
      "toc_position": {},
      "toc_section_display": true,
      "toc_window_display": false
    },
    "varInspector": {
      "cols": {
        "lenName": 16,
        "lenType": 16,
        "lenVar": 40
      },
      "kernels_config": {
        "python": {
          "delete_cmd_postfix": "",
          "delete_cmd_prefix": "del ",
          "library": "var_list.py",
          "varRefreshCmd": "print(var_dic_list())"
        },
        "r": {
          "delete_cmd_postfix": ") ",
          "delete_cmd_prefix": "rm(",
          "library": "var_list.r",
          "varRefreshCmd": "cat(var_dic_list()) "
        }
      },
      "types_to_exclude": [
        "module",
        "function",
        "builtin_function_or_method",
        "instance",
        "_Feature"
      ],
      "window_display": false
    },
    "colab": {
      "name": "Intro to NN 3 (hw)",
      "provenance": [],
      "collapsed_sections": []
    }
  },
  "cells": [
    {
      "cell_type": "markdown",
      "metadata": {
        "collapsed": true,
        "id": "h97RdWrNxjed"
      },
      "source": [
        "# Домашнее задание. Свёрточные сети\n",
        "\n",
        "Здесь вам предстоит построить и обучить свою первую свёрточную сеть для классификации изображений на данных CIFAR10. "
      ]
    },
    {
      "cell_type": "code",
      "metadata": {
        "id": "Bj5T_3dxxjee"
      },
      "source": [
        "import tensorflow as tf\n",
        "\n",
        "from tqdm import tqdm_notebook"
      ],
      "execution_count": 1,
      "outputs": []
    },
    {
      "cell_type": "markdown",
      "metadata": {
        "id": "8967u5Bzxjef"
      },
      "source": [
        "## Данные\n",
        "\n",
        "CIFAR10\n",
        "* 60000 RGB изображений размером 32x32x3\n",
        "* 10 классов: самолёты, собаки, рыбы и т.п.\n",
        "\n",
        "<img src=\"https://www.samyzaf.com/ML/cifar10/cifar1.jpg\" style=\"width:60%\">"
      ]
    },
    {
      "cell_type": "markdown",
      "metadata": {
        "id": "xFMGMCFrxjef"
      },
      "source": [
        "Загрузите данные, разделите их на обучающую и тестовую выборки. Размер тестовой выборки должен быть $10^4$."
      ]
    },
    {
      "cell_type": "code",
      "metadata": {
        "id": "bf04QwsBxjef",
        "colab": {
          "base_uri": "https://localhost:8080/"
        },
        "outputId": "8bb6ff1c-c3d0-4a20-9f36-28b6310a30dd"
      },
      "source": [
        "import numpy as np\n",
        "from keras.datasets import cifar10\n",
        "from sklearn.model_selection import train_test_split\n",
        "(X_train, y_train), (X_val, y_val) = cifar10.load_data()\n",
        "# X_train, X_val, y_train, y_val = train_test_split(X_train, y_train, test_size=10**4, random_state=42)\n",
        "\n",
        "class_names = np.array(['airplane','automobile ','bird ','cat ','deer ','dog ','frog ','horse ','ship ','truck'])\n",
        "\n",
        "print (X_train.shape,y_train.shape)"
      ],
      "execution_count": 2,
      "outputs": [
        {
          "output_type": "stream",
          "name": "stdout",
          "text": [
            "(50000, 32, 32, 3) (50000, 1)\n"
          ]
        }
      ]
    },
    {
      "cell_type": "markdown",
      "metadata": {
        "id": "_XS_kZF9xjeh"
      },
      "source": [
        "Прежде чем приступать к основной работе, стоит убедиться что загруженно именно то, что требовалось:"
      ]
    },
    {
      "cell_type": "code",
      "metadata": {
        "id": "1Sih-A1Dxjeh",
        "colab": {
          "base_uri": "https://localhost:8080/",
          "height": 593
        },
        "outputId": "e23e0a20-2266-4907-f99f-83620de44c1c"
      },
      "source": [
        "import matplotlib.pyplot as plt\n",
        "%matplotlib inline\n",
        "\n",
        "plt.figure(figsize=[12,10])\n",
        "for i in range(12):\n",
        "    plt.subplot(3, 4, i + 1)\n",
        "    plt.xlabel(class_names[y_train[i, 0]])\n",
        "    plt.imshow(X_train[i])"
      ],
      "execution_count": 3,
      "outputs": [
        {
          "output_type": "display_data",
          "data": {
            "image/png": "[encoded data removed]",
            "text/plain": [
              "<Figure size 864x720 with 12 Axes>"
            ]
          },
          "metadata": {
            "needs_background": "light"
          }
        }
      ]
    },
    {
      "cell_type": "markdown",
      "metadata": {
        "id": "2iXiYWbdxjei"
      },
      "source": [
        "## Подготовка данных\n",
        "\n",
        "Сейчас каждый пиксель изображения закодирован тройкой чисел (RGB) __от 0 до 255__. Однако лучше себя показывает подход, где значения входов нейросети распределены недалеко от 0.\n",
        "\n",
        "Давайте приведём все данные в диапазон __`[0, 1]`__ — просто разделим на соответствующий коэффициент:"
      ]
    },
    {
      "cell_type": "code",
      "metadata": {
        "id": "OhIwnVXdxjei"
      },
      "source": [
        "X_train = X_train / 255\n",
        "X_val = X_val / 255\n",
        "# X_test = X_test / 255"
      ],
      "execution_count": 4,
      "outputs": []
    },
    {
      "cell_type": "markdown",
      "metadata": {
        "id": "WSRXEBo9xjej"
      },
      "source": [
        "Исполните код ниже для проверки, что все выполнено корректно."
      ]
    },
    {
      "cell_type": "code",
      "metadata": {
        "id": "iZQD2dTpxjej"
      },
      "source": [
        "assert np.shape(X_train) == (50000, 32, 32, 3), \"data shape should not change\"\n",
        "assert 0.9 <= max(map(np.max, (X_train, X_val))) <= 1.05\n",
        "assert 0.0 <= min(map(np.min, (X_train, X_val))) <= 0.1\n",
        "assert len(np.unique(X_val / 255.)) > 10, \"make sure you casted data to float type\""
      ],
      "execution_count": 6,
      "outputs": []
    },
    {
      "cell_type": "markdown",
      "metadata": {
        "id": "qdztr8BHxjej"
      },
      "source": [
        "## Архитектура сети\n",
        "\n",
        "Для начала реализуйте простую нейросеть:\n",
        "1. принимает на вход картинки размера 32 x 32 x 3;\n",
        "2. вытягивает их в вектор (`keras.layers.Flatten`);\n",
        "3. пропускает через 1 или 2 полносвязных слоя;\n",
        "4. выходной слой отдает вероятности принадлежности к каждому из 10 классов."
      ]
    },
    {
      "cell_type": "markdown",
      "metadata": {
        "id": "E5VwlwV8xjek"
      },
      "source": [
        "Создайте полносвязную сеть:"
      ]
    },
    {
      "cell_type": "code",
      "metadata": {
        "id": "P0B2-vnExjek"
      },
      "source": [
        "import keras\n",
        "from keras import layers as L\n",
        "from keras import backend as K"
      ],
      "execution_count": 7,
      "outputs": []
    },
    {
      "cell_type": "code",
      "metadata": {
        "id": "7iVWfkypxjel"
      },
      "source": [
        "from tensorflow.keras import utils as np_utils\n",
        "y_train_cat, y_val_cat = (np_utils.to_categorical(y) for y in (y_train, y_val))"
      ],
      "execution_count": 8,
      "outputs": []
    },
    {
      "cell_type": "code",
      "metadata": {
        "id": "HJWEa2Go134q"
      },
      "source": [
        "# Версия 2 - с keras вместо tensorflow.keras\n",
        "K.clear_session()\n",
        "model =  keras.Sequential([\n",
        "    L.InputLayer(input_shape=(32, 32, 3)), # это, кажется, не обязательно - keras добавляет сам? https://www.tensorflow.org/api_docs/python/tf/keras/layers/InputLayer\n",
        "    L.Flatten(),\n",
        "    L.Dense(1024, activation=\"relu\", input_shape=X_train.shape[1:]),\n",
        "    L.Dense(128, activation='relu'), # relu отрицательных значений не дает - ничего? softmax для многоклассовой классификации\n",
        "    L.Dense(32, activation='relu'),\n",
        "    L.Dense(10, activation='softmax')]) # может попробовать без активации вообще - только выдача классов\n"
      ],
      "execution_count": 10,
      "outputs": []
    },
    {
      "cell_type": "code",
      "metadata": {
        "id": "Yg6VYd3qxjel",
        "colab": {
          "base_uri": "https://localhost:8080/"
        },
        "outputId": "4c71be21-f337-44ea-acef-9d04149fa0bd"
      },
      "source": [
        "dummy_pred = model.predict(X_train[:20])\n",
        "assert dummy_pred.shape == (20, 10)\n",
        "assert np.allclose(dummy_pred.sum(-1), 1)\n",
        "print(\"Успех!\")"
      ],
      "execution_count": 11,
      "outputs": [
        {
          "output_type": "stream",
          "name": "stdout",
          "text": [
            "Успех!\n"
          ]
        }
      ]
    },
    {
      "cell_type": "markdown",
      "metadata": {
        "id": "WGcAp1lexjel"
      },
      "source": [
        "## Обучение сети\n",
        "\n",
        "**Задание 1.1 (обязательно)** Будем минимизировать многоклассовую кроссэкнропию с помощью __sgd__. Вам нужно получить сеть, которая достигнет __не менее 45%__ __accuracy__ на тестовых данных.\n",
        "\n",
        "__Важно:__ поскольку в y_train лежат номера классов, Керасу нужно либо указать sparse функции потерь и метрики оценки качества классификации (`sparse_categorical_crossentropy` и `sparse_categorical_accuracy`), либо конвертировать метки в one-hot формат.\n",
        "\n",
        "### Полезные советы\n",
        "* `model.compile` позволяет указать, какие метрики вы хотите вычислять.\n",
        "* В `model.fit` можно передать валидационную выборку (`validation_data=[X_val, y_val]`), для отслеживания прогресса на ней. Также рекомендуем сохранять результаты в [tensorboard](https://keras.io/callbacks/#tensorboard) или [wandb](https://docs.wandb.ai/integrations/jupyter). **Важно: логи tensorboard не получится без боли посмотреть через colab.** Workaround: скачать логи и запустить tensorboard локально или помучаться [с этим](https://stackoverflow.com/questions/47818822/can-i-use-tensorboard-with-google-colab).\n",
        "* По умолчанию сеть учится 1 эпоху. Совсем не факт, что вам этого хватит. Число эпох можно настроить в методе `fit` (`epochs`).\n",
        "* Ещё у Кераса есть много [полезных callback-ов](https://keras.io/callbacks/), которые можно попробовать. Например, автоматическая остановка или подбор скорости обучения."
      ]
    },
    {
      "cell_type": "code",
      "metadata": {
        "id": "M5w_Zj5Sxjem"
      },
      "source": [
        "callbacks = []"
      ],
      "execution_count": 25,
      "outputs": []
    },
    {
      "cell_type": "code",
      "metadata": {
        "colab": {
          "base_uri": "https://localhost:8080/"
        },
        "id": "LOdFZ2L4X7BB",
        "outputId": "90166a2b-a267-4cba-99fa-3afe2cd1be18"
      },
      "source": [
        "model.compile(optimizer='adam',\n",
        "              loss='categorical_crossentropy',\n",
        "              metrics=['accuracy'])\n",
        "model.fit(X_train, \n",
        "          y_train_cat,\n",
        "          batch_size=32, \n",
        "          epochs=16,\n",
        "          validation_split=0.2,\n",
        "          validation_data=[X_val, y_val_cat])"
      ],
      "execution_count": 12,
      "outputs": [
        {
          "output_type": "stream",
          "name": "stdout",
          "text": [
            "Epoch 1/16\n",
            "1250/1250 [==============================] - 29s 23ms/step - loss: 2.3060 - accuracy: 0.0995 - val_loss: 2.3026 - val_accuracy: 0.0977\n",
            "Epoch 2/16\n",
            "1250/1250 [==============================] - 28s 23ms/step - loss: 2.3028 - accuracy: 0.0992 - val_loss: 2.3028 - val_accuracy: 0.0952\n",
            "Epoch 3/16\n",
            "1250/1250 [==============================] - 29s 23ms/step - loss: 2.3028 - accuracy: 0.0986 - val_loss: 2.3028 - val_accuracy: 0.0952\n",
            "Epoch 4/16\n",
            "1250/1250 [==============================] - 28s 23ms/step - loss: 2.3028 - accuracy: 0.0986 - val_loss: 2.3026 - val_accuracy: 0.1014\n",
            "Epoch 5/16\n",
            "1250/1250 [==============================] - 29s 23ms/step - loss: 2.3028 - accuracy: 0.0972 - val_loss: 2.3027 - val_accuracy: 0.0977\n",
            "Epoch 6/16\n",
            "1250/1250 [==============================] - 28s 23ms/step - loss: 2.3027 - accuracy: 0.0979 - val_loss: 2.3029 - val_accuracy: 0.0952\n",
            "Epoch 7/16\n",
            "1250/1250 [==============================] - 29s 23ms/step - loss: 2.3028 - accuracy: 0.0995 - val_loss: 2.3027 - val_accuracy: 0.0952\n",
            "Epoch 8/16\n",
            "1250/1250 [==============================] - 29s 23ms/step - loss: 2.3027 - accuracy: 0.0982 - val_loss: 2.3027 - val_accuracy: 0.0952\n",
            "Epoch 9/16\n",
            "1250/1250 [==============================] - 29s 23ms/step - loss: 2.3028 - accuracy: 0.0975 - val_loss: 2.3027 - val_accuracy: 0.1014\n",
            "Epoch 10/16\n",
            "1250/1250 [==============================] - 29s 23ms/step - loss: 2.3028 - accuracy: 0.0997 - val_loss: 2.3027 - val_accuracy: 0.1003\n",
            "Epoch 11/16\n",
            "1250/1250 [==============================] - 29s 23ms/step - loss: 2.3028 - accuracy: 0.0967 - val_loss: 2.3028 - val_accuracy: 0.0997\n",
            "Epoch 12/16\n",
            "1250/1250 [==============================] - 29s 23ms/step - loss: 2.3028 - accuracy: 0.0979 - val_loss: 2.3029 - val_accuracy: 0.0952\n",
            "Epoch 13/16\n",
            "1250/1250 [==============================] - 29s 24ms/step - loss: 2.3027 - accuracy: 0.0996 - val_loss: 2.3028 - val_accuracy: 0.0997\n",
            "Epoch 14/16\n",
            "1250/1250 [==============================] - 30s 24ms/step - loss: 2.3028 - accuracy: 0.0967 - val_loss: 2.3029 - val_accuracy: 0.0952\n",
            "Epoch 15/16\n",
            "1250/1250 [==============================] - 30s 24ms/step - loss: 2.3028 - accuracy: 0.0973 - val_loss: 2.3027 - val_accuracy: 0.0952\n",
            "Epoch 16/16\n",
            "1250/1250 [==============================] - 30s 24ms/step - loss: 2.3028 - accuracy: 0.0983 - val_loss: 2.3029 - val_accuracy: 0.0952\n"
          ]
        },
        {
          "output_type": "execute_result",
          "data": {
            "text/plain": [
              "<keras.callbacks.History at 0x7f7cbce4c8d0>"
            ]
          },
          "metadata": {},
          "execution_count": 12
        }
      ]
    },
    {
      "cell_type": "markdown",
      "metadata": {
        "id": "ZODNxMaQxjem"
      },
      "source": [
        "А теперь можно проверить качество вашей сети, выполнив код ниже:"
      ]
    },
    {
      "cell_type": "code",
      "metadata": {
        "scrolled": true,
        "id": "14l7JHe_xjem",
        "colab": {
          "base_uri": "https://localhost:8080/",
          "height": 246
        },
        "outputId": "cafe5db3-466e-43d6-d798-7ef861bc73e5"
      },
      "source": [
        "from sklearn.metrics import accuracy_score, classification_report\n",
        "y_pred_labels = np.argmax(model.predict(X_val),axis=1)\n",
        "test_acc = accuracy_score(y_val, y_pred_labels)\n",
        "print(\"\\n Test_acc =\", test_acc)\n",
        "assert test_acc > 0.45, \"Not good enough. Back to the drawing board :)\"\n",
        "print(\" Not bad!\")"
      ],
      "execution_count": 14,
      "outputs": [
        {
          "output_type": "stream",
          "name": "stdout",
          "text": [
            "\n",
            " Test_acc = 0.1\n"
          ]
        },
        {
          "output_type": "error",
          "ename": "AssertionError",
          "evalue": "ignored",
          "traceback": [
            "\u001b[0;31m---------------------------------------------------------------------------\u001b[0m",
            "\u001b[0;31mAssertionError\u001b[0m                            Traceback (most recent call last)",
            "\u001b[0;32m<ipython-input-14-d6be31f0e9cb>\u001b[0m in \u001b[0;36m<module>\u001b[0;34m()\u001b[0m\n\u001b[1;32m      3\u001b[0m \u001b[0mtest_acc\u001b[0m \u001b[0;34m=\u001b[0m \u001b[0maccuracy_score\u001b[0m\u001b[0;34m(\u001b[0m\u001b[0my_val\u001b[0m\u001b[0;34m,\u001b[0m \u001b[0my_pred_labels\u001b[0m\u001b[0;34m)\u001b[0m\u001b[0;34m\u001b[0m\u001b[0;34m\u001b[0m\u001b[0m\n\u001b[1;32m      4\u001b[0m \u001b[0mprint\u001b[0m\u001b[0;34m(\u001b[0m\u001b[0;34m\"\\n Test_acc =\"\u001b[0m\u001b[0;34m,\u001b[0m \u001b[0mtest_acc\u001b[0m\u001b[0;34m)\u001b[0m\u001b[0;34m\u001b[0m\u001b[0;34m\u001b[0m\u001b[0m\n\u001b[0;32m----> 5\u001b[0;31m \u001b[0;32massert\u001b[0m \u001b[0mtest_acc\u001b[0m \u001b[0;34m>\u001b[0m \u001b[0;36m0.45\u001b[0m\u001b[0;34m,\u001b[0m \u001b[0;34m\"Not good enough. Back to the drawing board :)\"\u001b[0m\u001b[0;34m\u001b[0m\u001b[0;34m\u001b[0m\u001b[0m\n\u001b[0m\u001b[1;32m      6\u001b[0m \u001b[0mprint\u001b[0m\u001b[0;34m(\u001b[0m\u001b[0;34m\" Not bad!\"\u001b[0m\u001b[0;34m)\u001b[0m\u001b[0;34m\u001b[0m\u001b[0;34m\u001b[0m\u001b[0m\n",
            "\u001b[0;31mAssertionError\u001b[0m: Not good enough. Back to the drawing board :)"
          ]
        }
      ]
    },
    {
      "cell_type": "code",
      "metadata": {
        "id": "sdEDKrQUPmBP",
        "colab": {
          "base_uri": "https://localhost:8080/"
        },
        "outputId": "10ef3f48-35b7-4ef6-da2e-c7599563304c"
      },
      "source": [
        "print(classification_report(y_val, y_pred_labels))"
      ],
      "execution_count": null,
      "outputs": [
        {
          "output_type": "stream",
          "name": "stdout",
          "text": [
            "              precision    recall  f1-score   support\n",
            "\n",
            "           0       0.09      0.09      0.09       973\n",
            "           1       0.11      0.08      0.09       979\n",
            "           2       0.11      0.09      0.10      1030\n",
            "           3       0.10      0.07      0.08      1023\n",
            "           4       0.08      0.13      0.10       933\n",
            "           5       0.11      0.10      0.10      1015\n",
            "           6       0.10      0.13      0.11       996\n",
            "           7       0.11      0.15      0.12       994\n",
            "           8       0.11      0.08      0.09      1017\n",
            "           9       0.11      0.10      0.11      1040\n",
            "\n",
            "    accuracy                           0.10     10000\n",
            "   macro avg       0.10      0.10      0.10     10000\n",
            "weighted avg       0.10      0.10      0.10     10000\n",
            "\n"
          ]
        }
      ]
    },
    {
      "cell_type": "code",
      "metadata": {
        "id": "Fcxq-01DNeVV"
      },
      "source": [
        "# Дополнительные проверки логики вычисления accuraсy\n",
        "np.mean(np.equal(np.transpose(y_val)[0], np.argmax(model.predict(X_test),axis=1))) # тоже самое, но в явном виде\n",
        "# np.transpose(y_val)[0][:10]\n",
        "# np.argmax(model.predict(X_test), axis=-1)[:10]\n",
        "# model.predict(X_test)[:10]"
      ],
      "execution_count": null,
      "outputs": []
    }
  ]
}