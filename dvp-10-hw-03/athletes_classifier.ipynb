{
 "cells": [
  {
   "cell_type": "markdown",
   "metadata": {},
   "source": [
    "### Угадываем признак"
   ]
  },
  {
   "cell_type": "code",
   "execution_count": 7,
   "metadata": {},
   "outputs": [],
   "source": [
    "import pandas as pd\n",
    "import numpy as np"
   ]
  },
  {
   "cell_type": "code",
   "execution_count": 8,
   "metadata": {},
   "outputs": [
    {
     "output_type": "execute_result",
     "data": {
      "text/plain": [
       "          id            name nationality     sex       dob  height  weight  \\\n",
       "0  736041664  A Jesus Garcia         ESP    male  10/17/69    1.72    64.0   \n",
       "1  532037425      A Lam Shin         KOR  female   9/23/86    1.68    56.0   \n",
       "2  435962603     Aaron Brown         CAN    male   5/27/92    1.98    79.0   \n",
       "3  521041435      Aaron Cook         MDA    male    1/2/91    1.83    80.0   \n",
       "4   33922579      Aaron Gate         NZL    male  11/26/90    1.81    71.0   \n",
       "\n",
       "       sport  gold  silver  bronze  \n",
       "0  athletics     0       0       0  \n",
       "1    fencing     0       0       0  \n",
       "2  athletics     0       0       1  \n",
       "3  taekwondo     0       0       0  \n",
       "4    cycling     0       0       0  "
      ],
      "text/html": "<div>\n<style scoped>\n    .dataframe tbody tr th:only-of-type {\n        vertical-align: middle;\n    }\n\n    .dataframe tbody tr th {\n        vertical-align: top;\n    }\n\n    .dataframe thead th {\n        text-align: right;\n    }\n</style>\n<table border=\"1\" class=\"dataframe\">\n  <thead>\n    <tr style=\"text-align: right;\">\n      <th></th>\n      <th>id</th>\n      <th>name</th>\n      <th>nationality</th>\n      <th>sex</th>\n      <th>dob</th>\n      <th>height</th>\n      <th>weight</th>\n      <th>sport</th>\n      <th>gold</th>\n      <th>silver</th>\n      <th>bronze</th>\n    </tr>\n  </thead>\n  <tbody>\n    <tr>\n      <th>0</th>\n      <td>736041664</td>\n      <td>A Jesus Garcia</td>\n      <td>ESP</td>\n      <td>male</td>\n      <td>10/17/69</td>\n      <td>1.72</td>\n      <td>64.0</td>\n      <td>athletics</td>\n      <td>0</td>\n      <td>0</td>\n      <td>0</td>\n    </tr>\n    <tr>\n      <th>1</th>\n      <td>532037425</td>\n      <td>A Lam Shin</td>\n      <td>KOR</td>\n      <td>female</td>\n      <td>9/23/86</td>\n      <td>1.68</td>\n      <td>56.0</td>\n      <td>fencing</td>\n      <td>0</td>\n      <td>0</td>\n      <td>0</td>\n    </tr>\n    <tr>\n      <th>2</th>\n      <td>435962603</td>\n      <td>Aaron Brown</td>\n      <td>CAN</td>\n      <td>male</td>\n      <td>5/27/92</td>\n      <td>1.98</td>\n      <td>79.0</td>\n      <td>athletics</td>\n      <td>0</td>\n      <td>0</td>\n      <td>1</td>\n    </tr>\n    <tr>\n      <th>3</th>\n      <td>521041435</td>\n      <td>Aaron Cook</td>\n      <td>MDA</td>\n      <td>male</td>\n      <td>1/2/91</td>\n      <td>1.83</td>\n      <td>80.0</td>\n      <td>taekwondo</td>\n      <td>0</td>\n      <td>0</td>\n      <td>0</td>\n    </tr>\n    <tr>\n      <th>4</th>\n      <td>33922579</td>\n      <td>Aaron Gate</td>\n      <td>NZL</td>\n      <td>male</td>\n      <td>11/26/90</td>\n      <td>1.81</td>\n      <td>71.0</td>\n      <td>cycling</td>\n      <td>0</td>\n      <td>0</td>\n      <td>0</td>\n    </tr>\n  </tbody>\n</table>\n</div>"
     },
     "metadata": {},
     "execution_count": 8
    }
   ],
   "source": [
    "data = pd.read_csv('athletes.csv')\n",
    "data.head()"
   ]
  },
  {
   "cell_type": "code",
   "execution_count": 9,
   "metadata": {},
   "outputs": [
    {
     "output_type": "stream",
     "name": "stdout",
     "text": [
      "<class 'pandas.core.frame.DataFrame'>\nRangeIndex: 11538 entries, 0 to 11537\nData columns (total 11 columns):\n #   Column       Non-Null Count  Dtype  \n---  ------       --------------  -----  \n 0   id           11538 non-null  int64  \n 1   name         11538 non-null  object \n 2   nationality  11538 non-null  object \n 3   sex          11538 non-null  object \n 4   dob          11537 non-null  object \n 5   height       11208 non-null  float64\n 6   weight       10879 non-null  float64\n 7   sport        11538 non-null  object \n 8   gold         11538 non-null  int64  \n 9   silver       11538 non-null  int64  \n 10  bronze       11538 non-null  int64  \ndtypes: float64(2), int64(4), object(5)\nmemory usage: 991.7+ KB\n"
     ]
    }
   ],
   "source": [
    "data.info()"
   ]
  },
  {
   "cell_type": "markdown",
   "metadata": {},
   "source": [
    "Посмотрим много ли в наших признаках пустых значений"
   ]
  },
  {
   "cell_type": "code",
   "execution_count": 10,
   "metadata": {},
   "outputs": [
    {
     "output_type": "execute_result",
     "data": {
      "text/plain": [
       "           id                name nationality   sex       dob  height  weight  \\\n",
       "12  258556239          Abbas Qali         IOA  male  10/11/92     NaN     NaN   \n",
       "47  469953606  Abdoullah Bamoussa         ITA  male    6/8/86     NaN     NaN   \n",
       "50  325809293          Abdul Omar         GHA  male   10/3/93     NaN     NaN   \n",
       "52  262868423  Abdulaziz Alshatti         IOA  male  10/30/90     NaN     NaN   \n",
       "56  897549624   Abdullah Hel Baki         BAN  male    8/1/89     NaN     NaN   \n",
       "\n",
       "        sport  gold  silver  bronze  \n",
       "12   aquatics     0       0       0  \n",
       "47  athletics     0       0       0  \n",
       "50     boxing     0       0       0  \n",
       "52    fencing     0       0       0  \n",
       "56   shooting     0       0       0  "
      ],
      "text/html": "<div>\n<style scoped>\n    .dataframe tbody tr th:only-of-type {\n        vertical-align: middle;\n    }\n\n    .dataframe tbody tr th {\n        vertical-align: top;\n    }\n\n    .dataframe thead th {\n        text-align: right;\n    }\n</style>\n<table border=\"1\" class=\"dataframe\">\n  <thead>\n    <tr style=\"text-align: right;\">\n      <th></th>\n      <th>id</th>\n      <th>name</th>\n      <th>nationality</th>\n      <th>sex</th>\n      <th>dob</th>\n      <th>height</th>\n      <th>weight</th>\n      <th>sport</th>\n      <th>gold</th>\n      <th>silver</th>\n      <th>bronze</th>\n    </tr>\n  </thead>\n  <tbody>\n    <tr>\n      <th>12</th>\n      <td>258556239</td>\n      <td>Abbas Qali</td>\n      <td>IOA</td>\n      <td>male</td>\n      <td>10/11/92</td>\n      <td>NaN</td>\n      <td>NaN</td>\n      <td>aquatics</td>\n      <td>0</td>\n      <td>0</td>\n      <td>0</td>\n    </tr>\n    <tr>\n      <th>47</th>\n      <td>469953606</td>\n      <td>Abdoullah Bamoussa</td>\n      <td>ITA</td>\n      <td>male</td>\n      <td>6/8/86</td>\n      <td>NaN</td>\n      <td>NaN</td>\n      <td>athletics</td>\n      <td>0</td>\n      <td>0</td>\n      <td>0</td>\n    </tr>\n    <tr>\n      <th>50</th>\n      <td>325809293</td>\n      <td>Abdul Omar</td>\n      <td>GHA</td>\n      <td>male</td>\n      <td>10/3/93</td>\n      <td>NaN</td>\n      <td>NaN</td>\n      <td>boxing</td>\n      <td>0</td>\n      <td>0</td>\n      <td>0</td>\n    </tr>\n    <tr>\n      <th>52</th>\n      <td>262868423</td>\n      <td>Abdulaziz Alshatti</td>\n      <td>IOA</td>\n      <td>male</td>\n      <td>10/30/90</td>\n      <td>NaN</td>\n      <td>NaN</td>\n      <td>fencing</td>\n      <td>0</td>\n      <td>0</td>\n      <td>0</td>\n    </tr>\n    <tr>\n      <th>56</th>\n      <td>897549624</td>\n      <td>Abdullah Hel Baki</td>\n      <td>BAN</td>\n      <td>male</td>\n      <td>8/1/89</td>\n      <td>NaN</td>\n      <td>NaN</td>\n      <td>shooting</td>\n      <td>0</td>\n      <td>0</td>\n      <td>0</td>\n    </tr>\n  </tbody>\n</table>\n</div>"
     },
     "metadata": {},
     "execution_count": 10
    }
   ],
   "source": [
    "data[ pd.isnull( data['height'] ) ].head()"
   ]
  },
  {
   "cell_type": "code",
   "execution_count": 11,
   "metadata": {},
   "outputs": [
    {
     "output_type": "stream",
     "name": "stdout",
     "text": [
      "Для height пустых строк 330\nДля weight пустых строк 659\nДля sport пустых строк 0\nВсего строк в наборе 11538\n"
     ]
    }
   ],
   "source": [
    "print('Для height пустых строк ' + str( len( data[ pd.isnull( data['height'] ) ] ) ))\n",
    "print('Для weight пустых строк ' + str( len( data[ pd.isnull( data['weight'] ) ] ) ))\n",
    "print('Для sport пустых строк ' + str( len( data[ pd.isnull( data['sport'] ) ] ) ))\n",
    "print('Всего строк в наборе ' + str( len( data ) ))"
   ]
  },
  {
   "cell_type": "code",
   "execution_count": 12,
   "metadata": {},
   "outputs": [
    {
     "output_type": "execute_result",
     "data": {
      "text/plain": [
       "array([1.72, 1.68, 1.98, 1.83, 1.81, 1.8 , 2.05, 1.93, 1.65, 1.7 , 1.75,\n",
       "        nan, 1.61, 1.78, 1.76, 2.1 , 1.73, 1.85, 1.77, 1.9 , 1.86, 1.74,\n",
       "       1.6 , 2.07, 1.88, 1.66, 1.62, 1.87, 2.03, 1.69, 1.82, 1.89, 1.94,\n",
       "       1.95, 1.71, 1.84, 1.91, 1.67, 2.02, 1.58, 1.63, 1.79, 1.97, 1.56,\n",
       "       1.55, 1.57, 1.46, 1.92, 1.64, 1.53, 1.99, 1.96, 2.  , 2.04, 1.47,\n",
       "       1.52, 2.01, 1.51, 1.59, 2.08, 1.37, 1.5 , 1.45, 2.06, 1.54, 2.11,\n",
       "       1.43, 1.49, 1.33, 1.48, 1.44, 2.13, 2.09, 2.21, 2.18, 1.21, 1.38,\n",
       "       1.34, 2.15, 2.17, 1.42, 1.4 , 2.14])"
      ]
     },
     "metadata": {},
     "execution_count": 12
    }
   ],
   "source": [
    "data['height'].unique()"
   ]
  },
  {
   "cell_type": "code",
   "execution_count": 13,
   "metadata": {},
   "outputs": [],
   "source": [
    "data = data[ pd.isnull( data['height'] ) == 0 ]\n",
    "data = data[ pd.isnull( data['weight'] ) == 0 ]"
   ]
  },
  {
   "cell_type": "code",
   "execution_count": 14,
   "metadata": {},
   "outputs": [
    {
     "output_type": "stream",
     "name": "stdout",
     "text": [
      "<class 'pandas.core.frame.DataFrame'>\nInt64Index: 10858 entries, 0 to 11537\nData columns (total 11 columns):\n #   Column       Non-Null Count  Dtype  \n---  ------       --------------  -----  \n 0   id           10858 non-null  int64  \n 1   name         10858 non-null  object \n 2   nationality  10858 non-null  object \n 3   sex          10858 non-null  object \n 4   dob          10858 non-null  object \n 5   height       10858 non-null  float64\n 6   weight       10858 non-null  float64\n 7   sport        10858 non-null  object \n 8   gold         10858 non-null  int64  \n 9   silver       10858 non-null  int64  \n 10  bronze       10858 non-null  int64  \ndtypes: float64(2), int64(4), object(5)\nmemory usage: 1017.9+ KB\n"
     ]
    }
   ],
   "source": [
    "data.info()"
   ]
  },
  {
   "cell_type": "code",
   "execution_count": 15,
   "metadata": {},
   "outputs": [],
   "source": [
    "from sklearn.linear_model import LogisticRegression\n",
    "from sklearn.model_selection import train_test_split"
   ]
  },
  {
   "cell_type": "markdown",
   "metadata": {},
   "source": [
    "### Строим модель"
   ]
  },
  {
   "cell_type": "code",
   "execution_count": 16,
   "metadata": {},
   "outputs": [
    {
     "output_type": "execute_result",
     "data": {
      "text/plain": [
       "          id            name nationality       dob  height  weight      sport  \\\n",
       "0  736041664  A Jesus Garcia         ESP  10/17/69    1.72    64.0  athletics   \n",
       "1  532037425      A Lam Shin         KOR   9/23/86    1.68    56.0    fencing   \n",
       "2  435962603     Aaron Brown         CAN   5/27/92    1.98    79.0  athletics   \n",
       "\n",
       "   gold  silver  bronze  \n",
       "0     0       0       0  \n",
       "1     0       0       0  \n",
       "2     0       0       1  "
      ],
      "text/html": "<div>\n<style scoped>\n    .dataframe tbody tr th:only-of-type {\n        vertical-align: middle;\n    }\n\n    .dataframe tbody tr th {\n        vertical-align: top;\n    }\n\n    .dataframe thead th {\n        text-align: right;\n    }\n</style>\n<table border=\"1\" class=\"dataframe\">\n  <thead>\n    <tr style=\"text-align: right;\">\n      <th></th>\n      <th>id</th>\n      <th>name</th>\n      <th>nationality</th>\n      <th>dob</th>\n      <th>height</th>\n      <th>weight</th>\n      <th>sport</th>\n      <th>gold</th>\n      <th>silver</th>\n      <th>bronze</th>\n    </tr>\n  </thead>\n  <tbody>\n    <tr>\n      <th>0</th>\n      <td>736041664</td>\n      <td>A Jesus Garcia</td>\n      <td>ESP</td>\n      <td>10/17/69</td>\n      <td>1.72</td>\n      <td>64.0</td>\n      <td>athletics</td>\n      <td>0</td>\n      <td>0</td>\n      <td>0</td>\n    </tr>\n    <tr>\n      <th>1</th>\n      <td>532037425</td>\n      <td>A Lam Shin</td>\n      <td>KOR</td>\n      <td>9/23/86</td>\n      <td>1.68</td>\n      <td>56.0</td>\n      <td>fencing</td>\n      <td>0</td>\n      <td>0</td>\n      <td>0</td>\n    </tr>\n    <tr>\n      <th>2</th>\n      <td>435962603</td>\n      <td>Aaron Brown</td>\n      <td>CAN</td>\n      <td>5/27/92</td>\n      <td>1.98</td>\n      <td>79.0</td>\n      <td>athletics</td>\n      <td>0</td>\n      <td>0</td>\n      <td>1</td>\n    </tr>\n  </tbody>\n</table>\n</div>"
     },
     "metadata": {},
     "execution_count": 16
    }
   ],
   "source": [
    "features_columns = [c for c in data.columns if c != 'sex']\n",
    "X = data[features_columns]\n",
    "X.head(3)"
   ]
  },
  {
   "cell_type": "code",
   "execution_count": 17,
   "metadata": {},
   "outputs": [],
   "source": [
    "y = data['sex']"
   ]
  },
  {
   "cell_type": "code",
   "execution_count": 18,
   "metadata": {},
   "outputs": [],
   "source": [
    "from sklearn.preprocessing import LabelEncoder, OneHotEncoder\n",
    "le = LabelEncoder()\n",
    "ohe = OneHotEncoder()"
   ]
  },
  {
   "cell_type": "code",
   "execution_count": 19,
   "metadata": {},
   "outputs": [],
   "source": [
    "ft = ohe.fit_transform(data[['nationality', 'height', 'weight', 'sport', 'gold', 'silver', 'bronze']])"
   ]
  },
  {
   "cell_type": "code",
   "execution_count": 20,
   "metadata": {},
   "outputs": [
    {
     "output_type": "execute_result",
     "data": {
      "text/plain": [
       "   height  weight  gold  silver  bronze\n",
       "0    1.72    64.0     0       0       0\n",
       "1    1.68    56.0     0       0       0\n",
       "2    1.98    79.0     0       0       1\n",
       "3    1.83    80.0     0       0       0"
      ],
      "text/html": "<div>\n<style scoped>\n    .dataframe tbody tr th:only-of-type {\n        vertical-align: middle;\n    }\n\n    .dataframe tbody tr th {\n        vertical-align: top;\n    }\n\n    .dataframe thead th {\n        text-align: right;\n    }\n</style>\n<table border=\"1\" class=\"dataframe\">\n  <thead>\n    <tr style=\"text-align: right;\">\n      <th></th>\n      <th>height</th>\n      <th>weight</th>\n      <th>gold</th>\n      <th>silver</th>\n      <th>bronze</th>\n    </tr>\n  </thead>\n  <tbody>\n    <tr>\n      <th>0</th>\n      <td>1.72</td>\n      <td>64.0</td>\n      <td>0</td>\n      <td>0</td>\n      <td>0</td>\n    </tr>\n    <tr>\n      <th>1</th>\n      <td>1.68</td>\n      <td>56.0</td>\n      <td>0</td>\n      <td>0</td>\n      <td>0</td>\n    </tr>\n    <tr>\n      <th>2</th>\n      <td>1.98</td>\n      <td>79.0</td>\n      <td>0</td>\n      <td>0</td>\n      <td>1</td>\n    </tr>\n    <tr>\n      <th>3</th>\n      <td>1.83</td>\n      <td>80.0</td>\n      <td>0</td>\n      <td>0</td>\n      <td>0</td>\n    </tr>\n  </tbody>\n</table>\n</div>"
     },
     "metadata": {},
     "execution_count": 20
    }
   ],
   "source": [
    "X = data[['height', 'weight', 'gold', 'silver', 'bronze']]\n",
    "X.head(4)"
   ]
  },
  {
   "cell_type": "code",
   "execution_count": 21,
   "metadata": {},
   "outputs": [
    {
     "output_type": "execute_result",
     "data": {
      "text/plain": [
       "LabelEncoder()"
      ]
     },
     "metadata": {},
     "execution_count": 21
    }
   ],
   "source": [
    "le.fit( data['sex'] )"
   ]
  },
  {
   "cell_type": "code",
   "execution_count": 22,
   "metadata": {},
   "outputs": [
    {
     "output_type": "execute_result",
     "data": {
      "text/plain": [
       "0    1\n",
       "1    0\n",
       "2    1\n",
       "3    1\n",
       "4    1\n",
       "dtype: int32"
      ]
     },
     "metadata": {},
     "execution_count": 22
    }
   ],
   "source": [
    "y = pd.Series( data = le.transform( data['sex'] ) )\n",
    "y.head()"
   ]
  },
  {
   "cell_type": "code",
   "execution_count": 23,
   "metadata": {},
   "outputs": [],
   "source": [
    "model = LogisticRegression()"
   ]
  },
  {
   "cell_type": "code",
   "execution_count": 24,
   "metadata": {},
   "outputs": [],
   "source": [
    "X_train, X_test, y_train, y_test = train_test_split(X, y, test_size=0.3)"
   ]
  },
  {
   "cell_type": "code",
   "execution_count": 25,
   "metadata": {},
   "outputs": [
    {
     "output_type": "execute_result",
     "data": {
      "text/plain": [
       "LogisticRegression()"
      ]
     },
     "metadata": {},
     "execution_count": 25
    }
   ],
   "source": [
    "model.fit(X_train, y_train)"
   ]
  },
  {
   "cell_type": "code",
   "execution_count": 26,
   "metadata": {},
   "outputs": [],
   "source": [
    "from sklearn.metrics import roc_curve"
   ]
  },
  {
   "cell_type": "code",
   "execution_count": 27,
   "metadata": {},
   "outputs": [],
   "source": [
    "predictions = model.predict_proba(X_test)"
   ]
  },
  {
   "cell_type": "code",
   "execution_count": 28,
   "metadata": {},
   "outputs": [],
   "source": [
    "fpr, tpr, thres = roc_curve( y_test, predictions[:, 1])"
   ]
  },
  {
   "cell_type": "code",
   "execution_count": 29,
   "metadata": {},
   "outputs": [],
   "source": [
    "from matplotlib import pyplot as plt"
   ]
  },
  {
   "cell_type": "code",
   "execution_count": 30,
   "metadata": {},
   "outputs": [
    {
     "output_type": "execute_result",
     "data": {
      "text/plain": [
       "[<matplotlib.lines.Line2D at 0xca7d1c0>]"
      ]
     },
     "metadata": {},
     "execution_count": 30
    },
    {
     "output_type": "display_data",
     "data": {
      "text/plain": "<Figure size 432x288 with 1 Axes>",
      "image/svg+xml": "<?xml version=\"1.0\" encoding=\"utf-8\" standalone=\"no\"?>\r\n<!DOCTYPE svg PUBLIC \"-//W3C//DTD SVG 1.1//EN\"\r\n  \"http://www.w3.org/Graphics/SVG/1.1/DTD/svg11.dtd\">\r\n<!-- Created with matplotlib (https://matplotlib.org/) -->\r\n<svg height=\"248.518125pt\" version=\"1.1\" viewBox=\"0 0 372.103125 248.518125\" width=\"372.103125pt\" xmlns=\"http://www.w3.org/2000/svg\" xmlns:xlink=\"http://www.w3.org/1999/xlink\">\r\n <metadata>\r\n  <rdf:RDF xmlns:cc=\"http://creativecommons.org/ns#\" xmlns:dc=\"http://purl.org/dc/elements/1.1/\" xmlns:rdf=\"http://www.w3.org/1999/02/22-rdf-syntax-ns#\">\r\n   <cc:Work>\r\n    <dc:type rdf:resource=\"http://purl.org/dc/dcmitype/StillImage\"/>\r\n    <dc:date>2021-01-18T16:09:42.982240</dc:date>\r\n    <dc:format>image/svg+xml</dc:format>\r\n    <dc:creator>\r\n     <cc:Agent>\r\n      <dc:title>Matplotlib v3.3.2, https://matplotlib.org/</dc:title>\r\n     </cc:Agent>\r\n    </dc:creator>\r\n   </cc:Work>\r\n  </rdf:RDF>\r\n </metadata>\r\n <defs>\r\n  <style type=\"text/css\">*{stroke-linecap:butt;stroke-linejoin:round;}</style>\r\n </defs>\r\n <g id=\"figure_1\">\r\n  <g id=\"patch_1\">\r\n   <path d=\"M 0 248.518125 \r\nL 372.103125 248.518125 \r\nL 372.103125 0 \r\nL 0 0 \r\nz\r\n\" style=\"fill:none;\"/>\r\n  </g>\r\n  <g id=\"axes_1\">\r\n   <g id=\"patch_2\">\r\n    <path d=\"M 30.103125 224.64 \r\nL 364.903125 224.64 \r\nL 364.903125 7.2 \r\nL 30.103125 7.2 \r\nz\r\n\" style=\"fill:#ffffff;\"/>\r\n   </g>\r\n   <g id=\"matplotlib.axis_1\">\r\n    <g id=\"xtick_1\">\r\n     <g id=\"line2d_1\">\r\n      <defs>\r\n       <path d=\"M 0 0 \r\nL 0 3.5 \r\n\" id=\"maa3127c2df\" style=\"stroke:#000000;stroke-width:0.8;\"/>\r\n      </defs>\r\n      <g>\r\n       <use style=\"stroke:#000000;stroke-width:0.8;\" x=\"45.321307\" xlink:href=\"#maa3127c2df\" y=\"224.64\"/>\r\n      </g>\r\n     </g>\r\n     <g id=\"text_1\">\r\n      <!-- 0.0 -->\r\n      <g transform=\"translate(37.369744 239.238437)scale(0.1 -0.1)\">\r\n       <defs>\r\n        <path d=\"M 31.78125 66.40625 \r\nQ 24.171875 66.40625 20.328125 58.90625 \r\nQ 16.5 51.421875 16.5 36.375 \r\nQ 16.5 21.390625 20.328125 13.890625 \r\nQ 24.171875 6.390625 31.78125 6.390625 \r\nQ 39.453125 6.390625 43.28125 13.890625 \r\nQ 47.125 21.390625 47.125 36.375 \r\nQ 47.125 51.421875 43.28125 58.90625 \r\nQ 39.453125 66.40625 31.78125 66.40625 \r\nz\r\nM 31.78125 74.21875 \r\nQ 44.046875 74.21875 50.515625 64.515625 \r\nQ 56.984375 54.828125 56.984375 36.375 \r\nQ 56.984375 17.96875 50.515625 8.265625 \r\nQ 44.046875 -1.421875 31.78125 -1.421875 \r\nQ 19.53125 -1.421875 13.0625 8.265625 \r\nQ 6.59375 17.96875 6.59375 36.375 \r\nQ 6.59375 54.828125 13.0625 64.515625 \r\nQ 19.53125 74.21875 31.78125 74.21875 \r\nz\r\n\" id=\"DejaVuSans-48\"/>\r\n        <path d=\"M 10.6875 12.40625 \r\nL 21 12.40625 \r\nL 21 0 \r\nL 10.6875 0 \r\nz\r\n\" id=\"DejaVuSans-46\"/>\r\n       </defs>\r\n       <use xlink:href=\"#DejaVuSans-48\"/>\r\n       <use x=\"63.623047\" xlink:href=\"#DejaVuSans-46\"/>\r\n       <use x=\"95.410156\" xlink:href=\"#DejaVuSans-48\"/>\r\n      </g>\r\n     </g>\r\n    </g>\r\n    <g id=\"xtick_2\">\r\n     <g id=\"line2d_2\">\r\n      <g>\r\n       <use style=\"stroke:#000000;stroke-width:0.8;\" x=\"106.194034\" xlink:href=\"#maa3127c2df\" y=\"224.64\"/>\r\n      </g>\r\n     </g>\r\n     <g id=\"text_2\">\r\n      <!-- 0.2 -->\r\n      <g transform=\"translate(98.242472 239.238437)scale(0.1 -0.1)\">\r\n       <defs>\r\n        <path d=\"M 19.1875 8.296875 \r\nL 53.609375 8.296875 \r\nL 53.609375 0 \r\nL 7.328125 0 \r\nL 7.328125 8.296875 \r\nQ 12.9375 14.109375 22.625 23.890625 \r\nQ 32.328125 33.6875 34.8125 36.53125 \r\nQ 39.546875 41.84375 41.421875 45.53125 \r\nQ 43.3125 49.21875 43.3125 52.78125 \r\nQ 43.3125 58.59375 39.234375 62.25 \r\nQ 35.15625 65.921875 28.609375 65.921875 \r\nQ 23.96875 65.921875 18.8125 64.3125 \r\nQ 13.671875 62.703125 7.8125 59.421875 \r\nL 7.8125 69.390625 \r\nQ 13.765625 71.78125 18.9375 73 \r\nQ 24.125 74.21875 28.421875 74.21875 \r\nQ 39.75 74.21875 46.484375 68.546875 \r\nQ 53.21875 62.890625 53.21875 53.421875 \r\nQ 53.21875 48.921875 51.53125 44.890625 \r\nQ 49.859375 40.875 45.40625 35.40625 \r\nQ 44.1875 33.984375 37.640625 27.21875 \r\nQ 31.109375 20.453125 19.1875 8.296875 \r\nz\r\n\" id=\"DejaVuSans-50\"/>\r\n       </defs>\r\n       <use xlink:href=\"#DejaVuSans-48\"/>\r\n       <use x=\"63.623047\" xlink:href=\"#DejaVuSans-46\"/>\r\n       <use x=\"95.410156\" xlink:href=\"#DejaVuSans-50\"/>\r\n      </g>\r\n     </g>\r\n    </g>\r\n    <g id=\"xtick_3\">\r\n     <g id=\"line2d_3\">\r\n      <g>\r\n       <use style=\"stroke:#000000;stroke-width:0.8;\" x=\"167.066761\" xlink:href=\"#maa3127c2df\" y=\"224.64\"/>\r\n      </g>\r\n     </g>\r\n     <g id=\"text_3\">\r\n      <!-- 0.4 -->\r\n      <g transform=\"translate(159.115199 239.238437)scale(0.1 -0.1)\">\r\n       <defs>\r\n        <path d=\"M 37.796875 64.3125 \r\nL 12.890625 25.390625 \r\nL 37.796875 25.390625 \r\nz\r\nM 35.203125 72.90625 \r\nL 47.609375 72.90625 \r\nL 47.609375 25.390625 \r\nL 58.015625 25.390625 \r\nL 58.015625 17.1875 \r\nL 47.609375 17.1875 \r\nL 47.609375 0 \r\nL 37.796875 0 \r\nL 37.796875 17.1875 \r\nL 4.890625 17.1875 \r\nL 4.890625 26.703125 \r\nz\r\n\" id=\"DejaVuSans-52\"/>\r\n       </defs>\r\n       <use xlink:href=\"#DejaVuSans-48\"/>\r\n       <use x=\"63.623047\" xlink:href=\"#DejaVuSans-46\"/>\r\n       <use x=\"95.410156\" xlink:href=\"#DejaVuSans-52\"/>\r\n      </g>\r\n     </g>\r\n    </g>\r\n    <g id=\"xtick_4\">\r\n     <g id=\"line2d_4\">\r\n      <g>\r\n       <use style=\"stroke:#000000;stroke-width:0.8;\" x=\"227.939489\" xlink:href=\"#maa3127c2df\" y=\"224.64\"/>\r\n      </g>\r\n     </g>\r\n     <g id=\"text_4\">\r\n      <!-- 0.6 -->\r\n      <g transform=\"translate(219.987926 239.238437)scale(0.1 -0.1)\">\r\n       <defs>\r\n        <path d=\"M 33.015625 40.375 \r\nQ 26.375 40.375 22.484375 35.828125 \r\nQ 18.609375 31.296875 18.609375 23.390625 \r\nQ 18.609375 15.53125 22.484375 10.953125 \r\nQ 26.375 6.390625 33.015625 6.390625 \r\nQ 39.65625 6.390625 43.53125 10.953125 \r\nQ 47.40625 15.53125 47.40625 23.390625 \r\nQ 47.40625 31.296875 43.53125 35.828125 \r\nQ 39.65625 40.375 33.015625 40.375 \r\nz\r\nM 52.59375 71.296875 \r\nL 52.59375 62.3125 \r\nQ 48.875 64.0625 45.09375 64.984375 \r\nQ 41.3125 65.921875 37.59375 65.921875 \r\nQ 27.828125 65.921875 22.671875 59.328125 \r\nQ 17.53125 52.734375 16.796875 39.40625 \r\nQ 19.671875 43.65625 24.015625 45.921875 \r\nQ 28.375 48.1875 33.59375 48.1875 \r\nQ 44.578125 48.1875 50.953125 41.515625 \r\nQ 57.328125 34.859375 57.328125 23.390625 \r\nQ 57.328125 12.15625 50.6875 5.359375 \r\nQ 44.046875 -1.421875 33.015625 -1.421875 \r\nQ 20.359375 -1.421875 13.671875 8.265625 \r\nQ 6.984375 17.96875 6.984375 36.375 \r\nQ 6.984375 53.65625 15.1875 63.9375 \r\nQ 23.390625 74.21875 37.203125 74.21875 \r\nQ 40.921875 74.21875 44.703125 73.484375 \r\nQ 48.484375 72.75 52.59375 71.296875 \r\nz\r\n\" id=\"DejaVuSans-54\"/>\r\n       </defs>\r\n       <use xlink:href=\"#DejaVuSans-48\"/>\r\n       <use x=\"63.623047\" xlink:href=\"#DejaVuSans-46\"/>\r\n       <use x=\"95.410156\" xlink:href=\"#DejaVuSans-54\"/>\r\n      </g>\r\n     </g>\r\n    </g>\r\n    <g id=\"xtick_5\">\r\n     <g id=\"line2d_5\">\r\n      <g>\r\n       <use style=\"stroke:#000000;stroke-width:0.8;\" x=\"288.812216\" xlink:href=\"#maa3127c2df\" y=\"224.64\"/>\r\n      </g>\r\n     </g>\r\n     <g id=\"text_5\">\r\n      <!-- 0.8 -->\r\n      <g transform=\"translate(280.860653 239.238437)scale(0.1 -0.1)\">\r\n       <defs>\r\n        <path d=\"M 31.78125 34.625 \r\nQ 24.75 34.625 20.71875 30.859375 \r\nQ 16.703125 27.09375 16.703125 20.515625 \r\nQ 16.703125 13.921875 20.71875 10.15625 \r\nQ 24.75 6.390625 31.78125 6.390625 \r\nQ 38.8125 6.390625 42.859375 10.171875 \r\nQ 46.921875 13.96875 46.921875 20.515625 \r\nQ 46.921875 27.09375 42.890625 30.859375 \r\nQ 38.875 34.625 31.78125 34.625 \r\nz\r\nM 21.921875 38.8125 \r\nQ 15.578125 40.375 12.03125 44.71875 \r\nQ 8.5 49.078125 8.5 55.328125 \r\nQ 8.5 64.0625 14.71875 69.140625 \r\nQ 20.953125 74.21875 31.78125 74.21875 \r\nQ 42.671875 74.21875 48.875 69.140625 \r\nQ 55.078125 64.0625 55.078125 55.328125 \r\nQ 55.078125 49.078125 51.53125 44.71875 \r\nQ 48 40.375 41.703125 38.8125 \r\nQ 48.828125 37.15625 52.796875 32.3125 \r\nQ 56.78125 27.484375 56.78125 20.515625 \r\nQ 56.78125 9.90625 50.3125 4.234375 \r\nQ 43.84375 -1.421875 31.78125 -1.421875 \r\nQ 19.734375 -1.421875 13.25 4.234375 \r\nQ 6.78125 9.90625 6.78125 20.515625 \r\nQ 6.78125 27.484375 10.78125 32.3125 \r\nQ 14.796875 37.15625 21.921875 38.8125 \r\nz\r\nM 18.3125 54.390625 \r\nQ 18.3125 48.734375 21.84375 45.5625 \r\nQ 25.390625 42.390625 31.78125 42.390625 \r\nQ 38.140625 42.390625 41.71875 45.5625 \r\nQ 45.3125 48.734375 45.3125 54.390625 \r\nQ 45.3125 60.0625 41.71875 63.234375 \r\nQ 38.140625 66.40625 31.78125 66.40625 \r\nQ 25.390625 66.40625 21.84375 63.234375 \r\nQ 18.3125 60.0625 18.3125 54.390625 \r\nz\r\n\" id=\"DejaVuSans-56\"/>\r\n       </defs>\r\n       <use xlink:href=\"#DejaVuSans-48\"/>\r\n       <use x=\"63.623047\" xlink:href=\"#DejaVuSans-46\"/>\r\n       <use x=\"95.410156\" xlink:href=\"#DejaVuSans-56\"/>\r\n      </g>\r\n     </g>\r\n    </g>\r\n    <g id=\"xtick_6\">\r\n     <g id=\"line2d_6\">\r\n      <g>\r\n       <use style=\"stroke:#000000;stroke-width:0.8;\" x=\"349.684943\" xlink:href=\"#maa3127c2df\" y=\"224.64\"/>\r\n      </g>\r\n     </g>\r\n     <g id=\"text_6\">\r\n      <!-- 1.0 -->\r\n      <g transform=\"translate(341.733381 239.238437)scale(0.1 -0.1)\">\r\n       <defs>\r\n        <path d=\"M 12.40625 8.296875 \r\nL 28.515625 8.296875 \r\nL 28.515625 63.921875 \r\nL 10.984375 60.40625 \r\nL 10.984375 69.390625 \r\nL 28.421875 72.90625 \r\nL 38.28125 72.90625 \r\nL 38.28125 8.296875 \r\nL 54.390625 8.296875 \r\nL 54.390625 0 \r\nL 12.40625 0 \r\nz\r\n\" id=\"DejaVuSans-49\"/>\r\n       </defs>\r\n       <use xlink:href=\"#DejaVuSans-49\"/>\r\n       <use x=\"63.623047\" xlink:href=\"#DejaVuSans-46\"/>\r\n       <use x=\"95.410156\" xlink:href=\"#DejaVuSans-48\"/>\r\n      </g>\r\n     </g>\r\n    </g>\r\n   </g>\r\n   <g id=\"matplotlib.axis_2\">\r\n    <g id=\"ytick_1\">\r\n     <g id=\"line2d_7\">\r\n      <defs>\r\n       <path d=\"M 0 0 \r\nL -3.5 0 \r\n\" id=\"md5fa4cc33a\" style=\"stroke:#000000;stroke-width:0.8;\"/>\r\n      </defs>\r\n      <g>\r\n       <use style=\"stroke:#000000;stroke-width:0.8;\" x=\"30.103125\" xlink:href=\"#md5fa4cc33a\" y=\"214.756364\"/>\r\n      </g>\r\n     </g>\r\n     <g id=\"text_7\">\r\n      <!-- 0.0 -->\r\n      <g transform=\"translate(7.2 218.555582)scale(0.1 -0.1)\">\r\n       <use xlink:href=\"#DejaVuSans-48\"/>\r\n       <use x=\"63.623047\" xlink:href=\"#DejaVuSans-46\"/>\r\n       <use x=\"95.410156\" xlink:href=\"#DejaVuSans-48\"/>\r\n      </g>\r\n     </g>\r\n    </g>\r\n    <g id=\"ytick_2\">\r\n     <g id=\"line2d_8\">\r\n      <g>\r\n       <use style=\"stroke:#000000;stroke-width:0.8;\" x=\"30.103125\" xlink:href=\"#md5fa4cc33a\" y=\"175.221818\"/>\r\n      </g>\r\n     </g>\r\n     <g id=\"text_8\">\r\n      <!-- 0.2 -->\r\n      <g transform=\"translate(7.2 179.021037)scale(0.1 -0.1)\">\r\n       <use xlink:href=\"#DejaVuSans-48\"/>\r\n       <use x=\"63.623047\" xlink:href=\"#DejaVuSans-46\"/>\r\n       <use x=\"95.410156\" xlink:href=\"#DejaVuSans-50\"/>\r\n      </g>\r\n     </g>\r\n    </g>\r\n    <g id=\"ytick_3\">\r\n     <g id=\"line2d_9\">\r\n      <g>\r\n       <use style=\"stroke:#000000;stroke-width:0.8;\" x=\"30.103125\" xlink:href=\"#md5fa4cc33a\" y=\"135.687273\"/>\r\n      </g>\r\n     </g>\r\n     <g id=\"text_9\">\r\n      <!-- 0.4 -->\r\n      <g transform=\"translate(7.2 139.486491)scale(0.1 -0.1)\">\r\n       <use xlink:href=\"#DejaVuSans-48\"/>\r\n       <use x=\"63.623047\" xlink:href=\"#DejaVuSans-46\"/>\r\n       <use x=\"95.410156\" xlink:href=\"#DejaVuSans-52\"/>\r\n      </g>\r\n     </g>\r\n    </g>\r\n    <g id=\"ytick_4\">\r\n     <g id=\"line2d_10\">\r\n      <g>\r\n       <use style=\"stroke:#000000;stroke-width:0.8;\" x=\"30.103125\" xlink:href=\"#md5fa4cc33a\" y=\"96.152727\"/>\r\n      </g>\r\n     </g>\r\n     <g id=\"text_10\">\r\n      <!-- 0.6 -->\r\n      <g transform=\"translate(7.2 99.951946)scale(0.1 -0.1)\">\r\n       <use xlink:href=\"#DejaVuSans-48\"/>\r\n       <use x=\"63.623047\" xlink:href=\"#DejaVuSans-46\"/>\r\n       <use x=\"95.410156\" xlink:href=\"#DejaVuSans-54\"/>\r\n      </g>\r\n     </g>\r\n    </g>\r\n    <g id=\"ytick_5\">\r\n     <g id=\"line2d_11\">\r\n      <g>\r\n       <use style=\"stroke:#000000;stroke-width:0.8;\" x=\"30.103125\" xlink:href=\"#md5fa4cc33a\" y=\"56.618182\"/>\r\n      </g>\r\n     </g>\r\n     <g id=\"text_11\">\r\n      <!-- 0.8 -->\r\n      <g transform=\"translate(7.2 60.417401)scale(0.1 -0.1)\">\r\n       <use xlink:href=\"#DejaVuSans-48\"/>\r\n       <use x=\"63.623047\" xlink:href=\"#DejaVuSans-46\"/>\r\n       <use x=\"95.410156\" xlink:href=\"#DejaVuSans-56\"/>\r\n      </g>\r\n     </g>\r\n    </g>\r\n    <g id=\"ytick_6\">\r\n     <g id=\"line2d_12\">\r\n      <g>\r\n       <use style=\"stroke:#000000;stroke-width:0.8;\" x=\"30.103125\" xlink:href=\"#md5fa4cc33a\" y=\"17.083636\"/>\r\n      </g>\r\n     </g>\r\n     <g id=\"text_12\">\r\n      <!-- 1.0 -->\r\n      <g transform=\"translate(7.2 20.882855)scale(0.1 -0.1)\">\r\n       <use xlink:href=\"#DejaVuSans-49\"/>\r\n       <use x=\"63.623047\" xlink:href=\"#DejaVuSans-46\"/>\r\n       <use x=\"95.410156\" xlink:href=\"#DejaVuSans-48\"/>\r\n      </g>\r\n     </g>\r\n    </g>\r\n   </g>\r\n   <g id=\"line2d_13\">\r\n    <path clip-path=\"url(#pf38e37122c)\" d=\"M 45.321307 214.756364 \r\nL 45.321307 210.138368 \r\nL 45.523811 210.138368 \r\nL 45.523811 209.124662 \r\nL 45.726315 209.124662 \r\nL 45.726315 202.92979 \r\nL 45.928819 202.92979 \r\nL 45.928819 201.690816 \r\nL 46.131323 201.690816 \r\nL 46.131323 197.072821 \r\nL 46.333827 197.072821 \r\nL 46.333827 194.594872 \r\nL 46.536331 194.594872 \r\nL 46.536331 192.792727 \r\nL 46.738835 192.567459 \r\nL 46.738835 191.779021 \r\nL 47.143844 191.779021 \r\nL 47.143844 189.52634 \r\nL 47.346348 189.413706 \r\nL 47.346348 187.27366 \r\nL 47.548852 187.27366 \r\nL 47.548852 180.402984 \r\nL 47.751356 180.402984 \r\nL 47.751356 172.969138 \r\nL 47.95386 172.856503 \r\nL 47.95386 172.518601 \r\nL 48.156364 172.518601 \r\nL 48.156364 171.842797 \r\nL 48.358868 171.842797 \r\nL 48.358868 170.829091 \r\nL 48.763876 170.829091 \r\nL 48.763876 165.310023 \r\nL 48.96638 165.084755 \r\nL 48.96638 164.859487 \r\nL 49.168884 164.859487 \r\nL 49.168884 163.395245 \r\nL 49.371388 163.395245 \r\nL 49.371388 162.944709 \r\nL 49.573893 162.719441 \r\nL 49.573893 162.043636 \r\nL 49.776397 161.255198 \r\nL 49.978901 161.255198 \r\nL 49.978901 160.917296 \r\nL 50.383909 160.917296 \r\nL 50.788917 160.241492 \r\nL 50.788917 159.227786 \r\nL 50.991421 159.115152 \r\nL 50.991421 158.664615 \r\nL 51.193925 158.439347 \r\nL 51.193925 156.524569 \r\nL 51.396429 156.524569 \r\nL 51.396429 156.411935 \r\nL 51.598933 156.411935 \r\nL 51.598933 155.961399 \r\nL 51.801437 155.961399 \r\nL 51.801437 155.623497 \r\nL 52.003942 155.398228 \r\nL 52.003942 154.497156 \r\nL 52.206446 154.271888 \r\nL 52.206446 153.032914 \r\nL 52.40895 153.032914 \r\nL 52.40895 149.090723 \r\nL 52.611454 148.978089 \r\nL 52.611454 148.302284 \r\nL 53.016462 148.302284 \r\nL 53.016462 145.711702 \r\nL 53.218966 145.486434 \r\nL 53.218966 145.148531 \r\nL 53.42147 145.148531 \r\nL 53.42147 142.783217 \r\nL 53.623974 142.445315 \r\nL 53.623974 141.20634 \r\nL 53.826478 141.093706 \r\nL 53.826478 139.854732 \r\nL 54.028982 139.629464 \r\nL 54.028982 139.404196 \r\nL 54.231486 139.291562 \r\nL 54.231486 139.066294 \r\nL 54.433991 138.277855 \r\nL 54.433991 137.714685 \r\nL 54.636495 137.264149 \r\nL 54.636495 135.011469 \r\nL 55.041503 134.560932 \r\nL 55.041503 134.22303 \r\nL 55.244007 133.885128 \r\nL 55.446511 133.885128 \r\nL 55.446511 132.195618 \r\nL 55.649015 132.195618 \r\nL 55.649015 132.082984 \r\nL 56.256527 131.745082 \r\nL 56.256527 131.294545 \r\nL 56.459031 130.618741 \r\nL 56.459031 129.830303 \r\nL 56.661535 129.830303 \r\nL 56.86404 129.605035 \r\nL 56.86404 125.437576 \r\nL 57.066544 124.98704 \r\nL 57.066544 124.198601 \r\nL 57.471552 123.860699 \r\nL 57.674056 123.860699 \r\nL 57.674056 123.410163 \r\nL 57.87656 123.410163 \r\nL 58.079064 122.959627 \r\nL 58.079064 122.621725 \r\nL 58.281568 122.621725 \r\nL 58.281568 122.171189 \r\nL 58.484072 121.945921 \r\nL 58.88908 121.945921 \r\nL 58.88908 121.833287 \r\nL 59.091584 121.270117 \r\nL 59.294089 121.270117 \r\nL 59.496593 121.157483 \r\nL 59.496593 119.69324 \r\nL 59.699097 119.69324 \r\nL 59.699097 119.467972 \r\nL 59.901601 119.355338 \r\nL 59.901601 118.904802 \r\nL 60.104105 118.792168 \r\nL 60.104105 117.778462 \r\nL 60.306609 117.665828 \r\nL 60.914121 116.877389 \r\nL 60.914121 116.652121 \r\nL 61.116625 116.652121 \r\nL 61.116625 116.426853 \r\nL 61.521633 116.426853 \r\nL 61.521633 116.201585 \r\nL 61.724138 116.201585 \r\nL 62.129146 115.863683 \r\nL 62.129146 115.300513 \r\nL 62.534154 114.962611 \r\nL 62.939162 114.399441 \r\nL 62.939162 113.83627 \r\nL 63.141666 113.2731 \r\nL 63.141666 112.372028 \r\nL 63.749178 112.372028 \r\nL 63.749178 111.02042 \r\nL 63.951682 110.682517 \r\nL 64.154187 110.006713 \r\nL 64.559195 110.006713 \r\nL 64.559195 109.781445 \r\nL 65.166707 109.556177 \r\nL 65.166707 109.218275 \r\nL 65.774219 109.218275 \r\nL 65.774219 108.542471 \r\nL 66.381731 108.542471 \r\nL 66.584236 108.091935 \r\nL 66.584236 107.190862 \r\nL 66.78674 107.190862 \r\nL 66.78674 106.85296 \r\nL 67.394252 106.402424 \r\nL 67.394252 106.28979 \r\nL 68.406772 105.839254 \r\nL 68.406772 105.276084 \r\nL 68.609276 105.16345 \r\nL 68.81178 104.825548 \r\nL 69.216789 104.825548 \r\nL 69.216789 104.03711 \r\nL 69.419293 104.03711 \r\nL 69.419293 103.811841 \r\nL 69.824301 103.811841 \r\nL 69.824301 102.798135 \r\nL 70.026805 102.798135 \r\nL 70.634317 102.460233 \r\nL 70.634317 102.234965 \r\nL 70.836821 101.333893 \r\nL 70.836821 100.995991 \r\nL 71.039325 100.995991 \r\nL 71.039325 100.658089 \r\nL 71.241829 100.658089 \r\nL 71.241829 98.968578 \r\nL 71.646838 98.630676 \r\nL 71.849342 98.630676 \r\nL 72.051846 98.518042 \r\nL 72.25435 97.166434 \r\nL 72.456854 97.166434 \r\nL 72.456854 96.490629 \r\nL 72.861862 96.040093 \r\nL 73.469374 95.814825 \r\nL 73.469374 95.589557 \r\nL 73.671878 95.139021 \r\nL 73.671878 94.012681 \r\nL 74.076887 93.336876 \r\nL 74.279391 93.336876 \r\nL 75.291911 92.661072 \r\nL 75.291911 92.548438 \r\nL 75.494415 92.548438 \r\nL 75.494415 91.76 \r\nL 75.696919 91.647366 \r\nL 75.696919 91.309464 \r\nL 75.899423 91.19683 \r\nL 75.899423 90.63366 \r\nL 76.101927 90.63366 \r\nL 76.101927 89.845221 \r\nL 77.316952 89.169417 \r\nL 77.316952 88.944149 \r\nL 77.72196 88.493613 \r\nL 77.72196 88.268345 \r\nL 77.924464 88.268345 \r\nL 78.329472 88.155711 \r\nL 78.531976 87.817809 \r\nL 78.73448 87.817809 \r\nL 78.73448 86.691469 \r\nL 78.936985 86.691469 \r\nL 78.936985 86.015664 \r\nL 79.139489 86.015664 \r\nL 79.139489 85.90303 \r\nL 79.341993 85.452494 \r\nL 79.544497 85.452494 \r\nL 79.544497 85.33986 \r\nL 80.557017 84.889324 \r\nL 81.569538 84.551422 \r\nL 81.569538 83.988252 \r\nL 81.974546 83.988252 \r\nL 81.974546 83.875618 \r\nL 82.17705 83.875618 \r\nL 82.582058 83.425082 \r\nL 82.582058 83.199814 \r\nL 83.392074 82.861911 \r\nL 83.392074 82.411375 \r\nL 83.999587 81.960839 \r\nL 84.607099 81.735571 \r\nL 85.214611 81.510303 \r\nL 85.214611 81.397669 \r\nL 85.417115 80.721865 \r\nL 85.619619 80.721865 \r\nL 85.619619 80.496597 \r\nL 86.429636 79.257622 \r\nL 86.429636 78.807086 \r\nL 86.63214 78.469184 \r\nL 87.037148 78.35655 \r\nL 87.037148 78.131282 \r\nL 87.442156 77.568112 \r\nL 87.64466 77.117576 \r\nL 87.847164 77.004942 \r\nL 87.847164 76.779674 \r\nL 88.049668 76.779674 \r\nL 88.049668 76.441772 \r\nL 88.252172 76.441772 \r\nL 88.252172 76.329138 \r\nL 89.062189 76.329138 \r\nL 89.669701 75.765967 \r\nL 89.872205 74.639627 \r\nL 89.872205 74.414359 \r\nL 90.277213 74.189091 \r\nL 90.277213 73.851189 \r\nL 92.09975 73.175385 \r\nL 93.11227 73.062751 \r\nL 93.11227 72.837483 \r\nL 94.124791 72.386946 \r\nL 94.529799 72.386946 \r\nL 94.732303 72.161678 \r\nL 94.732303 71.93641 \r\nL 95.137311 71.823776 \r\nL 95.137311 71.37324 \r\nL 96.352336 70.697436 \r\nL 96.959848 70.697436 \r\nL 96.959848 70.584802 \r\nL 97.769864 70.2469 \r\nL 97.972368 69.68373 \r\nL 97.972368 69.233193 \r\nL 98.174872 69.120559 \r\nL 98.984889 69.120559 \r\nL 98.984889 68.670023 \r\nL 99.389897 68.444755 \r\nL 99.997409 67.994219 \r\nL 100.199913 67.994219 \r\nL 100.402417 67.881585 \r\nL 100.402417 67.543683 \r\nL 100.604921 67.543683 \r\nL 101.819946 66.980513 \r\nL 102.427458 66.980513 \r\nL 102.427458 66.755245 \r\nL 103.03497 66.417343 \r\nL 103.03497 66.079441 \r\nL 103.237474 66.079441 \r\nL 103.237474 65.966807 \r\nL 104.655003 65.291002 \r\nL 104.857507 65.065734 \r\nL 105.060011 65.065734 \r\nL 105.060011 64.9531 \r\nL 105.465019 64.38993 \r\nL 105.870028 64.38993 \r\nL 106.680044 64.164662 \r\nL 106.680044 63.939394 \r\nL 108.097572 63.939394 \r\nL 108.300077 63.488858 \r\nL 108.502581 63.488858 \r\nL 109.110093 62.925688 \r\nL 109.312597 62.925688 \r\nL 109.312597 62.813054 \r\nL 110.122613 62.475152 \r\nL 110.527621 62.137249 \r\nL 111.135134 61.010909 \r\nL 111.135134 60.898275 \r\nL 111.337638 60.898275 \r\nL 112.350158 60.673007 \r\nL 112.552662 60.335105 \r\nL 112.755166 60.335105 \r\nL 112.755166 60.222471 \r\nL 112.95767 59.997203 \r\nL 115.387719 59.434033 \r\nL 115.590224 59.208765 \r\nL 115.792728 59.208765 \r\nL 115.792728 59.096131 \r\nL 115.995232 58.870862 \r\nL 116.602744 58.870862 \r\nL 117.41276 58.53296 \r\nL 118.830289 58.53296 \r\nL 119.842809 58.307692 \r\nL 120.652826 58.195058 \r\nL 120.652826 58.082424 \r\nL 121.462842 58.082424 \r\nL 121.665346 57.857156 \r\nL 122.070354 57.519254 \r\nL 122.677866 57.181352 \r\nL 123.892891 56.956084 \r\nL 124.702907 56.505548 \r\nL 125.107915 56.505548 \r\nL 125.31042 56.167646 \r\nL 125.31042 55.942378 \r\nL 125.512924 55.942378 \r\nL 125.512924 55.829744 \r\nL 125.715428 55.71711 \r\nL 126.727948 55.379207 \r\nL 127.132956 55.153939 \r\nL 127.537964 55.153939 \r\nL 127.537964 54.928671 \r\nL 128.752989 54.365501 \r\nL 129.157997 54.365501 \r\nL 130.373022 54.027599 \r\nL 130.373022 53.351795 \r\nL 131.588046 52.675991 \r\nL 131.993054 52.675991 \r\nL 132.600566 52.225455 \r\nL 132.803071 52.000186 \r\nL 133.208079 52.000186 \r\nL 133.410583 51.887552 \r\nL 135.030615 51.099114 \r\nL 136.24564 51.099114 \r\nL 136.24564 50.761212 \r\nL 136.448144 50.761212 \r\nL 136.448144 50.648578 \r\nL 136.853152 50.535944 \r\nL 137.865673 50.535944 \r\nL 138.473185 50.310676 \r\nL 138.473185 50.085408 \r\nL 138.675689 49.86014 \r\nL 139.080697 49.86014 \r\nL 140.093218 49.29697 \r\nL 141.510746 49.071702 \r\nL 141.915754 48.846434 \r\nL 142.725771 48.621166 \r\nL 142.928275 48.283263 \r\nL 143.333283 48.283263 \r\nL 144.750811 48.057995 \r\nL 144.953316 48.057995 \r\nL 144.953316 47.945361 \r\nL 145.15582 47.945361 \r\nL 146.370844 47.382191 \r\nL 146.573348 47.382191 \r\nL 149.610909 46.931655 \r\nL 150.015918 46.931655 \r\nL 150.015918 46.819021 \r\nL 150.218422 46.819021 \r\nL 151.028438 46.593753 \r\nL 151.028438 46.481119 \r\nL 151.230942 46.481119 \r\nL 151.63595 46.030583 \r\nL 152.040958 46.030583 \r\nL 152.040958 45.692681 \r\nL 152.243463 45.692681 \r\nL 152.445967 45.242145 \r\nL 152.445967 44.904242 \r\nL 153.255983 44.904242 \r\nL 155.07852 43.890536 \r\nL 156.698552 43.890536 \r\nL 157.306065 43.665268 \r\nL 157.306065 43.552634 \r\nL 157.711073 43.214732 \r\nL 160.141122 42.87683 \r\nL 160.748634 42.538928 \r\nL 160.748634 42.31366 \r\nL 161.55865 42.31366 \r\nL 161.55865 42.201026 \r\nL 161.963658 42.201026 \r\nL 162.166163 42.088392 \r\nL 162.166163 41.863124 \r\nL 162.368667 41.863124 \r\nL 162.368667 41.75049 \r\nL 162.773675 41.75049 \r\nL 162.773675 41.637855 \r\nL 163.988699 40.736783 \r\nL 164.596212 40.736783 \r\nL 167.431269 40.173613 \r\nL 167.431269 39.948345 \r\nL 168.646293 39.948345 \r\nL 170.46883 39.497809 \r\nL 170.46883 39.159907 \r\nL 170.873838 39.159907 \r\nL 170.873838 39.047273 \r\nL 171.683854 39.047273 \r\nL 172.696375 38.709371 \r\nL 173.303887 38.709371 \r\nL 173.303887 38.596737 \r\nL 174.518912 38.371469 \r\nL 174.721416 38.1462 \r\nL 175.328928 37.808298 \r\nL 175.733936 37.808298 \r\nL 175.93644 37.695664 \r\nL 176.543952 37.695664 \r\nL 177.151465 37.470396 \r\nL 180.39153 36.569324 \r\nL 181.201546 36.231422 \r\nL 182.619075 36.006154 \r\nL 182.821579 35.668252 \r\nL 183.024083 35.668252 \r\nL 183.631595 35.33035 \r\nL 184.036603 35.33035 \r\nL 185.049124 35.217716 \r\nL 185.049124 35.105082 \r\nL 186.466652 34.992448 \r\nL 186.466652 34.767179 \r\nL 187.074165 34.541911 \r\nL 187.884181 34.541911 \r\nL 187.884181 34.429277 \r\nL 188.694197 34.429277 \r\nL 189.30171 34.091375 \r\nL 189.706718 34.091375 \r\nL 189.706718 33.978741 \r\nL 191.731759 33.753473 \r\nL 191.934263 33.528205 \r\nL 192.136767 33.528205 \r\nL 193.149287 33.077669 \r\nL 193.554295 32.852401 \r\nL 196.186848 32.627133 \r\nL 197.806881 32.627133 \r\nL 197.806881 32.514499 \r\nL 198.009385 32.514499 \r\nL 198.211889 32.289231 \r\nL 198.414393 32.289231 \r\nL 198.414393 32.176597 \r\nL 199.629418 31.613427 \r\nL 200.439434 31.613427 \r\nL 201.654459 31.050256 \r\nL 201.856963 31.050256 \r\nL 201.856963 30.937622 \r\nL 202.869483 30.937622 \r\nL 203.476995 30.712354 \r\nL 203.882004 30.712354 \r\nL 204.69202 30.487086 \r\nL 204.69202 30.261818 \r\nL 207.122069 30.149184 \r\nL 207.122069 30.03655 \r\nL 207.932085 29.811282 \r\nL 208.337093 29.811282 \r\nL 208.539598 29.47338 \r\nL 210.564638 29.47338 \r\nL 210.564638 29.360746 \r\nL 210.767142 29.248112 \r\nL 211.172151 29.248112 \r\nL 211.172151 29.135478 \r\nL 211.779663 29.135478 \r\nL 211.779663 29.022844 \r\nL 212.994687 28.684942 \r\nL 213.804704 28.684942 \r\nL 215.424736 28.459674 \r\nL 216.437257 28.459674 \r\nL 216.437257 28.34704 \r\nL 217.854785 28.34704 \r\nL 218.867306 28.121772 \r\nL 218.867306 28.009138 \r\nL 221.094851 27.558601 \r\nL 221.904867 27.558601 \r\nL 222.512379 27.333333 \r\nL 223.119891 27.333333 \r\nL 224.334916 27.220699 \r\nL 225.54994 27.220699 \r\nL 225.54994 27.108065 \r\nL 226.562461 27.108065 \r\nL 226.764965 26.995431 \r\nL 227.574981 26.995431 \r\nL 228.790006 26.882797 \r\nL 228.790006 26.657529 \r\nL 230.612543 26.206993 \r\nL 231.220055 26.094359 \r\nL 232.232575 26.094359 \r\nL 232.840087 25.981725 \r\nL 234.055112 25.981725 \r\nL 235.472641 25.418555 \r\nL 236.282657 25.305921 \r\nL 237.90269 25.305921 \r\nL 238.91521 24.855385 \r\nL 238.91521 24.742751 \r\nL 239.320218 24.742751 \r\nL 239.320218 24.404848 \r\nL 240.332739 23.954312 \r\nL 242.155275 23.954312 \r\nL 242.965292 23.729044 \r\nL 245.395341 23.729044 \r\nL 245.395341 23.61641 \r\nL 249.242918 23.61641 \r\nL 250.052934 23.503776 \r\nL 250.457943 23.503776 \r\nL 250.457943 23.391142 \r\nL 250.660447 23.391142 \r\nL 253.698008 23.278508 \r\nL 254.30552 23.278508 \r\nL 255.115537 23.05324 \r\nL 256.128057 23.05324 \r\nL 257.343081 22.715338 \r\nL 258.963114 22.715338 \r\nL 260.380643 22.602704 \r\nL 260.380643 22.377436 \r\nL 261.798171 21.9269 \r\nL 263.418204 21.9269 \r\nL 263.418204 21.814266 \r\nL 264.22822 21.814266 \r\nL 264.835733 21.701632 \r\nL 267.873294 21.476364 \r\nL 268.278302 21.36373 \r\nL 269.493326 21.36373 \r\nL 270.303343 21.025828 \r\nL 271.315863 20.913193 \r\nL 274.15092 20.913193 \r\nL 274.960937 20.800559 \r\nL 274.960937 20.687925 \r\nL 276.378465 20.687925 \r\nL 276.580969 20.575291 \r\nL 277.188482 20.575291 \r\nL 277.188482 20.462657 \r\nL 280.833555 20.462657 \r\nL 281.643571 20.350023 \r\nL 283.668612 20.350023 \r\nL 283.668612 20.237389 \r\nL 284.07362 20.237389 \r\nL 285.288645 19.899487 \r\nL 286.908678 19.674219 \r\nL 288.731214 19.674219 \r\nL 288.933718 19.561585 \r\nL 289.338727 19.561585 \r\nL 289.541231 19.448951 \r\nL 290.553751 19.448951 \r\nL 290.553751 19.336317 \r\nL 291.161263 19.336317 \r\nL 291.161263 19.223683 \r\nL 292.781296 18.885781 \r\nL 292.9838 18.885781 \r\nL 293.793816 18.660513 \r\nL 299.058922 18.660513 \r\nL 299.058922 18.547879 \r\nL 300.678955 18.547879 \r\nL 300.881459 18.435245 \r\nL 301.89398 18.435245 \r\nL 302.096484 18.322611 \r\nL 304.526533 18.322611 \r\nL 305.336549 18.209977 \r\nL 316.27177 18.209977 \r\nL 317.081786 17.984709 \r\nL 319.106827 17.984709 \r\nL 319.106827 17.872075 \r\nL 324.979445 17.872075 \r\nL 325.384453 17.759441 \r\nL 325.789461 17.759441 \r\nL 325.789461 17.646807 \r\nL 330.447055 17.646807 \r\nL 330.447055 17.534172 \r\nL 332.6746 17.534172 \r\nL 332.877104 17.421538 \r\nL 335.104649 17.421538 \r\nL 335.104649 17.308904 \r\nL 335.509657 17.308904 \r\nL 335.509657 17.19627 \r\nL 341.382276 17.19627 \r\nL 341.382276 17.083636 \r\nL 349.684943 17.083636 \r\nL 349.684943 17.083636 \r\n\" style=\"fill:none;stroke:#1f77b4;stroke-linecap:square;stroke-width:1.5;\"/>\r\n   </g>\r\n   <g id=\"patch_3\">\r\n    <path d=\"M 30.103125 224.64 \r\nL 30.103125 7.2 \r\n\" style=\"fill:none;stroke:#000000;stroke-linecap:square;stroke-linejoin:miter;stroke-width:0.8;\"/>\r\n   </g>\r\n   <g id=\"patch_4\">\r\n    <path d=\"M 364.903125 224.64 \r\nL 364.903125 7.2 \r\n\" style=\"fill:none;stroke:#000000;stroke-linecap:square;stroke-linejoin:miter;stroke-width:0.8;\"/>\r\n   </g>\r\n   <g id=\"patch_5\">\r\n    <path d=\"M 30.103125 224.64 \r\nL 364.903125 224.64 \r\n\" style=\"fill:none;stroke:#000000;stroke-linecap:square;stroke-linejoin:miter;stroke-width:0.8;\"/>\r\n   </g>\r\n   <g id=\"patch_6\">\r\n    <path d=\"M 30.103125 7.2 \r\nL 364.903125 7.2 \r\n\" style=\"fill:none;stroke:#000000;stroke-linecap:square;stroke-linejoin:miter;stroke-width:0.8;\"/>\r\n   </g>\r\n  </g>\r\n </g>\r\n <defs>\r\n  <clipPath id=\"pf38e37122c\">\r\n   <rect height=\"217.44\" width=\"334.8\" x=\"30.103125\" y=\"7.2\"/>\r\n  </clipPath>\r\n </defs>\r\n</svg>\r\n",
      "image/png": "[encoded data removed]"
     },
     "metadata": {
      "needs_background": "light"
     }
    }
   ],
   "source": [
    "plt.plot( fpr, tpr )"
   ]
  },
  {
   "cell_type": "code",
   "execution_count": 31,
   "metadata": {},
   "outputs": [],
   "source": [
    "from sklearn.metrics import roc_auc_score"
   ]
  },
  {
   "cell_type": "code",
   "execution_count": 32,
   "metadata": {},
   "outputs": [
    {
     "output_type": "execute_result",
     "data": {
      "text/plain": [
       "0.8573515836323553"
      ]
     },
     "metadata": {},
     "execution_count": 32
    }
   ],
   "source": [
    "roc_auc_score(y_test, predictions[:, 1])"
   ]
  },
  {
   "cell_type": "code",
   "execution_count": 40,
   "metadata": {},
   "outputs": [
    {
     "output_type": "execute_result",
     "data": {
      "text/plain": [
       "3258"
      ]
     },
     "metadata": {},
     "execution_count": 40
    }
   ],
   "source": [
    "y_test.shape[0]"
   ]
  },
  {
   "cell_type": "code",
   "execution_count": 39,
   "metadata": {},
   "outputs": [],
   "source": [
    "def state(y,y_,tr):\n",
    "    N_rows = y.shape[0]\n",
    "    N_cols = 4 # по числу результатов - FP FN TP TN\n",
    "    cols = \n",
    "    st = pd.DataFrame(np.zeros((N_rows, N_cols)))\n",
    "\n",
    "    return  "
   ]
  },
  {
   "cell_type": "code",
   "execution_count": null,
   "metadata": {},
   "outputs": [],
   "source": [
    "def fpr(y, y_pre):\n",
    "    \n",
    "    return "
   ]
  },
  {
   "cell_type": "code",
   "execution_count": null,
   "metadata": {},
   "outputs": [],
   "source": [
    "def tpr(y, y_pre):\n",
    "    return "
   ]
  },
  {
   "cell_type": "code",
   "execution_count": null,
   "metadata": {},
   "outputs": [],
   "source": [
    "def precision(y, y_pre):\n",
    "    return "
   ]
  },
  {
   "cell_type": "code",
   "execution_count": null,
   "metadata": {},
   "outputs": [],
   "source": [
    "def recall(y, y_pre):\n",
    "    return "
   ]
  }
 ],
 "metadata": {
  "kernelspec": {
   "display_name": "Python 3",
   "language": "python",
   "name": "python3"
  },
  "language_info": {
   "codemirror_mode": {
    "name": "ipython",
    "version": 3
   },
   "file_extension": ".py",
   "mimetype": "text/x-python",
   "name": "python",
   "nbconvert_exporter": "python",
   "pygments_lexer": "ipython3",
   "version": "3.8.5-final"
  }
 },
 "nbformat": 4,
 "nbformat_minor": 2
}