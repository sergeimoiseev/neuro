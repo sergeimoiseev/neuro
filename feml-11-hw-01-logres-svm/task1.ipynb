{
 "cells": [
  {
   "cell_type": "code",
   "execution_count": 1,
   "metadata": {},
   "outputs": [],
   "source": [
    "import pandas as pd\n",
    "import numpy as np\n",
    "from sklearn.preprocessing import LabelEncoder\n",
    "from sklearn.linear_model import LogisticRegression\n",
    "\n",
    "from sklearn.pipeline import make_pipeline\n",
    "from sklearn.preprocessing import OneHotEncoder, StandardScaler\n",
    "from sklearn.model_selection import train_test_split\n",
    "\n",
    "# from sklearn.pipeline import Pipeline, FeatureUnion\n",
    "# from sklearn.preprocessing import OneHotEncoder, StandardScaler\n",
    "\n",
    "from sklearn.svm import SVC\n",
    "\n",
    "import matplotlib.pyplot as plt"
   ]
  },
  {
   "cell_type": "markdown",
   "metadata": {},
   "source": [
    "Получите данные и загрузите их в рабочую среду. (Jupyter Notebook или другую)"
   ]
  },
  {
   "cell_type": "code",
   "execution_count": 2,
   "metadata": {},
   "outputs": [
    {
     "data": {
      "text/plain": [
       "Index(['age', 'workclass', 'fnlwgt', 'education', 'educational-num',\n",
       "       'marital-status', 'occupation', 'relationship', 'race', 'gender',\n",
       "       'capital-gain', 'capital-loss', 'hours-per-week', 'native-country',\n",
       "       'income'],\n",
       "      dtype='object')"
      ]
     },
     "execution_count": 2,
     "metadata": {},
     "output_type": "execute_result"
    }
   ],
   "source": [
    "# читаем датасет\n",
    "df = pd.read_csv( 'adult.csv' )\n",
    "# все признаки\n",
    "df.columns"
   ]
  },
  {
   "cell_type": "markdown",
   "metadata": {},
   "source": [
    "Проведите первичный анализ."
   ]
  },
  {
   "cell_type": "code",
   "execution_count": 3,
   "metadata": {},
   "outputs": [],
   "source": [
    "# анализируемые признаки\n",
    "used_cols = [\n",
    "        'age', # гаусс, но обрезанный, только больше 12 лет где-то - https://prnt.sc/w82zxx  - можно попробовать нормировать\n",
    "    'workclass', \n",
    "    # 'fnlwgt', # пока не трогаю, оценку ухудшает\n",
    "    #  'education', # есть цифровой признак - этот не нужен - попробовал, ухудшает score\n",
    "        'educational-num', # можно попробовать нормировать - есть центральные максимумы, хвост слева, но посередине дырка\n",
    "       'marital-status', \n",
    "       'occupation', \n",
    "       'relationship', \n",
    "       'race', \n",
    "       'gender', # \n",
    "       'capital-gain', # распределение скорее пуассоновское \n",
    "      #  'capital-loss', # очень мало не 0 -  сильно (на 3%) ухудшает score. странно, может нужно с обратным знаком брать?\n",
    "       'hours-per-week',\n",
    "    #    'native-country', # интересно - ухудшает оценку\n",
    "    #    'income' - целевой признак\n",
    "       ]\n",
    "# нечисловые признаки\n",
    "cat_cols = ['gender', 'race', 'marital-status','occupation','relationship','education','workclass', 'native-country',\n",
    "#  'capital-loss'\n",
    " ]\n"
   ]
  },
  {
   "cell_type": "markdown",
   "metadata": {},
   "source": [
    "Проверьте данные на пропуски. Удалите в случае обнаружения. *Предложите альтернативный способ работы с пропусками.\n",
    "\n",
    "Тут пропусков нет, но вообще пропуски можно заполнять:\n",
    "* нулями, если это категориальный признак - потом такие строки будут выделены в отдельную колонку через one hot encoding и не помешают расчету\n",
    "* если это вещественный признак - построить модель, которая предскажет значение этих колонок по остальным (кроме целевой) - сложно, вносит искажения в данные\n",
    "* также для вещественного признака - взять среднее по выборке (или по какой-то подвыборке) - срендее между выбрасыванием и построением модели"
   ]
  },
  {
   "cell_type": "code",
   "execution_count": 10,
   "metadata": {},
   "outputs": [
    {
     "name": "stdout",
     "output_type": "stream",
     "text": [
      "<class 'pandas.core.frame.DataFrame'>\n",
      "RangeIndex: 48842 entries, 0 to 48841\n",
      "Data columns (total 16 columns):\n",
      " #   Column           Non-Null Count  Dtype \n",
      "---  ------           --------------  ----- \n",
      " 0   age              48842 non-null  int64 \n",
      " 1   workclass        48842 non-null  object\n",
      " 2   fnlwgt           48842 non-null  int64 \n",
      " 3   education        48842 non-null  object\n",
      " 4   educational-num  48842 non-null  int64 \n",
      " 5   marital-status   48842 non-null  object\n",
      " 6   occupation       48842 non-null  object\n",
      " 7   relationship     48842 non-null  object\n",
      " 8   race             48842 non-null  object\n",
      " 9   gender           48842 non-null  object\n",
      " 10  capital-gain     48842 non-null  int64 \n",
      " 11  capital-loss     48842 non-null  int64 \n",
      " 12  hours-per-week   48842 non-null  int64 \n",
      " 13  native-country   48842 non-null  object\n",
      " 14  income           48842 non-null  object\n",
      " 15  index1           48842 non-null  int64 \n",
      "dtypes: int64(7), object(9)\n",
      "memory usage: 6.0+ MB\n"
     ]
    }
   ],
   "source": [
    "# Пропусков нет.\n",
    "df.info()"
   ]
  },
  {
   "cell_type": "markdown",
   "metadata": {},
   "source": [
    "Постройте 1-2 графика на выбор. Визуализация должна быть основана на исследуемых данных и быть полезной (из графика можно сделать вывод об особенностях датасета/класса/признака)"
   ]
  },
  {
   "cell_type": "markdown",
   "metadata": {},
   "source": [
    "Посмотрим на колонку, значения которой предположительно нужно нормировать (до и после нормировки) - убедимся, что нормировка нужна и прошла корректно"
   ]
  },
  {
   "cell_type": "code",
   "execution_count": 11,
   "metadata": {},
   "outputs": [
    {
     "data": {
      "text/plain": [
       "array([[<AxesSubplot:title={'center':'hours-per-week'}>]], dtype=object)"
      ]
     },
     "execution_count": 11,
     "metadata": {},
     "output_type": "execute_result"
    },
    {
     "data": {
      "image/png": "[encoded data removed]",
      "text/plain": [
       "<Figure size 432x288 with 1 Axes>"
      ]
     },
     "metadata": {
      "needs_background": "light"
     },
     "output_type": "display_data"
    },
    {
     "data": {
      "image/png": "[encoded data removed]",
      "text/plain": [
       "<Figure size 432x288 with 1 Axes>"
      ]
     },
     "metadata": {
      "needs_background": "light"
     },
     "output_type": "display_data"
    }
   ],
   "source": [
    "\n",
    "scaler = StandardScaler()\n",
    "\n",
    "df['index1'] = df.index\n",
    "cols_to_norm = ['age',\n",
    "'educational-num',\n",
    " 'hours-per-week',\n",
    " 'capital-gain'\n",
    " ]\n",
    "dff = df.copy()\n",
    "\n",
    "df.hist(column='hours-per-week',bins=100) # before scaling\n",
    "dff[cols_to_norm] = pd.DataFrame(scaler.fit_transform(df[cols_to_norm]),columns=cols_to_norm)\n",
    "dff.hist(column='hours-per-week',bins=100) # after scaling"
   ]
  },
  {
   "cell_type": "markdown",
   "metadata": {},
   "source": [
    "Преобразуйте категориальные признаки."
   ]
  },
  {
   "cell_type": "code",
   "execution_count": 7,
   "metadata": {},
   "outputs": [
    {
     "name": "stderr",
     "output_type": "stream",
     "text": [
      "C:\\Users\\Sergei\\anaconda3\\envs\\uoit\\lib\\site-packages\\sklearn\\linear_model\\_logistic.py:762: ConvergenceWarning: lbfgs failed to converge (status=1):\n",
      "STOP: TOTAL NO. of ITERATIONS REACHED LIMIT.\n",
      "\n",
      "Increase the number of iterations (max_iter) or scale the data as shown in:\n",
      "    https://scikit-learn.org/stable/modules/preprocessing.html\n",
      "Please also refer to the documentation for alternative solver options:\n",
      "    https://scikit-learn.org/stable/modules/linear_model.html#logistic-regression\n",
      "  n_iter_i = _check_optimize_result(\n"
     ]
    },
    {
     "data": {
      "text/plain": [
       "0.8539521032386153"
      ]
     },
     "execution_count": 7,
     "metadata": {},
     "output_type": "execute_result"
    }
   ],
   "source": [
    "\n",
    "X = pd.get_dummies(dff[used_cols], columns=[c for c in cat_cols if c in used_cols])\n"
   ]
  },
  {
   "cell_type": "markdown",
   "metadata": {},
   "source": [
    "Разделите выборку на обучающее и тестовое подмножество. 80% данных оставить на обучающее множество, 20% на тестовое."
   ]
  },
  {
   "cell_type": "code",
   "execution_count": null,
   "metadata": {},
   "outputs": [],
   "source": [
    "\n",
    "le = LabelEncoder()\n",
    "le.fit( df['income'] )\n",
    "# le.classes_\n",
    "y = pd.Series( data = le.transform( df['income'] ) )\n",
    "\n",
    "X_train, X_test, y_train, y_test = train_test_split(X, y, test_size=0.33, random_state=42)\n"
   ]
  },
  {
   "cell_type": "markdown",
   "metadata": {},
   "source": [
    "Обучите модели **логистической регрессии** и опорных векторов на обучающем множестве.\n",
    "Для тестового множества предскажите уровень дохода и сравните с истинным значением, посчитав точность предсказания моделей. Для этого используйте встроенную функцию score."
   ]
  },
  {
   "cell_type": "code",
   "execution_count": 14,
   "metadata": {},
   "outputs": [
    {
     "data": {
      "text/plain": [
       "0.8545725276088845"
      ]
     },
     "execution_count": 14,
     "metadata": {},
     "output_type": "execute_result"
    }
   ],
   "source": [
    "\n",
    "model = LogisticRegression(max_iter=1000)\n",
    "model.fit( X_train, y_train )\n",
    "# predictions = model.predict_proba( X_train )\n",
    "# model.predict(X)\n",
    "model.score(X_test, y_test)"
   ]
  },
  {
   "cell_type": "markdown",
   "metadata": {},
   "source": [
    "0.8545725276088845 - со стандартизацией величин, которые как-то похожи на стандартные  \n",
    "0.8435910162551185 - просто за счет выбора колонок, без преобработки скейлерами"
   ]
  },
  {
   "cell_type": "markdown",
   "metadata": {},
   "source": [
    "Обучите модели логистической регрессии и **опорных векторов** на обучающем множестве.\n",
    "Для тестового множества предскажите уровень дохода и сравните с истинным значением, посчитав точность предсказания моделей. Для этого используйте встроенную функцию score."
   ]
  },
  {
   "cell_type": "code",
   "execution_count": 12,
   "metadata": {},
   "outputs": [
    {
     "data": {
      "text/plain": [
       "0.8604045166894155"
      ]
     },
     "execution_count": 12,
     "metadata": {},
     "output_type": "execute_result"
    }
   ],
   "source": [
    "model2 = SVC(kernel='rbf', degree=1, gamma='scale') \n",
    "X_train, X_test, y_train, y_test = train_test_split(X, y, test_size=0.33, train_size = 10000, random_state=42)\n",
    "\n",
    "model2.fit(X_train, y_train)\n",
    "model2.score(X_test,y_test)"
   ]
  },
  {
   "cell_type": "markdown",
   "metadata": {},
   "source": [
    "Выводы:\n",
    "SVC (метод опортных векторов) более продвинутый метод и с ядрами (отличными от линейного) дает лучше результат.\n",
    "Линейный классификатор не смотря на простоту при хорошей обработке данных не плохо справился с задачей. Он быстрее.\n",
    "\n",
    "Эксперименты с разными шкалами и размерами обучающей выборки дали такие результаты:\n",
    "0.8604045166894155 - с train_size = 10 000, kernel='rbf', gamma='scale' - лучше, чем у лин. регрессии  \n",
    "0.8509120238242959 - с train_size = 10 000, kernel='poly', degree=1  \n",
    "0.8451420771807917 - с train_size = 1 000, kernel='poly', degree=1  \n",
    "0.8489266658394342 - с train_size = 10 000, kernel='linear'"
   ]
  }
 ],
 "metadata": {
  "kernelspec": {
   "display_name": "Python 3",
   "language": "python",
   "name": "python3"
  },
  "language_info": {
   "codemirror_mode": {
    "name": "ipython",
    "version": 3
   },
   "file_extension": ".py",
   "mimetype": "text/x-python",
   "name": "python",
   "nbconvert_exporter": "python",
   "pygments_lexer": "ipython3",
   "version": "3.8.5"
  },
  "orig_nbformat": 2
 },
 "nbformat": 4,
 "nbformat_minor": 2
}
