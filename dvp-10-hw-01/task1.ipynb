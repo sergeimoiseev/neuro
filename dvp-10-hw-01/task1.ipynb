{
 "metadata": {
  "language_info": {
   "codemirror_mode": {
    "name": "ipython",
    "version": 3
   },
   "file_extension": ".py",
   "mimetype": "text/x-python",
   "name": "python",
   "nbconvert_exporter": "python",
   "pygments_lexer": "ipython3",
   "version": "3.7.6-final"
  },
  "orig_nbformat": 2,
  "kernelspec": {
   "name": "python3",
   "display_name": "Python 3",
   "language": "python"
  }
 },
 "nbformat": 4,
 "nbformat_minor": 2,
 "cells": [
  {
   "cell_type": "code",
   "execution_count": 1,
   "metadata": {},
   "outputs": [],
   "source": [
    "import pandas as pd\n",
    "import numpy as np\n",
    "from sklearn.preprocessing import LabelEncoder\n",
    "from sklearn.linear_model import LogisticRegression\n",
    "\n",
    "from sklearn.pipeline import make_pipeline\n",
    "from sklearn.preprocessing import OneHotEncoder, StandardScaler\n",
    "from sklearn.model_selection import train_test_split\n",
    "\n",
    "# from sklearn.pipeline import Pipeline, FeatureUnion\n",
    "# from sklearn.preprocessing import OneHotEncoder, StandardScaler\n",
    "\n",
    "from sklearn.svm import SVC\n",
    "\n",
    "import matplotlib.pyplot as plt"
   ]
  },
  {
   "cell_type": "code",
   "execution_count": 2,
   "metadata": {},
   "outputs": [
    {
     "output_type": "execute_result",
     "data": {
      "text/plain": [
       "Index(['age', 'workclass', 'fnlwgt', 'education', 'educational-num',\n",
       "       'marital-status', 'occupation', 'relationship', 'race', 'gender',\n",
       "       'capital-gain', 'capital-loss', 'hours-per-week', 'native-country',\n",
       "       'income'],\n",
       "      dtype='object')"
      ]
     },
     "metadata": {},
     "execution_count": 2
    }
   ],
   "source": [
    "# читаем датасет\n",
    "df = pd.read_csv( 'adult.csv' )\n",
    "# все признаки\n",
    "df.columns"
   ]
  },
  {
   "cell_type": "code",
   "execution_count": 3,
   "metadata": {},
   "outputs": [
    {
     "output_type": "execute_result",
     "data": {
      "text/plain": [
       "0.844682854919946"
      ]
     },
     "metadata": {},
     "execution_count": 3
    }
   ],
   "source": [
    "# анализируемые признаки\n",
    "used_cols = [\n",
    "        'age', \n",
    "    'workclass', \n",
    "    # 'fnlwgt', # пока не трогаю, оценку ухудшает\n",
    "    #  'education', # есть цифровой признак - этот не нужен - попробовал, ухудшает score\n",
    "        'educational-num',\n",
    "       'marital-status', \n",
    "       'occupation', \n",
    "       'relationship', # пока не трогаю\n",
    "       'race', # пока не трогаю\n",
    "       'gender', # \n",
    "       'capital-gain', # пока не трогаю\n",
    "    #    'capital-loss', # пока не трогаю -  сильно (на 3%) ухудшает score. странно, может нужно с обратным знаком брать?\n",
    "       'hours-per-week',\n",
    "    #    'native-country', # интересно - ухудшает оценку\n",
    "    #    'income' - целевой признак\n",
    "       ]\n",
    "# нечисловые признаки\n",
    "cat_cols = ['gender', 'race', 'marital-status','occupation','relationship','education','workclass', 'native-country']\n",
    "\n",
    "# TODO - использовать обучающую и тестовоую выборки\n",
    "X = df[used_cols]\n",
    "X = pd.get_dummies(X, columns=[c for c in cat_cols if c in used_cols])\n",
    "le = LabelEncoder()\n",
    "le.fit( df['income'] )\n",
    "# le.classes_\n",
    "y = pd.Series( data = le.transform( df['income'] ) )\n",
    "model = LogisticRegression()\n",
    "model.fit( X, y )\n",
    "predictions = model.predict_proba( X )\n",
    "model.predict(X)\n",
    "model.score(X, y)"
   ]
  },
  {
   "source": [
    "0.844682854919946 - максимальный score на 2020-12-21--21-10 - просто за счет выбора колонок\n"
   ],
   "cell_type": "markdown",
   "metadata": {}
  },
  {
   "cell_type": "code",
   "execution_count": 20,
   "metadata": {},
   "outputs": [
    {
     "output_type": "execute_result",
     "data": {
      "text/plain": [
       "0.792"
      ]
     },
     "metadata": {},
     "execution_count": 20
    }
   ],
   "source": [
    "model2 = SVC(kernel='poly', degree=2) # TODO зависает на большой выборке - посмотреть на нормальный размер выборки\n",
    "# TODO нормировать нормальные величины (и тут, и в линейной?)\n",
    "model2.fit( X[:100], y[:100] )\n",
    "# model2.predict_proba(X)[:5]\n",
    "model2.score(X[500:1000],y[500:1000])"
   ]
  },
  {
   "cell_type": "code",
   "execution_count": null,
   "metadata": {},
   "outputs": [],
   "source": [
    "# TODO - переписать на pipeline вроде этого отсюда https://medium.com/bigdatarepublic/integrating-pandas-and-scikit-learn-with-pipelines-f70eb6183696\n",
    "\n",
    "transformer = Pipeline([\n",
    "    ('features', FeatureUnion(n_jobs=1, transformer_list=[\n",
    "        # Part 1\n",
    "        ('boolean', Pipeline([\n",
    "            ('selector', TypeSelector('bool')),\n",
    "        ])),  # booleans close\n",
    "        \n",
    "        ('numericals', Pipeline([\n",
    "            ('selector', TypeSelector(np.number)),\n",
    "            ('scaler', StandardScaler()),\n",
    "        ])),  # numericals close\n",
    "        \n",
    "        # Part 2\n",
    "        ('categoricals', Pipeline([\n",
    "            ('selector', TypeSelector('category')),\n",
    "            ('labeler', StringIndexer()),\n",
    "            ('encoder', OneHotEncoder(handle_unknown='ignore')),\n",
    "        ]))  # categoricals close\n",
    "    ])),  # features close\n",
    "])  # pipeline close"
   ]
  }
 ]
}